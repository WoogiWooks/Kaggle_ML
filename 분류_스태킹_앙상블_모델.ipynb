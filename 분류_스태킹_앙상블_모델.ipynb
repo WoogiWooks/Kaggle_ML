{
  "nbformat": 4,
  "nbformat_minor": 0,
  "metadata": {
    "colab": {
      "name": "분류_스태킹 앙상블 모델",
      "provenance": [],
      "collapsed_sections": [],
      "authorship_tag": "ABX9TyMw5dptpeIGjzkHogiyU5Hq",
      "include_colab_link": true
    },
    "kernelspec": {
      "name": "python3",
      "display_name": "Python 3"
    },
    "language_info": {
      "name": "python"
    }
  },
  "cells": [
    {
      "cell_type": "markdown",
      "metadata": {
        "id": "view-in-github",
        "colab_type": "text"
      },
      "source": [
        "<a href=\"https://colab.research.google.com/github/WoogiWooks/Kaggle_ML/blob/main/%EB%B6%84%EB%A5%98_%EC%8A%A4%ED%83%9C%ED%82%B9_%EC%95%99%EC%83%81%EB%B8%94_%EB%AA%A8%EB%8D%B8.ipynb\" target=\"_parent\"><img src=\"https://colab.research.google.com/assets/colab-badge.svg\" alt=\"Open In Colab\"/></a>"
      ]
    },
    {
      "cell_type": "code",
      "execution_count": null,
      "metadata": {
        "id": "uy2j1Huy9GvJ"
      },
      "outputs": [],
      "source": [
        "import numpy as np\n",
        "\n",
        "from sklearn.neighbors import KNeighborsClassifier\n",
        "from sklearn.ensemble import RandomForestClassifier\n",
        "from sklearn.ensemble import AdaBoostClassifier\n",
        "from sklearn.tree import DecisionTreeClassifier\n",
        "from sklearn.linear_model import LogisticRegression\n",
        "\n",
        "from sklearn.model_selection import train_test_split\n",
        "from sklearn.metrics import accuracy_score"
      ]
    },
    {
      "cell_type": "code",
      "source": [
        "from sklearn.datasets import load_breast_cancer\n",
        "\n",
        "cancer = load_breast_cancer()\n",
        "X_data = cancer.data\n",
        "y_label = cancer.target\n",
        "\n",
        "X_train, X_test, y_train, y_test = train_test_split(X_data, y_label, test_size=0.2, random_state=0)"
      ],
      "metadata": {
        "id": "RLh3265nEZjw"
      },
      "execution_count": null,
      "outputs": []
    },
    {
      "cell_type": "markdown",
      "source": [
        "# **기본 스태킹 모델**\n",
        "* 스태킹 => 각각의 모델들을 최적 파라미터로 튜닝하여 최적으로 학습하여 스태킹 진행하여야 하므로 개인이 하기에는 시간이 많이 소요됨"
      ],
      "metadata": {
        "id": "662WkYDII1zl"
      }
    },
    {
      "cell_type": "code",
      "source": [
        "# 개별 모델 각각 만들어 결과를 합침\n",
        "# 해당 예제에서 사용할 개별 모델 : KNN, RandomForest, DecisionTree, AdaBoost\n",
        "\n",
        "knn = KNeighborsClassifier(n_neighbors=4)\n",
        "rf = RandomForestClassifier(n_estimators=100, random_state=0)\n",
        "dt = DecisionTreeClassifier()\n",
        "ada = AdaBoostClassifier(n_estimators=100)"
      ],
      "metadata": {
        "id": "EZalWH53EyY3"
      },
      "execution_count": null,
      "outputs": []
    },
    {
      "cell_type": "code",
      "source": [
        "# 개별 모델의 스태킹으로 만들어진 데이터 세트로 학습 및 예측할 최종 모델 : LogisticRegression\n",
        "\n",
        "lr = LogisticRegression(C=10)\n"
      ],
      "metadata": {
        "id": "6WuBJdWOFWTW"
      },
      "execution_count": null,
      "outputs": []
    },
    {
      "cell_type": "code",
      "source": [
        "# 개별 모델 학습\n",
        "\n",
        "knn.fit(X_train, y_train)\n",
        "rf.fit(X_train, y_train)\n",
        "dt.fit(X_train, y_train)\n",
        "ada.fit(X_train, y_train)"
      ],
      "metadata": {
        "colab": {
          "base_uri": "https://localhost:8080/"
        },
        "id": "krskb3z_FfmX",
        "outputId": "98a2814a-aed0-48c4-ac3e-d47c2a4a332b"
      },
      "execution_count": null,
      "outputs": [
        {
          "output_type": "execute_result",
          "data": {
            "text/plain": [
              "AdaBoostClassifier(n_estimators=100)"
            ]
          },
          "metadata": {},
          "execution_count": 5
        }
      ]
    },
    {
      "cell_type": "code",
      "source": [
        "knn_pred = knn.predict(X_test)\n",
        "rf_pred = rf.predict(X_test)\n",
        "dt_pred = dt.predict(X_test)\n",
        "ada_pred = ada.predict(X_test)\n",
        "\n",
        "print(accuracy_score(y_test, knn_pred))\n",
        "print(accuracy_score(y_test, rf_pred))\n",
        "print(accuracy_score(y_test, dt_pred))\n",
        "print(accuracy_score(y_test, ada_pred))"
      ],
      "metadata": {
        "colab": {
          "base_uri": "https://localhost:8080/"
        },
        "id": "I-19rpOaF0T3",
        "outputId": "3d5dccbd-bf17-404b-f7c8-f417aab03e33"
      },
      "execution_count": null,
      "outputs": [
        {
          "output_type": "stream",
          "name": "stdout",
          "text": [
            "0.9210526315789473\n",
            "0.9649122807017544\n",
            "0.9035087719298246\n",
            "0.956140350877193\n"
          ]
        }
      ]
    },
    {
      "cell_type": "code",
      "source": [
        "pred = np.array([knn_pred, rf_pred, dt_pred, ada_pred])\n",
        "pred1 = np.transpose(pred)\n",
        "\n",
        "print(pred.shape)\n",
        "print(pred1.shape)\n",
        "pred1"
      ],
      "metadata": {
        "colab": {
          "base_uri": "https://localhost:8080/"
        },
        "id": "kfm8Isj6GWPY",
        "outputId": "ed240a91-1b08-42c1-d84b-97a869184816"
      },
      "execution_count": null,
      "outputs": [
        {
          "output_type": "stream",
          "name": "stdout",
          "text": [
            "(4, 114)\n",
            "(114, 4)\n"
          ]
        },
        {
          "output_type": "execute_result",
          "data": {
            "text/plain": [
              "array([[0, 0, 0, 0],\n",
              "       [1, 1, 1, 1],\n",
              "       [1, 1, 1, 1],\n",
              "       [0, 1, 0, 1],\n",
              "       [1, 1, 1, 1],\n",
              "       [1, 1, 1, 1],\n",
              "       [1, 1, 1, 1],\n",
              "       [1, 1, 1, 1],\n",
              "       [1, 1, 1, 1],\n",
              "       [1, 1, 1, 1],\n",
              "       [0, 0, 0, 1],\n",
              "       [1, 1, 1, 1],\n",
              "       [1, 1, 1, 1],\n",
              "       [0, 0, 0, 0],\n",
              "       [0, 0, 1, 1],\n",
              "       [0, 0, 0, 0],\n",
              "       [1, 1, 1, 1],\n",
              "       [0, 0, 0, 0],\n",
              "       [0, 0, 0, 0],\n",
              "       [0, 0, 0, 0],\n",
              "       [0, 0, 0, 0],\n",
              "       [0, 0, 0, 0],\n",
              "       [1, 1, 1, 1],\n",
              "       [1, 1, 1, 1],\n",
              "       [0, 0, 0, 0],\n",
              "       [1, 1, 1, 1],\n",
              "       [1, 1, 1, 1],\n",
              "       [1, 0, 0, 0],\n",
              "       [1, 1, 1, 1],\n",
              "       [0, 0, 0, 0],\n",
              "       [1, 1, 1, 1],\n",
              "       [0, 0, 0, 0],\n",
              "       [1, 1, 1, 1],\n",
              "       [0, 0, 0, 0],\n",
              "       [1, 1, 1, 1],\n",
              "       [0, 0, 0, 0],\n",
              "       [1, 1, 1, 1],\n",
              "       [0, 0, 0, 0],\n",
              "       [1, 1, 1, 1],\n",
              "       [0, 0, 0, 0],\n",
              "       [0, 0, 1, 0],\n",
              "       [1, 1, 1, 1],\n",
              "       [0, 0, 0, 0],\n",
              "       [1, 1, 1, 1],\n",
              "       [0, 1, 0, 1],\n",
              "       [0, 0, 0, 0],\n",
              "       [1, 1, 1, 1],\n",
              "       [1, 1, 1, 1],\n",
              "       [1, 1, 1, 1],\n",
              "       [0, 0, 0, 0],\n",
              "       [0, 0, 0, 0],\n",
              "       [1, 0, 0, 0],\n",
              "       [0, 0, 0, 0],\n",
              "       [1, 1, 1, 1],\n",
              "       [1, 1, 1, 1],\n",
              "       [1, 1, 1, 1],\n",
              "       [1, 1, 0, 1],\n",
              "       [1, 1, 1, 1],\n",
              "       [1, 1, 0, 1],\n",
              "       [0, 0, 0, 0],\n",
              "       [0, 0, 0, 0],\n",
              "       [0, 0, 0, 0],\n",
              "       [1, 1, 1, 1],\n",
              "       [1, 1, 1, 1],\n",
              "       [0, 0, 0, 0],\n",
              "       [1, 1, 0, 0],\n",
              "       [0, 0, 0, 0],\n",
              "       [0, 0, 0, 0],\n",
              "       [0, 0, 0, 0],\n",
              "       [1, 1, 1, 1],\n",
              "       [1, 1, 1, 1],\n",
              "       [0, 0, 0, 0],\n",
              "       [1, 1, 1, 1],\n",
              "       [1, 1, 1, 1],\n",
              "       [0, 0, 0, 0],\n",
              "       [1, 1, 1, 1],\n",
              "       [1, 1, 1, 1],\n",
              "       [1, 1, 1, 1],\n",
              "       [1, 1, 1, 1],\n",
              "       [1, 1, 1, 1],\n",
              "       [0, 0, 0, 0],\n",
              "       [0, 0, 0, 0],\n",
              "       [0, 0, 0, 0],\n",
              "       [1, 1, 1, 1],\n",
              "       [0, 0, 0, 0],\n",
              "       [1, 1, 1, 1],\n",
              "       [1, 1, 1, 1],\n",
              "       [1, 1, 1, 1],\n",
              "       [0, 0, 0, 0],\n",
              "       [0, 0, 0, 0],\n",
              "       [1, 1, 1, 1],\n",
              "       [0, 0, 0, 1],\n",
              "       [1, 1, 1, 1],\n",
              "       [0, 0, 0, 0],\n",
              "       [1, 1, 1, 1],\n",
              "       [1, 1, 1, 1],\n",
              "       [0, 0, 0, 0],\n",
              "       [1, 1, 1, 1],\n",
              "       [1, 1, 1, 1],\n",
              "       [1, 1, 1, 1],\n",
              "       [1, 1, 1, 1],\n",
              "       [1, 1, 1, 1],\n",
              "       [1, 1, 1, 1],\n",
              "       [1, 1, 0, 1],\n",
              "       [0, 0, 0, 0],\n",
              "       [1, 1, 1, 1],\n",
              "       [0, 0, 0, 0],\n",
              "       [0, 1, 1, 1],\n",
              "       [0, 0, 0, 1],\n",
              "       [0, 0, 1, 0],\n",
              "       [1, 1, 1, 1],\n",
              "       [0, 0, 0, 0],\n",
              "       [0, 0, 0, 0],\n",
              "       [1, 1, 1, 1]])"
            ]
          },
          "metadata": {},
          "execution_count": 13
        }
      ]
    },
    {
      "cell_type": "code",
      "source": [
        "# 만들어진 데이터로 학습\n",
        "lr.fit(pred1, y_test)\n",
        "final_pred = lr.predict(pred1)\n",
        "print(accuracy_score(y_test, final_pred))"
      ],
      "metadata": {
        "colab": {
          "base_uri": "https://localhost:8080/"
        },
        "id": "T_IKdqdOIbkm",
        "outputId": "8efad480-039b-4250-9c34-9fbaa75ae6d2"
      },
      "execution_count": null,
      "outputs": [
        {
          "output_type": "stream",
          "name": "stdout",
          "text": [
            "0.9736842105263158\n"
          ]
        }
      ]
    },
    {
      "cell_type": "markdown",
      "source": [
        "# **CV세트 기반 스태킹 모델**\n",
        "* 오버피팅 개선을 위해 최종 메타모델을 위한 데이터세트 만들 때, 교차 검증 기반의 예측 결과 데이터세트를 이용\n",
        "* 앞 예제에서 마지막 메타모델의 학습 시 y_test를 사용했기에 오버피팅 발생 가능\n",
        "* 개별 모델들이 각각 교차 검증을 통해 최종 메타모델의 학습을 위한 스태킹 데이터와 테스트를 위한 스태킹 데이터를 생성함\n",
        "\n",
        "![K-007.png](data:image/png;base64,iVBORw0KGgoAAAANSUhEUgAAAzgAAAINCAIAAAB9Lk1/AADt0klEQVR42uyddZyUVfv/B5TuLgnp7u4u6Q5BWjpleUB5KOmQEKSku6QlvnRICQiswEMvLg0LKwoCyu/tXC/O73ZmQJhZdmaX6/PHvmbvOHGd65zrfe44d4Tnz5/bVCqVSqVSqVS+pwgKaiqVSqVSqVS+KQU1lUqlUqlUKh+VgppKpVKpVCqVj0pBTaVSqVQqlcpHpaCmUqlUKpVK5aNSUFOpVCqVSqXyUSmoqVQqlUqlUvmoFNRUKpVKpVKpfFQKaiqVSqVSqVQ+KgU1lUqlUqlUKh+VgppKpVKpVCqVj0pBTaVSqVQqlcpHpaCmUqlUKpVK5aNSUFOpVCqVSqXyUSmoqVQqlUqlUvmoFNRUKpVKpVKpfFQKaiqVSqVSqVQ+KgU1lUqlUqlUKh+VgppKpVKpVCqVj0pBTaVSqVQqlcpHpaCmUqlUKpVK5aNSUFOpVCqVSqXyUSmoqVQqlUqlUvmoFNRUKpVKpVKpfFQKaiqVSqVSqVQ+KgU1lUqlUqlUKh+VgppKpVKpVCqVj0pBTaVSqVQqlcpHpaCmUqlUKpVK5aNSUFOpVCqVSqXyUSmoqVQqlUqlUvmoFNRUKpVKpVKpfFQKaiqVSqVSqVQ+KgU1lUqlUqlUKh+VgppKpVKpVCqVj0pBTaVSqVQqlcpHpaCmUqlUKpVK5aNSUFOpVCqVSqXyUSmoqVQqlUqlUvmoFNRUKpVKpVKpfFQKaiqVSqVSqVQ+KgU1lUqlUqlUKh+VgppKpVKpVCqVj0pBTaVSqVQqlcpHpaCmUqlUKpVK5aNSUFOpVCqVSqXyUSmoqVQqlUqlUvmoFNRUKpVKpVKpfFQKaiqVSqVSqVQ+KgU1lUqlUqlUKh+VgppKpVKpVCqVj0pBTaVSqVQqlcpHpaCmUqlUKpVK5aNSUFOpVCqVSqXyUSmoqVQqlUqlUvmoFNRUKpVKpVKpfFQKaiqVSqVSqVQ+KgU1lUqlUqlUKh9VGAM1Ke1ff/3l7YK8K4oYMWKECBG8XQqVSqVSqd5RhTFQA9HOnTs3d+7c9957z/PUoJAQYb5wmQ6JRI0a1c/PL0RMrVKpVCqVyg2FMVD7888/d+zYUbt27datW3t4pefhw4cHDhyoUKGCJxbg3KCgIIpUv359D9no1q1bu3fvrlu3rif1ojzPnj3bv39/qVKlPCkM6dy+fXvr1q2BgYGRIkXyJCmVSqVSqVRuK4yBGjD0ww8/NGvW7MyZMx5e6QFBBg4c+O2333oCWFjv5MmTffr0+f777z0pDOkcP378s88+g40iRozodjqA7O+///7FF19MmjTJw3odPHjw448//t///qegplKpVCqVtxQmQS1EAOKXX37573//C6j9bQV3L2JRnp9++uk///kPoOYJYNEKP/74I6D2f//3f++//77b6QBqv/766+eff/711197WK+QsrNKpVKpVCq3paCmoOa6XgpqKpVKpVJ5XQpqCmqu66WgplKpVCqV16WgpqDmul4KaiqVSqVSeV0KagpqruuloKZSqVQqldeloKag5rpeCmoqlUqlUnldCmoKaq7rpaCmUqlUKpXXpaCmoOa6XgpqKpVKpVJ5XQpqCmqu66WgplKpVCqV16WgpqDmul4KaiqVSqVSeV0KagpqruuloKZSqVQqldeloKag5rpeCmoqlUqlUnldCmoKaq7rpaCmUqlUKpXXpaCmoOa6XgpqKpVKpVJ5XQpqCmqu6xW2QO3u3bsU1e36+riiRo2aK1cumwcN+vqSAeH06dM4UtgaHF5fH3zwQYoUKULQmBgKiwUHB3u7Zm9F1C5fvnyRI0cOwQSfPn3KiKcdVqV6HSmoKai5rlfYArWvvvoqICAgVqxYnrSCb4q2mDt37qVLlyLY9bazkwGhQIEC1apV83bV30rtbt68iVfT0ULQVcCOMmXKlC9f3tv1C3kxpBw5cqRv374lS5YMwTRPnTpVv379xo0bhz+UCeUOq3oXpKCmoOa6XmEL1MaPH1+rVq1EiRJ5Yj2fVdmyZffs2ROaoEaO27dv/+OPP8JZpKF2Z86c6dGjx7Zt20IQ1J49e1a6dOmdO3fyI5xZ7MmTJwyS+fPnL168eEilyTB18uTJ7t27M9zx29tVDHmFZodVvQtSUFNQc12vsAhqH3zwQfgDNYGA3bt3hyaolStXDpSxhbt7N4IIPXv2DNkraqHcRqEpYP2bb755G6AW4q3gIwrHzqDylhTUFNRc1yscgJpL38ZE7733HoMpR77MPs9fiDYNkaFWSiJZ296wXXwE1FwaEz+RYygkfvIKe1J3MaZ37RnKoOZsNCzGAeJdFN5lyeWsV7uoexYjd7HY6ys0Qc2lj4lryaXKV/RHee7tFU7oXjkjvNDrn6WgpgpxKagpqLmuV/gDNSr1+++/f/nll35+fhUrVqTJEidOzPaAgIBEiRJFjRqV37du3bp//37atGmXL1/++PHjFi1aODcr6RASHDZymIRVMg0KCvL39zd2y5s3L2Epc+bMRKahQ4fGjx//jVzFl0Ft586d9KNs2bJhKBxYjH/69OksWbLIARcuXIgTJ06CBAm6dOnSrFmzggULOtRdGM75/hdJSVTmgIsXL964ccMwWaFChXBO/rZr127GjBm2MAVqY8eOrVmz5rp1665duzZ69Gib3Z3Onj1rLHb06FFchbKVKVOGw/BM59YhO0FkqyJHjixZs+vgwYOmGKSQPHnyS5cu0Tvmzp1LQ7xR1bwLahzZuHFjOmOdOnUYjmrUqIEbPHz4kH5KJ5VjDhw4gDPcvHmzUqVKOKHDeCVp0mEdEsc+ciQ/2Esi8i/Wy5AhA3/xwB07dqRIkaJw4cIKairvKkyCGiM+Q5uHN7kCAwMHDBgwc+ZMD8tz4sQJATVP+iStwAAtoPamU16rGNcYxb744otJkyZ5WC/G+qZNm4ZpUKMWmPTYsWP8hl9bt27dpEmTPn36wGqwBQ2XJEkScy7BDMsvWLCA6Dh8+PDVq1dHiRKlc+fOzuH8ypUrs2fPdtgIjVWrVo2DGaY3b97MHIB/xSW6du1aqlSpRYsWDRkyBIBOmDChQ3CSPgjewXDOXuQ7oIZwCZiJ8vN33rx5xEtALWfOnMTI27dvi/Fr1669atUqsX+PHj3AjsqVKxOVaQuCvUMVSHPTpk04m0MxsF6+fPkE1Lp164bNc+fOTb40Su/evdlFZCVyE8JtTjQZHBx87949jBkrViwHo4UyqFESOIPpAXlBPIwSI0eObN68+cKFC69evcoskQI/evTok08+WbZsmZxC1caMGQMfAGpMAmUu4dA68+fPB14dyoCv4lo2+1NlGTNmxKXjxo3Lv9iNJmCGwJgwefJkZnEOCdJMUA5n0QVksmGtQiiD2vnz5z/99FP598MPP5w2bRqG3bt3L3/btm3bsGFDOunhw4fxvYkTJ8opuN93331H9xEndAlq48aNYwQwG6kgXNurVy+5Anfnzh2GDvmXveAggwbOg01SpkxZsmRJZ6cVO9MLOMDBkRTUVCGuMAlqTEk9BCybfUGHxYsXEwM8eZoV6xGrGMgI7YxonqTDlHfWrFnEck/69l92kU6HDh08rBcjJsP6uXPnwi6oGd/mx4QJE6JFi0bUJMwTtATUkiZNyl7i4tq1a+X6Da1JxTmSSfaIESM6derkHM7xQFKAzkmWU7Dz9u3bGeuJHHJTFVBbsmQJLkpbPH78mFMYuAE1JgZTpkxJkCCBlcXllg1cOGrUqH379gEiDtn5DqhZj+EA6gulBQQE5MqVCxQzoFa2bFmMJmCHMWEmXAgcISq7BLW+ffvGjBmTOpqN9IJGjRqBL5JOly5dcuTIwb+YQi6NkAWtADWuXLnSoZCYvV+/fhwWPXp0wIgobj3AW1fU8IQCBQoAHMOGDWOeKaBGPxVQg/KJ93Kj7dChQxHtYsbFMcmSJXNuHVAYapF3nMV/MBfOkyFDBtsLUAN/AR0GJZKljcaOHUt7MU9gFmdNkHPLly+PTSgh0wnA1+HuobeuqAFezKnoLwArditRogQARzXpO0eOHKlXr1769OkpM6fv2rUL/xGmfxmoYXwmV/fv35eqMfjTCtevX8dJ2IKLpkmT5vLly3R86ssp9EfMS9OkSpXqZaBGr2fixwgZO3bs13EGlcpthVVQI6p5UnLpnGvWrGndurWHQEOfZ4JL2PYE1Gz2G3BEdzDCwytzCABl1u7h61SAI9PWCxcuhHVQk5tr+fLlA5UIh86g9tVXXzEcy4Uu6ISGmDp1KnX/7bffQASXoDZjxgxz05xQt2DBggMHDhBUDKgtW7aMMAymEPk4hl1btmxxCWqElurVq7ORHwQk59WqfA3U+PHgwYMsWbIQoiiwXOuyghrdkxArrggcNGzYkKYhLjJ5INw6xzw/Pz/iaIMGDWQLfRwCowCtWrUyoAZv0VUx7NGjR8kFD8fgLkEN0EmRIkWSJEk4AKCheBKM5YDQBzXRqVOnwEfmA/jAxx9/jCtaQa1+/frslVPatGmzatUquCFTpkw//vij8xU1hD1xJBgOR+JfJgMg2o4dO6ygtnXrVkBtzpw5N27coL1u3rzpEtSwNl6aOnVqfmNh+gXNYfXP0Ac1+YuJICccyRnUDh8+TJ9lEiVnde7cmS7JOJw9e/aXgVqhQoXkqq20Dsanpg6gFhgYSF+ma9OaP/30Ew7pEtQkQWxeqVIl0vH39yeR13EGlcpthUlQ02fUXiZ5Rs3c+nzHn1GzvQhs1KJbt24bN258+PAh43u7du0I4T///LPc+mTQz5w5MxERcxHemAPAc0zoaY6XXVFzADVInTBgBTViMK0g19uImgS5l11RIyPGdJARHPFlUDN78Q3AlECLoaDPI0eOwAcEUQNqNMSgQYNsdi/CD3ft2hU7dmzwl3mRyytq/wpqXbt2xWjwn5wLIxJ34bAmTZo4g5r8lYuj6dKlY74BgnsL1IzF2rdvX6FChXr16jHmUPh169bhNgbU4I8hQ4bI8bK0GJ3uzJkzkIrzFbXXBDWYjO7Av2AEh9EiLkFNEhRHZQ5Dj+Cvt0DNtCBzpFy5cuFdcBKgNnnyZCCye/fuBtSoCKfL8cWKFaO+GBkfcxvUyAiHp/dRnvjx4+O0UaNGfRmoUf6OHTuyffDgwcePH1dQU71tKaiFQ1DTlwmMJA4xymNbRnNG3jx58nAYtbty5YpEQTBr5syZDK9iwCpVqhAS5syZgxHAO5egNmzYMIwsN5oxMq0GFsitT1KgKWELGb4JOVOnTpWLKMRIMoIbHG59kgi44/ugZsYKykMQpaggaY8ePeCws2fPGlCDboFgQIRzMfiIESMKFy7crFmzzp07y11Rh+zoPnHjxiUey70/Dhg4cCDcJm9ycADOvHz5cowmt6cXL14M9ABqdevWXb9+vctCCj2vWLECJLK+XBn6V9RoXHyAulAFcuzfvz9EFRgYiIVxBg6Aq+APWEGqz198DzDNmTMnXpE8eXLn1mGaAflhdg7G5lQWBDS3PikMliFTeeEArqVF8Niv7XIANUQbHTt2jLxOnTo1YcIEAMVbtz5NBWF6aAx45UgMS1eidtOnTxdQw9k6dOggN8E5PV68eLQ17kchX3Hrc968ecHBwfJm6N27dwFiA2oPHjyoUaOGeBf2ZASIFi0aPollUqdOjWc6zAT2799PIzI5gREV1FShIAU1BTXX9QrroGZWcCA0Pnz4cNy4cfLcT9++fZkHW18m4EigjehoTZA4V7FiRaLpy14mkPtZly5dYoi3WV4mMBd1CMYCf+jGjRvwGfGA6Ou8goDcsPNxUBPkxYAgF0GuYcOGbATUqCaVgpwMqNnsgZYAZk0WEAEXYOWXvUzAD1IjLmbOnJljrC8TIIxARuYsOi9tjT0dPtQjBz9+/HjMmDEXLlwAkeVlXq+AmlAaHoJnLlmyBJdjI95ofUbNpIBHBQQEWM0ir4XKCwEOrWNeJoBd6tSpI+8QmJcJxAg48J07d0ytsZUklS5dOofC45wYinGDH0xRwB0vPqOGYCBIfePGjTFixMCA8jJBqVKl2rZtK6AmR9Kj8UZzLkfigZMmTXKeqtlevEzAbyzGtI0+aH2ZQPLFXBhNzgLRpJy4GXYTg8hhEC2wy7yLLdgExnXwMQU1VYhLQU1BzXW9wgGoYQ1MSsAjTGIKKsXI7vyMGiKMARbmXIZaGgKM69ixo2lWsxKVPL7N3+XLl3PYtGnT5DqQrCghBxPeCC1Yz/QvjmGaTi4Otz5tYQTUZHGTunXrfvTRR2aJB9AKbDUvE4iryJsxmN2KLEOGDIFRihUr5nzBySzP0aNHD2oKomEfMaZc5OCYn3/+GRaU8GnsmSVLln379tn+CWpPnjxp3rw53EzTS3N4661PgXWKPXPmzCJFish2B1ATSmC7v7+/edRdagENU1TrM2rmiTdxPw4uWLDg4sWLP/zwQ/bKayhiMQ4gC+xpHd7Z3q1bNxjIoa0lOwxOa44YMQJOsg5BoQxqO3fupPkYfFKkSCFHCqiZZ9QomxT78OHD1lVy7t69y4nWK2qmdsZinEtFSE0qyJFmbT98rFWrVqtXr7aWk43fffdd2bJlTbvwt2jRovgn58rHtcqXL8+0xKagpnqbUlBTUHNdr3AAamDZihUr6tWrFzNmTKnUy0ANfrKuxCGvj3Xo0MH6MoGM+NhWsuA3wRUiMctwYHxiSapUqeQ3RSJ4WEFty5YtmzZtih8/flgENbYHBAQQmWrUqCEWYBfVcQlqY8eOJXpZS3v27Fm4lmBv7SbyqqwJqIBCmjRpMmbMaADLz8+PtmPXjRs3pkyZYg3M7D169CgFsP3zglnbtm3z5ctHQxgjexHUDhw4QIPmyZPHbHwZqHXt2pWRxCSIrwIieJf11idHcow8lieaMWNGnTp1ZFUXEWOa3H/HvZctW2Z9BYSNsWPH5gCHthbmI8dFixZRsA0bNnjrGTXKgNuQlzxdF8G+kPLLQI3+HhQUZG0CaN4Z1EgQpzX2x2IAmbksR17y7CO/GSvwKGuHJUFglxmXFdSOHTvGjMVmX/GHIWL+/PliGQU11duTgpqCmut6hQNQsx4gT/9YQY1QIbc+bfY1MxnBZc0XMyjLy/8Ot9W6detmsjBzcWP87t27y+UNwhsxoEyZMvIQmxwQI0YM4nT06NEdXEWiMqF6z549PgtqDiaV7bi9dXkOA2p9+vQpUKBA/fr1rScKEFgTvHXr1ogRI0yyZlEPk8WgQYNixYol3/Ami7p161qLmi5dOgxubTJIrmjRoniCoDnbKQM4bgweyqDmfKRLUEPwFn1W3g94mcVklOBckxpVMO4nvjpy5EhSkCtq48aNs75my4/y5cvLnfoIL5bGvXbtWq9evfLmzXv//v0dO3bAzfit1TJeXPDWCmolS5Zs166dFdSKFCnCGGVtfQfnlC3QKr3b7BKKNdkVLly4YcOG0osZ7pgPZM2a1Wrejh07ZsqUyZqgua4JJlIqKFCeUVNQU709KagpqLmuV1gHNZeVevTo0eTJk1u0aAGo0XDmcgWE9NFHH8WPH98czIAOV1kXOje3Pl9RDOutz3z58jHztvYv0pwzZ47LNx85/t69e8Rp5ybzHVBz1sGDB4ltiRIlqlq1qhXUOnXqtGLFCoeHrGGmUaNGOd/6fLU9hbABNYJivHjxrHujRYu2a9cuc3NQSg55WC+8QWlRokTx4lufDoadPn06xMmwI49FGlADoc6fP2+KJNsxFwDnMPd4HYs9efJk/vz5VNPBYnHixDl27JgppGRNw8k95YQJE+LzDo3u3W99Ylh664IFC+D+zp07N23a1IBa6tSprefKq7KrV6+W7zrY/slVL0vfXInEqk2aNMHnxQJG5Lt06VLnQorrXr9+nTFEF7xVvW0pqCmoua5X+AM14+ryJn/KlCnNwQSqwMBAh3OxXqpUqdywoWREFs6dK0mSJA5v1dn+7dOivgxqcjCx/OrVq+nTpzfh/+7du8HBwQ49ImbMmAkSJHDPnpAHDeSQIEnR4uY+nXl9xHqMw8dAvQ5qoqCgIE4BcM2tT0I+ZnSgWA6AG9yz2MOHDyEwhzpiDXNX0WZBGYE/l98e9S6omdVD4O/YsWObhW1t9nd6nI8Hm9z73Odz+9LlzKwcmoDeCus7J2iczdloCmqqEJeCmoKa63qFP1ALo/JlUAtz8iKohVF5F9TCosKxM6i8JQU1BTXX9VJQ8xEpqIWgFNTeVApqb6pw7Awqb0lBTUHNdb0U1HxECmohKAW1N5WC2psqHDuDyltSUFNQc12vsAVq8hmo2LFjO6x8ET7Uvn37o0ePhiaolSxZcurUqcHBweEs0shKHxMnTgRDQxARnj59WqZMGZJ1eM4sHAjsWLt2bbVq1XCJkEpTQA2vBgE9/ESybyo0O6zqXZCCmoKa63qFLVDDeuvWrfN2Kd6WYsSIgW/YQuX6lgwIs2bNunr1qrfr/baUN2/e6tWrh6Ax6S/z5s27fPmyt2v2ttShQwezlo3nkrUtpk2bFi4pzRa6HVb1LkhBTUHNdb3CFqhRcfO9pvAnWXrAFoqgJiu5e7veb0vyGYkQNKZ85OrVC2eEaUWOHDlkzWWzfzze29V6WwrNDqt6F6SgpqDmul5hC9RUKpVKpQqXUlBTUHNdLwU1lUqlUqm8LgU1BTXX9VJQU6lUKpXK61JQU1BzXS8FNZVKpVKpvC4FNQU11/VSUFOpVCqVyutSUFNQc10vBTWVSqVSqbwuBTUFNdf1UlBTqVQqlcrrCpOg1rRp0zNnzngCRhAMoDZo0KBZs2Z5sv4W1vv555/9/PwANQ9XUTp+/Hjv3r23bNniydI7lOHx48d9+/adPHmyh/U6fPhws2bNFNRUKpVKpfKiwhio/fnnn3v37q1du3bPnj09XEswODh4+/bttWrV8iQRrHfz5s3Nmzd/8sknHlbt+vXrGzdubNmypYdX5v74449t27Z99NFHHtbr2rVrq1evvnLlioJauBfNTc8y/8pnuGTiERQUFDduXHwyMDAwRYoU8lUcGTTM0CFbmCFEixbNut3sfdlGk5TJXZzfJGUt3oMHDxIkSGC2UDxO53jnRCRl2WWylr9soUb8iBkzZuTIkd+G9UyRKCF5yWfNxIyyyq6z9fh769atxIkTv8xQDtsdrEdGpnbkbpKSLWKou3fvGusZW0W0y7kKko617Uzu9+/ff88uDBgi1lOpVP+qMAZqDDq7du0C1EaOHOlRte3j9dq1awEj6wjlhu7cubNo0aLPPvvMw4W2r169unz58h49engCoBIeSKdJkyaeXOEjHRCNep0/f94HQe3VTkvFTfgxIc32It7IuRwgv+VIB1sZVjbHm8/2ucQOk6nJUX7gWoQ0E1BfRw5sISU0NbK9nbXOKefvv/9u/o0aNSpIgT8D/f369Rs0aBBRuWDBgnv27IkVK5bEfvYyOQGeIIBVq1bFiRPn4MGD5cqV27Rp06hRo6JEiSImTZ069YwZM2x29po6deqWLVugvf79+6dMmdLKfL/99ptUFmd7+vQpSZUpU+bzzz/v06dPjBgx5s2bV6pUqfHjx3/99ddyCgV79uwZv8nIPCogichvzA7qGWNSwb59+yZNmrR79+6DBw+mbI0aNcqWLVuIWI/UHj58aNyDrDEgxaM8fn5+TCmpMj+oC9YwVaY8R48exSzUK3fu3B9//PGCBQsuXLiAVTEyp5MOkEdfttk/uMmsafHixY8ePaJFihUrZrUeGw14kXWzZs2w2I4dO9KnT58mTZpvv/22YcOG5D558mSxBm1HgmJtDCi1wAGkySRZ4TBDnGR95MgRWnbYsGFJkiTBkgzCnpvuFf3C9DvTC4znW8FUvNH0d2uC1hmvqZq1FzsXwGHokL+y8WUd36Ws6VsrIlnImBAivqd6RxT2QO2HH35gJDp79qyHn98ODAwcMGAAo5gnFuDcEydOyDNqnhSGdI4dOybPqHlyRY3xmvAgz6h5WK8DBw747DNqZsgzW8wQjAUmTZrUtWtXfgOaVMH2YtyEAIg0v/76K56DqfmxYcOGTz/99Nq1a8Qw+eoLBAAZ9O7dWy637N69e+vWraAALpc2bVqTi5X55DY6SbVv397f3z9VqlQEuenTp7do0YKYyoxCSEKOd/hOszW0RHghsx0AopCkM3r06CpVqiROnDhBggSePML4MsFbQANmwaSXL19Oly5d8eLFL126xOQBG8I0xHsCM9aAIcxZBHtMWrNmTWACp4WuypcvD3kw/wE4gAwKz0RIvhHZsWNHkAUbsrFatWocEy9ePMMBhw4dEj7LmTNnkSJF+FG6dOnq1avPnj07bty4Q4YMad269bRp00aMGEFSIAsGB274DQVOmDCBpPiNx8qXr27dukWCtLUYk/Rp3/z580ePHn3mzJlUKk+ePHXr1s2ePXuIWA9O2r9/P85D1thw586ddMDbt2/jDLAXlU2YMCFmhMw++OAD0/o4KgVj/KEkNCt8Nn/+fExKQ+BysB1dD8DKlSsXBzPokQuNgp27devWpUuXzJkzm9h/8uTJ+/fvM6CdOnVq6NCh+PysWbOWLVvGudTxiy++wNuHDx+OK3I81Z87d27ZsmX5vX79evLNkiULiZAvQ4f4IVgmVCeTDRDtp59++uijjzp37nz9+vW2bdti8Dp16nhuOms/svZiLEP1L168WKFCBSrF5JwebQZ8yrNixQp+QKI4Bm1KlekXtHhwcDDoiRnxw06dOuFvHHbv3j3IFa8oUaJE5cqVrX3QMJ/NDnaSFKamCRo0aIAb03bbtm2rWLGiuYLowHw2V4Bo3UXnmjJlSrt27di+ceNGXGXixIlvoxerwrHCJKjpywQv0zvyMgHFI2AQeGTQxHq///47MZtgQxBiHC9QoAC0gSUJLXKKmZrzgxjGkB0UFLR06dKBAwfK/WvgAGcgqhG3gAx5+pDmICiSeJ8+feRyjpj0yZMnnPjArqpVq+bLl4+QDE8Q4UqWLMngXqhQIbCGkDZnzpyoUaNyPKMzLkeRIDlCCFEHqiA7ooKUiri+adMmAUTqRe7QBoQkl6wIVIT5ZMmSvY0hXj5VKUUiXwJ2sWLFZGRo0qQJUZ8qUEeCNxRlzgJqqS8osG7dOqJg/fr1oStCXaZMmUqVKsXptNHUqVN79eoF+1IXgmuOHDkgGFy0f//+1juP1Jes27RpM2bMGHDKgFry5MnJmr1+fn7NmzfHCOQCW5Asp9PjaO6CBQvSZBgQqpPWofwYjd4t/1I1WBN8J9Zu376dwE9e9erVCylQE9aUWtA6UDWgL5fxIC3gEleUkhcuXNhcwaJUhw8fpjxx4sQ5ffo0Pob7MVs7fvy4YAcHUCPwCCOAGoMHD4ZNcSQAGhqz9krJC/NCZgAckwpOxMnBAlyRBmUXoJw0aVJwDVCAAj/88EOsh4ueP38e1rFaL1q0aHv37sVc0muw1XfffYeFMRezmtSpU4OVzBlCCtQoEogp3ZMpE66OGekg0rkoJxbYvHnzuHHjrJe1OAaKwg4Um37HyInb0O5MMwD6cuXK4a50FlwahMXydEP+/eabb+huOKQZq4F7ei7/UkfGOtqOvTdu3OAvBqT7Z8uWDTPSjkwYyBdLMryQCK2GC8lsgXYEBG324Re4pFPEjx9f0sd6tWrVogeNHz+euRaNS5rUUUFN9UZSUFNQc10vXwY1cVq5+SU3Jlq0aDF//nwpOTGJKSy/J0yY0KNHDzlFIgHj5tmzZ4mdVIqowHwdm+/YsYPgzWjOWHzu3LklS5YwTMeKFevOnTuAFIM+4/K+ffuMqxjm418CbcaMGTmA3L/88kvGa8Z32II0iRlAG0RIMdauXQslCL4wWSdk5smTh6Lu2bMHcCEdGp3DCEgmkK9fv55gw4+ePXuyl0q9PVAj/C9cuJAA/9VXX1FfoAFQk9gPFrRs2ZJ4D/suX74c5hD742bAB/wEGdjs0IbpiF4wCu0id+IwFDhFoIIVCMZYgF1yJ5dYSLiyXniQi0bwGbkLqGG9Vq1akSY8QTsSgOWBB1qQ2Fy7dm1aEP4jCsqzX8RCYE4MSL40sQE1CAPQgb9JAXxMmTJlCIIa6VNyYnBwcDAoxoQBrKeOAQEBDAvEbIpK+du1a0fUl+bjFAxVrVq14sWLU2CqD8fLpTIMhfXkZh8H85fTwYgkSZIYq+KZgBSNYm7cP378eNiwYZiFEzEC+IIrwijp06fHnwEU9o4aNUoaDmsADZiIiQE9Re4RU3L+leuC5IsPS14UdcOGDfAZFEhTgj7MTKhUCF5Ro17SUvA3iGZ7cYeBeRd1YWCkCnimGWDlqTuMDNnTQ5llUXIq269fP7lqC7HR47AJvebhw4ckUrZsWeCSGQWUz29xGNuLy2NMM+jydIFBgwYxINAlc+bMyeCAnZkJrFmzhn5K78ZQjKuQJefi8AyzzCvkoUDGB5LCVhxJKxhQwwcoFYMD3ksPgoAZ4WlNBTXVG0lBTUHNdb18GdRElI36wkPEmM6dOzMzlqeXGHOJQ0zECU7Ajdw0tNmfwoE8GHzbtm0LhzGGMnATGIisQg+2FxzG8WnSpCH0kj6Bk70EKsZ9Iiu7zA07aIORmoH7ypUrAmqUAZaKFy8e4MigTGwmXmJA4EAutpHFli1biMcUgPIQ7caOHSsPDDG4p0qVyrTa6tWrCxYsiDNUr16dWuAbbwPUzENOdIQOHToMHTq0Zs2a0aNHJ9pBVzt37sRWo0ePpgwwE/QJNsmJ2BlLEgg5Xgg4b968hCIKjyfTKTgGtqhYsaLEfn9//9OnT0vVYFnMIihgs1PLzJkzqRdEKM0kj7th3vPnz5NjokSJ2IhLE63lXpVcOwG85GaiNB+JsItWw26cBd+YLonNaQL+5XhCOEQeIqAm1pOH+UDGBw8ewOIrV66k9Qn2YAcwwcjAAQRyftO+hh2hTAxet25dm7274UIEeH6zHfrnFFqhTJky4rqkvG3bNsEaWoFmogqmd2/cuBGbw3kYhKTgErwRQKEVYAs2gtd0Cqwnfkvu8De+TSvLhUm2QxL8hskqVaoEUjdq1Mjcarxw4QJ1oWqcdebMmdy5c8OIIQVqFIYmo12oMpMTPErQjd6ES0A5GJYBjX/N1dwjR44w2wHl6fgYgU6HGXGwkydPCuPaXtx/xG/BLCxAL8ZnUqRIQZoZMmSQE82N18mTJ3MkXR6ap6PhePRcujZZV65cmRZkDiNX7GjEGjVq4NhM7e7du0dHJi8KQBbQP5liQ2ZuppPipaAkBwDWWJs5Bs2noKZ6UymoKai5rpfPgprxWGzOKE85mVgzjtOUVL99+/Y0KzGbMXT27Nm9e/c2diDaMfflSKbgYiv2QhI2+x0K4oRcxpALDPwODg5mgi7ZwVUTJkyQfOUyHjP4Hj16zJkzhwPOnTtHaCTQQgNMqdmSIEECAgkGZDsG5Hhy3717N8EPBIFRSAQ8IvYwvkMhHEPonTVrFrlL4MQfYsSIQcGoBVGBEPKWQE3KRi6tW7ceN24cTigP6UMMyZMnl9a/e/duhQoVqBpFMrefOMDPzw9T/2kXUa18+fLsIriCyDb7fSXiVp48eTiFQAWfUTUSJPBTI0lKojIxj9gvT0QZUONfMJogykZahw5LiH1il0MtCKLyQD1/586dS7Bno/VJeUSaoDApYEn+DZFn1MQ38BNCOO3FXxpU3u6Ek2LYxQHgJpBkfUaNEykqvgeTyRsncLBcEs6ZMyd2BjQ5hlPk+g0BHseW7GAOgr0kJVuAp0yZMhnPlMfd2EUXkMt4pI+LUnd5eMvZeoCmIA4THgBFXrm1vteJY4OS8A3dB3YEnT0ENfO6DFlD7YUKFeLHrl275K4xjYXL4S1sJK+lS5cynzEDEfXF2jietC89aMqUKbJXXomQS7myBTuTJrUWxAdDGzZsaAZGfImUAWgBUwE1fsC+7CIR3B7MoiNjDXlEAT8HWEuUKEFnlCZYsmQJmCtXcOmw48ePlycLpY8zYWDShVWpCF7B5EdBTfWmUlBTUHNdLx8HNXkUmr9ENaILEYgJMfNXRkYiE7ETezJTh7RsllcpGa8ZiyEqeZpk0aJFgwYNYuOndrGREwkDvXr14hRARC7hsP3q1asrV66UArCLQZx/CbRyjwMrERrldUIKQ5qCHYsXLyYqCHjZXryGJpfuzCuiJEUEhV1od/O2gRR1w4YNxAzm+kTc5s2bvyVQI3hgKHMTWYqXPn36pEmTWl8tzJcvH3GUcGUFNSxA8cREVatWLVu2rM1+xxkgttnpFv4gPnFK165d5aE0OR3CM3furEOQA6g1aNAABJEVAeEDyJgYSc918NX8+fNTBetLi/yl/NTCZnnhTkTrc2T9+vU9f+tTkpWXGKxvBVJxeXrJCK/o06ePvOtqewFqFFuuR8oLEGA6u+CPgIAAEoTViPfy8Pvhw4flYUdppiZNmtAcztYTaxhQYzyhceWlDWisf//+t2/fNtc1jSBprMrEQ9zSmLFo0aLW1U8kr6FDhya2y8O3Ps37QPg/kwQQEIenC+PhbISTICqcf+/evZhi7dq19ERzhQ8nadGiBV07a9asbKRBcSfgksGTCtJN8DR8lY02O7qNHj0aO8iTrNgQMjNjtb+/P94FHEuVBdQ4htahWfFn8jp27FiOHDlI39x6tj7warbIJXPTa4zjnTx58sSJE7Q1HWHhwoVbt25VUFO9qRTUFNRc18uXQY06MgrLwz2YXW4dlipViuhrPXLcuHHOoEa4atq0qaw/curUKWzFRnlDk1rfu3ePin/xxRc2+3twhH8GcWlZ4rq5W+ewCNa5c+eYdg8YMIAUCGBAiaxZhengDAb6efPmObQF7MWoTXb8piJ//PEHaRKlKI/zch6E+WbNmhGBCANv49an80ou1mW0bK5eWTW4bE5x+Tbry06xrjbyr2s0WM9yeMPOlNa5Cq9Yi+H5P9dt8dB6zkWyvsBrtZ7N4oo2J8ZyfovQOqRYT3n1YjHPLWvEvKb1XrbduVldFtht09FrDh06REYMXGYZGsArduzY5jCAafny5WPGjLGCGtMqJgkC4uylwwJS4B2AlS5dOvrdunXr+vbty+l37twZOHBg69atJTWwVV7ftpraTKW+/PJLRgz642+//QYZlyhRQo7JmDFjjBgxOnbsaO19bP/www8hcvKSy6JCcmxnpgd0OpA0nZ2ZISM8czwFNdUbSUFNQc11vXwZ1Gyu2MJheQub/Z6UjPjWjdevXzfPEceMGVMOYKqN3WR5hfjx40tIYK7PKG9smDhx4pc1DZN+puxx48bl940bN0ykxCXkupFLEvrXAG/qyxBPnCD3t7ECk9x8lKtWQUFBUn2TkeyVtSTu3r0rj0w5uIRpEeuKOc9frERFR0uePDlmSZEihc2CGvzAuzJkyGBdf85m4QwjuZll9tKCJIXNicpXr14lBZudlSFpU+andpF+1qxZ2fjzzz/L3SibJTYbm3tovef2lclIUG5ByksApo7yTBi/KSFgIavAuGwCBwgwp9+/fx/Lwx+Y12o9vCJOnDgOZzlXygGmsQnFkBwvXboEtVBg2ih16tTWMrP3woULZMqWmzdvSttZm89D672McW3/BES5Nwo24ZZWH6DuzK8MCcl1LNlOu7Pd3HemLteuXZPL1Tb7GoFyidFleR48eMCAIEnJQ42yi3lX5MiRXY45Nid+tbliXJt9cGaUwGmTJEmi66ip3kgKagpqruvls6BmezEyCl7AFnJzzWFJTAmQkBaDuO3Favu2f65fzzGmdnKKpEMMIPQSIGUtfslO2IWYIY+R2f45QD+3rJ1rDT+SLzyRKlUquWBw+/Ztxn15d8/c/rO9QE+zgrz5JIDNQirOGBcixpRnnMnl5MmT+fPnB26KFClicPbw4cOnTp2KEiWKv78/MESRGjRo4MAHmOvo0aOFCxe2vbhy2a9fvxw5ckSPHv3ixYsdO3acM2dOjx49MOnKlStpggMHDsyaNYt0+EtApRNt2bKFitNkYIFcLjVRcOPGjSAFLQUmVqhQYfr06V27dl28eDGp7dmzhy3YdtKkSWvXrhVzkf6SJUsIisuXL2/cuDEkR2F2795t7lhNmzaN359++qnNssq/29a7devWihUr5J5az549CcPVqlWzvXhijKbftGkTREVhateuLWt2mEuzxovWrFlTtWpV8UZ5vExut9WsWZOmYe+UKVOo3cKFC9l7+vTpPn367Nq1q1SpUjg/rjJz5kx+kDh4gbUN1nBwYGDgqlWrSIqS9O3bl1pPnTqVpqRNsQkpUGA6+6BBg2wvFk5jL61JsakITsggIG9PS1EPHTo0fPhwLGzayBPrySufVAETRbAvF2wFMnlyjhlXrFix5DsKxi2t1wuNN0ovtr14mYBkKSRWtXK5LEPDOCnPLVg7l3VlaXN5TNJnLx4lfV8uvVNgkgK8YDh5Ws6MSwAfW2hlOgInCjJKUmY+o6ymen0pqCmoua6Xj4MaJfz999+J38SeRYsWUUizEr3txYoJQE+VKlWoCCaVsdLhLpj1khsT96ZNm2I9JtzNmjU7d+4c0YjYRiJt27Zlr83+/BCplS1bVkiL8Dl//nwG/Q4dOlgX0pQrOpyObwwdOvTDDz9Mly7d5cuXn9kFhYwaNYoCt2nTBuYAZaRIZAHu9OrVa9y4cRR4wIABBGO5SifvK5w/f55Y7vnFDAdL2uxXBBE0Q3ShU1A2Yo+pizxnQ08h/NSoUYPgbd1rs3sdsEJpoS656oPxoQFwShaQwz4CatAVnkn6pMO/zZs35zDiGT2IY5InTy5PVnXv3l2u5cjyEBQJjCBlSIjDMBrnkinUAsSwi6Zv2bLlunXrrKQOSYAa3bp1gzsrVqwICJIR1AKlpUyZkvriPGT0wQcfuG1MU32qOXfuXII3NQK+5WEyYz2AEsyiKxUsWBBwFD6IYPmWFOEcPga82CXXF1u1ajV+/HjsTMo7d+7E07AbyIvP4DBsX716NWNOiRIlcMVjx47BEIUKFeJEmoAC1K9f33gjlFasWDEciW5SoECBMWPGUBgaGhTjB74NXvfv3//LL7+01ovhiKYpXbo0Bf7qq68wO0ZmloLDUwxGBs6FCHPlyuXJ5OG5/QVe/g4ePFjeWpVPX5i98skHfK969erUlDKYVVeM/TGRrGMi22l0ehC9CQMC0NmzZy9evHiyZMnwsePHj3MAGWXMmBGHpG9yCmg7bNgw+leZMmXYhWWs3zmgv48cOZJ5S+/evfE3WeaDxOnFOA+/mXjQrHK9VsYlxpARI0aQKWZnPKe96LZmL0bDnmawUlxTvY4U1BTUXNfLx0GNEZxIs2fPniNHjsBV8rCIaQJCJvP+jRs33r59O0uWLOXKlSNEyRBvoiPhM0OGDAEBATJoErnTp08vD/Vv3boVKmL4ltX5v/nmG1Leu3cv2zdv3kx0JOzduHGDyNqwYUNsPnnyZOKZ3H+RxCdMmFCqVCkSZOiXlQUu2LV9+/Z9+/ZxVo4cOQhOkyZNYhyXs65cuUKM2b17N4GTsAQUAm3M2uVhatwsZsyYRJFGjRrJNcKQAjVEpUicYAMBEPUx2kcffSTzfokuPXv2hDvJfenSpeROSDM1le8L3bx5E1DYtm0bPpMmTRrIA0ojqqVKlQrOwCeJwbglx9NqxEjqTo5gB7bF/iAgZqFFMD7pE+TMVQdOgcDoHWSE0Yh5M2bMANTAiEyZMmErsTB5kT7GkXphZ3ygdu3a7MWMtA58ljNnzlOnTpF+okSJbPaPv1FseaXAbVBDZ86cIR18CRqgmWBWCiNvTsgBBGwgKXXq1NAAHRNyNVUTgzB6MKOgFfLmzVupUiX2UmDQH27Diz799FPS3LBhA4bCsBA8diM13BtDgS94CM5JqwG1/Iu3S5+VLPCrefPmyauyzGo6d+6Mu8raK126dFm/fj3OKe9y0sry5QncHiaGJ+hfNBM0TEZ58uRh0kIryCIydECIDQi2ktObSl4WlhJiAbowDWoGHOq1f//+AwcOYCIKBm0XLVpULnIb2/KbaU/dunXxOrkaB6DTQ5MkScLpoBjFJk1mX3RnrMfcDOSiFgsWLADxqQVQyyl0NKozcOBASNRctGP0w7C4NObCnai+rHtHH6Ej0NyALONDvnz58EwZWHB1Rk55XaBWrVpBQUFQO3MbUqP16Sk0HGMLu+R1EAU11etIQU1BzXW9fBbUxGP9/f0JbIRexkpisKz8JPdiBOMYHBlMEyZMSJhhUAYObJboyDSa2ClLYxD7iVICahKxaEq4Yfbs2YzdNAfjO5Pp/PnzgzKrV68mDDCsY2qGdcIzqcki6TbLG2FbtmyRddXlC5VEoHN2UeZOnTq1atWKIIH7ARzEZvl2E8M3Rfriiy+oDhlReIIrQYjBnYLJN38IabNmzYI8rMtoeWhMIhClNQtQ2ey3jagsVTPLZ8A3c+fOxVYUo06dOhRYYgzFBi7hHqKOXJWk8A0aNCCsCk49evSIeC+3Prt37w7JEXpbtmwJVRDApkyZMnLkSFKARDlXHiSiIagd22XNtt9++w2b216sb0ypDh48KEkRI8Es7AN/OFxR46wxY8Zgt7Nnz9I94U7cgC4PbsqTiOLk8v4giOle5xWLrVq1SlZ/MNYDsOCtCC+WTMNugHtgYCBzBvoUzCpwI8vrUx1cV+xJpXA/oj4eAk5xGBWBqKgaTM/coH///lRWHhnEOXF+/mJzDhNMwXrkjn3k0T1yx3UFhekjQCr/QoqQJYhMvnRzpg3jxo2DY8z7InJlFx/AwrSduByI4+fnx17zSTSKgT/I1Tu3fU8uh7dr1w4fkGvG8p0JaSC8DmeoWbMmkETdKbN5xkCuRDJZwjhUU66TYQQSpKhUtl69epzywQcfUEKZRJ08eRImGzJkCEYDDZktYC7802Z/ApUhBVjEpGJJ+fwJDdekSROaiXRkVQ68nbEFf4beYH2yxrzWb0zR9Myy5Foy22k4vI5GAbUxOK3PKfRuvE6+A+Z5L1aFeymoKai5rpcvgxpBXR5IMhWk4gzT5oFxDsCeTI6vXbvGxrZt2zJSmytqjLC0GoMyg+b9+/fXr1/P2Eo8IAW2Q3tMo5k0M85etgvgAJjkk4iMsASn06dPM4InT55c+IZkIQ+4TS7PyFdEiSLRo0dnL5N7MAJLgjscVqFCBWiM6AhJEDNSpUold7vYJR8aIvDgUQTUnj17EsmIlKRjfQCO6kAeIWVM0oQh9uzZI47H31KlSglMsDcgIIDwLO/VEt3FjDVq1DCPqTmsavb8xVfkqbLcUQU7cGyoF3rAJitWrCDoEkTPnDnz3Xff4agcDM+Zr8KDtp07d7ZengS7CaIcADpgcII3SbHr+PHj2JaigilkRztaHZ4uScCWp4sIooRMkjp06BA0QOi12S9hYnNPLmzI4EkisKZZsy179uxp0qQxd7RpPlmsBJ/JlCmT3KSjcQUW5eOk1gTlbYPevXuDBfyLk+A2oKpwG0ZgSgDr82Pq1KnYStCWmsoMhH5BLsWLFzc1wnrkCCv06dOHTDkXm1M8HJu2AzvixYuHv40YMeK5ZXWY3bt3gylC5JEjRwZN2EjDmbUJ6TggDkOoey+4SK2PHDlCMRye+MS35Rk++bA9cAbcQ+3NmzfHM6UXyxNj5I55sTZHnjhxgo4De9FDaVPqRYsMGDCAbkvTU0fcuGTJkjAf1WHKREVg01q1akFg0gtoGsxIf5SVh232tffwFvLCbxkf6Nd0XlIuV64cMy7oDUykYJxSuHBheR6ApMgU7yVBpivspcDUiIkZI5IZS+XaJxMV69OKKtXLpKCmoOa6Xr4MagxzmItAazYyMqZLl868mzZjxgzihzyZDk5hByK6gRtz9UjmzTLuy+WBFi1aML4zrBM/CF38JQoGBQUxEZcvfzOUd+jQQT7FSFAUW0Ez7dq1M2sKgImABf5AQxAMGIsBQUZ8tsCO7M2QIQMTd/IiCMmtT4myVIrwTC1ixIhBDIMnOJeMzp49K/dWIKoHDx7Im4whaFJiHqFLeBGKlcU8zYtyEsZgKbiqWbNm1rcyOXHVqlXyxqiIRACFIkWKmOeHxo0bh8Wgq27dupmnkaggu6BSEISMAA7+YnlaDTbleOuzSjQNYRjHhj8AlJkzZ5IC2yGG0aNHC7wCQ7IAqe1FyAcEZRFjDA7yAt82+5pn06ZNK1asmM1+f5wECbHWl1XdEOnDUmIukqILQw+ydozNwh80t3yAwWbpmBAecwmTlLgi/U6KRMUhlR07dsD9TBtwBtDhzp07lStXZi8VIU38h5riijABxsdKch/Q4UEuQAGAEMqfNGlStGjR5s2bR5cpVKgQRTKvsBgDXrx4kaQkhUWLFsnHu8gahoZ7xB/ogExg3LOelOrq1avMiEhK8qXRcX7cW6xEF8Cw8tQX1RQirFOnjlxqNa8aWDmPE9esWUO3pYKZM2feunVr7ty58Ubo6saNG1hbnqHEbxkN0qdPTwqytq04OZbs37+/MR0VhEcXL16MnaWVy5Qpw0gCwpJLwoQJmbEsW7aMLMwKt8/tq7WRr3wGAzPSHei8ZET3AROlarQp1Pg2XuJWhUspqCmoua6Xz4KamAtekRt2NvslDQbEsWPHmvULRETipk2brl+/3iGWyPLl1i20nbkEghhn5W4m2MSuLl26tGnTRh7HYVwuX74802sm2Yb8iDQ4AAO3tYRkwfhOOAT1IDMBtcaNG/ft2zd79uy0MkhELDGXc6gL4ZaYIZN7Mpo+fTrwR4QgI/m8AQGV0Mi0/u0ZFj8EbR3WIpF1aOXjSNaDX52acDDRjjBpPhgAl3zxxReEOsCXDogFOAYOIPLJgvichfdmyZLFdCiJrJQBa1AMkxSNAjrIUvu0CNudr0/Imw1EdxqI34cPH8ar5QUCGAj6KVCggIeg5mAQ+Klly5bWjyIIhZPvnDlzzKfoX8d6MieBFaAHeFfWXB0+fPihQ4coM0BGmlgPR5KXDMTr2Mi/VuvZ7N8ygt74jelICkMx95A3OSLYP0TBFMJ8H8yhRlipa9eucqdSSEW+cFCuXDmw2xPrkaZ8ptNmX02QHs3Uxfkw5l21a9eWN3jMRrqVvOJjlbn2LIDONClPnjzAKP5MgZcuXUrTUHiz2DWJ4Bt4ggwIEBW+58C4kydPli+Q0iUhe5wZj5o1axbMKpfSY9plGJd5HRWRRgesq1atyjyNTJmWMGoJnFFZepNxBpXq1VJQU1BzXS9fBjWr5DrT6NGjCT8OoEYUB3H279/vEEuI1g4f0mF8ly+gixjHb9682bBhQ3lGjfQZlzmFqBY/fvy2bduSIIN7u3btJOQzCgNzsvymKRViDk0YgL0yZswooMaIT/yQhZQYrHv37m0W+7Cey19oBn8ATci3devWcoPm6tWrRJoqVaq8PWM+/+dyqVYXcl4p7dWpWR/6fm5ZuszcL7autmBFZ3OlwXlJOWtS1ufqzFnOp8iR5t0I6/osLk/xxHpSF4eV4UytHdaeeH3rWS1vbGVd5cF6UVNWoHiZ9UxSLm3u0nrWRSscrp6G1OPwktGECRPkWqmDoDf6ERMhYwTp9dCngxlz584t70NIQ+/ZsweQgq6kxzHzoV/ToehWzZs3Z0LC7yJFilSuXFnqlTp1anqoNRebfTmSggUL8gO0LVmyJMwHqHE6cwnJpVatWkWLFnW2A2muW7eObg6r8VuudMq9+ICAAMjYSvMq1SukoKag5rpeYQjUbC8ejbI6cwTLZ14coqNstyZiXWn2uWV9Juew+oqlRF9xwHOnxeKtB7uMji/b8paWUpMf8iya7cVaUBHs36e3efaG6dOnT2/dukXryMuqcpVIHn6S9eqIrIafBDIIrg75ysr1JMUuk5TNwhDi+SH1joV71pO3E2x26Ll79y5Yb27YeZI41osZM2bkyJFlZJCXKhzu7GMZOZ5jZE0ya75yd9hc/jFJmfv+8jAimOKtO3HW/uXcrZx7nyFIh3QcFst1zsi6eHJIdcl/PcuMRQ6n6H1P1WtKQU1BzXW9wgSoPX+xbj6/He4jWEf8N7KDyx4hgVBmw2ajPEfP8WZdMZtl9DcLbzok7sCOtteICg56S6BGgZs3by6V6t27Ny5Nffv162cOO3v2rPn493P7Irfbt2+XlwDYUrBgQbm+KAleunSJrgGKFShQYOLEibFjx5ZvoW7btm3atGklSpTo3r37iRMnLl++XKVKFdx169atYA18NmHChLFjx9KnrDVdvXp1oUKFaOhRo0ZJUrJr6NChrVu3TpAgwb179+g7DRs2DH13Ne21fPnyhQsXUoCvvvpqyZIl2bJlwyZm7Vl4C46UxVfFPfbt2wc5ybnwVuHCha3vT+zatevRo0elSpWaMWNG2bJlP/zww4QJE/7xxx/t27ePESMGJqKnU33yopP26tVL7t2zZf/+/bVq1TKrJdvsn23YtGkTJ2I9SUrWiF62bBlNhmFpxDZt2ixevNgrnzaSTiGTBPNdB9HLQO2N2sWILGSNa+debLPjtbmWZs2Xs5zNIiOPA4W/GtScS6igpnpNKagpqLmul++DmozvRKCrV69GiRKlfv368+bNCw4O/uSTT+ROh7ynFitWLPNCFmedP39e2IJ/iXzWZZmIguzFhpkzZ16wYAExLE2aNBkyZLh///6aNWuiRo1au3btmzdv0lIEQsb3WbNmkS8s0qRJE7BjypQpZlE0Ujt27Bh4R6jmMJPUc/uyW/wmtaCgoDlz5sgH4L1rRqq8atWqkiVLDhgwQB4S8vf3J4pjN/nsqbxaWLp0aYDJfE0hMDDw008/he3kAE63Ps7fuXPnGjVqcHC8ePGgCugKhmD7kCFD8E/6XapUqTj+ypUrVatWHThwIM4vq/uS0ejRoznGZolwHC8LXkCQHDZ58mTZ26BBA8ocEBAAi9DQzZo1C313lUf+Dx06hJ8ULVpUHuGiyrly5YKBDKgxSuA/YKtYDyesWLEiG+WJybRp0+IqxnqHDx+Wz16xHXItX748P+BRUoDb6OPwLk6IMdl76tQpai1P9XHuzJkz69WrJ6Am1sMVcWBMyoiXPXt2UpNGxM60S+7cuY8ePbp+/fp169aFMqiZK9xQLP5G96HrMZY2btxYPlovDvCHXfJxJzmefo37SSKU2TzrKQTMJEG+IkCtmQbgG9iN7VRQFm2OEydOy5Yt6bDYjb/YikYElPG9pEmTYhyzBAl/N27ciIuOGTOmcuXKkpTskgcbOBEzkpp+GEr19qSgpqDmul6+DGrPX3xXYMuWLYQ0RsmMGTNi/xEjRjAQgwhyP0ge54eEcubMKaYAqmisEiVKyEpUkFPevHnN08dHjhxhZCeSVatWbdq0aYRGDiBlAircBg4y+rNx//79Ekg4vlSpUhIeGMRXrlwpzxQLQS5cuJBj2rVrN27cOKCEWJI1a1ZCOKwD0xAqbty4QUz98ssvvTu+y80gWb6hZs2aWGbYsGFELCI3TQ+oyYJV8FCZMmVAYUhOQub169fbtGkDqElzVKhQgQhnQmmnTp369u1L9CJqyhU1kr19+/bWrVuhK+o+atSoVq1aCahhhO3bt9vsTyPRdnBY//79TVsTlQcPHozx4TnQEPShOdh14sQJqAXq7datG6amwKQcyu4qdad4TZs23bdvHwXDeeBFKgIAAWpwKsZctGgRNYWHsDMeRSEpMMDk5+cHqJEImJUnTx5jPbCPmQDYh5ODYnggjhcjRozWrVuTlHxFgywE1KDqjh07gv5du3alFaB//NPcBQYie/ToQfpt27bt168fIILZEyVKRKloEeASq5Iy0xs8NvRBDfdjJgOTMdTQfPK6A0XFLMWLFxf/BDQPHDggT/TLFn5TI7kDLg+BmaXp8LHq1atTU0ANpyJN7CNDmbzRTJekq0qHpe9TcRhRui2DCTM3kpV3eOXiN9YbP34840bdunVPnz4tLz7TTRh2MDXlHDRoEMeYKZ9KFeJSUFNQc10vHwc1SojZGSsZ5YGzSpUqMYxaQY1jtm3btmPHDmzCSEoYk6k5obFIkSIAE9s5y3oRiHhw7969smXLsoWhWa6BMWoTz5hPAyuE4XLlygmowQ1EFAiMoMKRTNytoEYUJIWgoCB8DNYhLw6TldgIIbdu3WJkJ3Lv3buXyO3F8V26P8RDDKtfvz6FhB3lBc+AgAAKRuHxKMpJ4VOnTg034PDYJH369MAWERGGkKRq1KgBWJhkCaWQH86DuXbt2oVlhg4dig3nz59PaCQRugxcaK6otW/f/oMPPiAvGIVWkwWEbXZXpFMQXwnAMN/y5cuhipEjR4KJK1as4KzLly+zC/rZsGED+BKa7irWu3btGk5FvYj3shgy8R5EKFy4MKBGaakpxZNnz9kFG2E0XLFYsWLUXW7cp0yZkrqYNx4wArYC3fixefPm2rVrA2qwFx4L6cry+riluaJGk2F8bMUwsnbtWvmmhfgV0wl5hp0ezV5oO126dNGjR6dTcBjtsmfPHjY2atRI1tMPTfej7vLGNB2NmQAWw5J4jhXU6JKysAhGoJyySh+uBRjJkiJMDzCLuaKGM0CiGIHD8F68GlBjOkFPBHM5C6xnCsEx+A8GpxVwYw7GCSFpB1DbuHHjpk2bevbsSaSIHDky/V1efGYucfLkSdK/ePHi7NmzcVeZHIam9VTvjsIkqDGnOXv2rIcv1QcGBtL/6X6eWEC+Yy2g5klhhBIE1DwBPrkLI6DmSb04lymsb4Ka1Ivhm9F2+vTpjOwE/kSJEo0bNw48orSAWrx48ZYuXcq4yajKwD1p0qRq1aoVKFCA6AhyyeqdJEIQJYI6gBoxg+AnFzwyZcqUJEmSkXZx7rx58ypUqCCgRiAhiMJtnEsMIE4TL0lQogX2J6hAh+AODASCQDYESFIm/CROnJjwSfr8690ranJtAOIk5BPwiGRdu3aVN+DWrVtnbn3a/vlqxctkfdabcFinTp1YsWLRItOmTZNbn+wiI+IiyEvzyYt7wArtSDFoNbKuXLky8O1w6/Pu3bsHDx6kdeLHj0+TyQu2z+0fIcVFaXcKDxWZu2OhZj35qGju3LmzZs2Ky4EOEBLNPXfu3Jw5c5pbnw7Wc/nQktV6uAdUCpxhQJI1tz4nTpxI3eUrGvDE4MGD2XL+/PlVq1bJA4K5cuWCBbG8eUZN5id0Z6am+CcgIh/DkBcIMCBzG8rMxlBGDSGhUaNGQWD0JnofvZWuirfQm9gC9e60S75thR2A1wYNGkSJEgX3kM/J2+zPlmXLlk0eFxNQY/6GQSBRMAuKoo6AGp7crl076ggI8htXF1AD7jmYc2kyhnHKg4kE1GRi0L17dwYZ+jK9nqQYFZnY0ED16tUjHfr+2LFju3TpoqCmensKe6C2e/duOrZ898MTBQUFMYNk6mZ9Xf9NJeMCwwqsZl68ck9XrlxhxJePtHhiH4kcDEzOr0S9Ub0YpBi5iAG+CWp79+5NmTIlwal///5U1uHWZ7JkyWgO84w/TQwByMvwN27cMElRNbM4E8keP378/v37JUuWJClzRQ199NFHmOLatWvsNbc+AWKOyZ49O2M9JWGKjzuZK2qERnIHRBjQGfSZtbOLZOUz8DAHqZEyJ5pnmLwiWa13zZo18Bn/3rx5U+ADr5brK4SiDRs2YEyrO0WPHh1CXb9+vcPoQStgELEAUIUR+C3LlYEIAmoQMG1ECsDBTz/9BKgJN8uaWPygUYBpB1DjXKIvpqMp+Q03s+vcuXM0wbBhw2gCkiXutmnTJjTXppKyUVqmWDb78r+ySCy1Az2hB0ANf5MHH81ZlBwf27Fjh8OUDNZku3lR486dO/Jk/YwZM0qXLo3jyZ1lmoa//OaHfC6Wf6m+FIbq46t169Y1oEbDMVrmy5cPFOPfXbt2FSxYELdnO6f36tWLLGhfnJyhNZSvR1JHTDdz5kx/f/8zZ84AYTb7txzMFTXIjBpZiVM+E4d3scu848nMx7y+Spq4Ad7L7379+plbn3gLWdATP/3002XLllWpUkVArVKlSjgb2YFi8tCqXFGz2ccNm/15ie3bt9NzsZt8CYPcAcdbt24xVaNfQ+TYU1evVb09hTFQo+cQoQE15lge9go6Ht2vVq1aniTy3P5dnc2bN3/yySceVu369evM/4hGHt5CZSzbtm2bh58YIh1IYvXq1eCjr4GaPFPF2ApDRIsWbdOmTaAGA2v9+vW/+eYb+BtQ418CpNVDALVMmTI5X4hl5IXqpMo0AeM74zUjMvN4hmzII2vWrIAFpmB7nTp1fvnlF0BNFho9ffo0Dkku8eLFa9WqFfNys+4leydPnkzi0BhBl5AACcmHE4YPHw7lUHKSOnXqlIdo7omk71M2+YKh3FQyFyzlfmiXLl2Icw6TGVwCy7DdITXipdxKFtqTpAA14IAYSUg23CxLcJE+Rihbtqz1jhvQAOXIkrYG1H744QfJjjhN5G7YsKEcOXbsWIzMMXTn8uXLw0aedB83DHjSLsoj16gEZyk2TkJPhI0I86CDwzCbLl06+RSENSmch+2myma9EqwHFjBtgOmljWz2t4lJFgIeOHCgg0svXboU+IAnDN/QQVauXClv1UCTDDK4H9vhFVpH3riEUXDvULOeXMpdt24dvTJz5szyMoEs1AL9CKgBl7iNQ+3oRFDp3bt3rRuxkqxH/dz+YYBp06ZhK9KX597wnGbNmmE3phbMtRjzMbU8q8D84eLFi9gkgv3LXXC2FdQkNaZ/VatWxXT0VmaGZcqUYfucOXNwRfyN3g1ogrz4YWj6nuqdUhgDNbn12bRpUzqwh70iMDBw0KBBs2bNsi7h+KZ6bv/kDrH2+++/9/AK1vHjx0kH5vPw1ifhoW/fvlCCh/U6fPgwo5tv3vqEkObNmzds2DD59JMsfMpIOn78eEZ8QA20gjPMKRHs3wuvXLkyzSQPq5ntWbJkkc+/yI0Y+fYiSU2aNCllypQCarJOlSxedenSpX379mEZh5VgIWMijRXUoA2iQvv27fnLFH/RokVyRQS+lMXx4WlibevWrb0LaufPn0+bNq3DyqVyadZhtQK3c7EucOBynblXr05nHus2ZXtFHwnlm3dYj9AO9zhUwSyx67n1XpbUyxatcNhuVvAy/7osj/OqMW/bdPyFgf7zn//Ib7kjwW+2NG/eHEKi64FWdEarS+TPn58OhdmtqVHsmjVrCn3aLOvmkH716tUZoulxthfLBArPOXRY24tBj9YEuaxvfdKFoeHo0aMvWLCA3JnFsX3JkiWMQr169WJKQ+LMsc1DgSpViCtMgpq+TPAyvQsvE8iSHMWLF2c27PCdHKoPfzMhti5s5kb6YgGG4Oh2WYdygC84OFiWobKe4vA9KLm4ctUuZt7gICFBDn78+PHZs2dJJHHixOnTp/fuHROXa/b+666QyuX1Qc0hwVdv9wXr2V4OUp5k5B6oOSf46ofkQsd0dCXAqGjRotZJgoApfUQ+au4548J/DIn/2mFtL5avi2yX1XScfvLkScrDzC1VqlRmV0BAgEPvVlBTvSUpqCmoua6XL4Oa+e3yIzkuVwkPkVxeARwO+ZojzeLvNkt0dFj2Vsd31Tuof8V329ucITgPFC/r8qbPOl9xdOjd3raoKtxKQU1BzXW9fBbUVCqVSqV6d6SgpqDmul4KaiqVSqVSeV0KagpqruuloKZSqVQqldeloKag5rpeCmoqlUqlUnldCmoKaq7rpaCmUqlUKpXXpaCmoOa6XgpqKpVKpVJ5XQpqCmqu66WgplKpVCqV16WgpqDmul4KaiqVSqVSeV0KagpqruuloKZSqVQqldeloKag5rpe4QDUQta339mVx0PTjG9jOPJKw4V4RULfbv+a6duQ9lmVylkKagpqrusV1kFNPrX58+nT77/nvj0lnQIF8seLF+9fI6V8Tyakyu+JO4WgxBMePvzNw/I8fvyoRIkS//rhasy4ffv2v/7803M7RogY8bdHj6pWqeKtr6levnyZ7hMhgkd2w/558+ZJmDDhK6ogYzgD0b07dzjew2LT0E///LNixYo2L4HamTNnLly4ECVKFPJ3O5mnT5/lzJkjRYoU/1oFLHb9+vX7QUHvv/jyvdsir0d//JEzZ06vmE4VjqWgpqDmul5hHdT++OOPb775ZtOOw0lTpHbbxzHgudPHJ40dkjt37le0r1DaDwcORIwQMh0qWbJkadOm9ZLl/qGnT5/myZ0rTZZCCRIl9SBw2rauX7z2u+V58+Z9dTfBgTF1sRQpksSM6WGge/jkyYxdu27euBElalSvRM0JEyfu/ME/dpz4Nndzf++9iHu3b5g8YVT58uX/FdQ6duwYNSAgTrRonpY7SpQ1x44d9fe3eYM2cIDBgwevXLs5f+Eyz931t7/++vP8mRP9PutYrVq1f62CDBR7Fy/+IE4cDwsf6b33Np85s/vYsbhx44ay3VThWwpqCmqu6xU+QO3+nwnyFCz93Oamk0eMEHHTmvmdWtTMnDnTey+fcGP2R48epU+XLsYff/xFh/IkvMF8z5+37Nlz4MCBXragXYBakcIFG7QbmCFz7ggR3a/XwB5NVyyZnS5dun+9opY/X74Z9eplTZTIQ0q4ERyca/DgmzdvRo4c2Sughvv9GStTipRpI7g7MkSKFHnckG5ffNa+dOnS/wpqfn5+rRIkSJcwoScDOklFjhWr7OjRO44csXkJ1AYNGnjy/J0WHfq53W2fPX26bcOS6uXyVKlS5TVBLVNgYOVs2WweRsMoUZp+882sLVuieo7LKpVFCmoKaq7rFT5A7Vdb4ryFy7qdSIQIEb9fNafDJ9UyZXoVqGGux48f1yldemPXrn8+fepJsfGEWw8eLH76tLefnxetZwSoFS1SsFH7LzNmzeO2h1Op/t0aLl806zVBbWaDBrkSJ/bwZmvggwfZBgzwLqhFiJctRar0blfk/UiRxgzs3K9nu9cBtT59+rRLlCh9okSelPnvpGLFKjd8+Davgpr/xXutOvd3O5GnT59sXbf4o9I5q1SpHNqgNnXq36AWNWoo200VvqWgpqDmul4KarY3BLXapUpt6trV9uyZJ+Htz7/+uvHgwaInT3r36eNdA4oU1NyWgpob8i6oeVLbv02noKZ6O1JQU1BzXS8FNZuCmoKaB1JQc0MKaiqVsxTUFNRc10tBzaagpqDmgRTU3JCCmkrlLAU1BTXX9VJQsymoKah5IAU1N6SgplI5S0FNQc11vRTUbApqCmoeSEHNDSmoqVTOCnugtn///rp1606ePNmTktN77969u2zZsk6dOjE0uJ0OZbh9+/bMmTMHDRpEh/ekapcuXZo/f37//v09GRxlucs5c+a0bdvWk3qh8+fPT506lb8KagpqCmpuSEHNDSmoqVTOCmOgRmkZeb/99ts0adJ4nhTx9T3PVqMmkWfPnt24cSNVqlQeWvLvdRlu3UqSJImHifAXBk2YMKGH9oE8GG4aN27sI0vkv6kU1EJECmpuS0HNDSmoqVTOCnug5u0ivHMKo99CUVALESmouS0FNTekoKZSOSuMgZpK9ZpSUAsRKai5LQU1N6SgplI5S0FNFT6loBYiUlBzWwpqbkhBTaVyloKaKnxKQS1EpKDmthTU3JCCmkrlLAU1VfiUglqISEHNbSmouSEFNZXKWe8oqJla//bbb3fu3IkbN26cOHFs9sXVkiVLZg3J0s/N8c7dXnbdunUrceLEsuXKlSspU6a0JvKK081es5oGwzql4shnz57FiBHDLKsGDXCkSZYcEyZMKDHAuhIHJ7IxMDCQivAjjL4K4LkU1EJECmpuS0HNDSmoqVTOeqdBzd/fv2TJkkRZeGjz5s3ZsmXLlSvXhg0bUqRIwXgxf/78ihUrgjs2+/CxatWqjBkz5s2b15oIYhdjQePGjRcvXixLfhDUDx06JNwmGfF327ZtIBcDrjndjCByTHBwsPyIEiXKwoULY8eODTXWqVMH5mOgJxfojcRjxoxJOhzZsGHD6dOnw5ekY85FkSJFihYtGhXZs2eP7PW2sb0jBbUQkYKa21JQc0MKaiqVs95pUGvZsiWjW9q0ac+dO8fvffv2FSxYcOPGjcDZkydPhg8fHhQUBDDZ7JH44MGDffv2LVeunEmEjevXrx81ahRsdPr06cyZMz979ox/mzRpcuTIkQQJEpi8vv/+ez8/v+TJk//3v/8tWrSoDNxmBCGdR48e1a9fv0SJEoxTFSpUOHv2LEAWEBAAqEGNHNmvX7/z588nSpSIgxlWOKtZs2aTJ0+OFSsWiGDOZTuIVq1atcKFC2/ZsoXCK6gpqHkiBTW3paDmhhTUVCpnvdOg1qJFi4EDB8JPV65cadSo0YEDBxxADVSKHj267cWnogYNGlS+fHmHRIC53bt337p1i7OgJY7PmDHj3Llzs2bNmjBhwpkzZy5fvhzqmjFjxoMHDzp27BgtWrR69eoBc7YX4yCJ//777wMGDBgzZowku2DBghgxYpB73bp1SZahpF27dmxkb4cOHUgkZ86cH3/8sYAakGfONQUD1LZu3aqgpqDmoRTU3JaCmhtSUFOpnPXughoR6OTJkxUrVoR1GEnXrFmTOXPmAgUKWEEN3jL2+fXXX0GusmXLWhPhb48ePYoWLZovXz5/f/8dO3aMHTs2bdq0wN9nn31Wq1atu3fvcky8ePEkzDMMAXaMHXK9zQpq/fv3Hzdu3OHDhxs2bMi/jB3go4AaxPbDDz80bdqU05csWXLjxg0S519zRQ1669KlC+kkt4tkixcv/v333yuoKah5KAU1t6Wg5oYU1FQqZ72joMZwAIQBQAAZLBUnTpyYMWOWLFmyc+fOW7ZsSZIkyS+//AJRPXz4kFH+448/njFjBh0+ceLEHJk0aVKbfQgT03FK5cqVgbwLFy4AeePHjwfUfvzxx7hx4y5YsGDmzJk2+3Njkq98corgx9CQJ08e2WgFNeI9HLZ27dqUKVMKqAFeFy9eBOCaNGlCsZctW0bZ/Pz8rKBWv379ggULQhLw2erVq0+dOnX58uWjR48qqCmoeSgFNbeloOaGFNRUKme9o6BGreGq69ev87t79+7ffffdrVu3okePDgwBW++//36RIkUANfnG+f83VoQI+fPnh+RsFlCDq2rXru3v7589e/ZVq1ZBcgUKFNi9e3f8+PElo99++w0KNMf/+uuv0JXtn8+oAWr//e9/R44cabO/9bl48eJo0aLJrU+48NGjRyNGjBg6dChRc8iQIeXKlWPgtt76/Pzzz8eMGQMCAhPylqheUVNQCxEpqLktBTU3pKCmUjnrHQU1mz24QkKHDx+eNGnS1q1bp0yZQqzl78GDB2GjJ0+e7NmzJ2fOnMJb/99eESJIwBbwQhcvXuzYsSPxTN4A5S/jMsSWIEECft+9e7dEiRINGjQQO8NSy5cvP3HiBBzm8DIBaCUAx6CcI0cOEhFQS5EiBec2a9aMfCkMXLho0SL2Wl8mqFWrFmTJYZJmr169KlSooM+o2UEtiR3U3HTyv0Htuzkdmr/joFaocfsvM2TN7T45Pbd90a3BG4Baw4Z/g5pnrhsuQC3ymIGd3lFQ69Lf3V5re/b06ZZ1i94U1CoBah5EQ86MoKCmejt6p0ENFIPM4B5GB8IwXXrMmDHt2rWLEyeOPKPWqFEjQosxEQOuHGYSMatvmC0ENoL6jz/+KKB2586dwoULV61a1SyW9v33358+fRpQe0UiFCl69Ohy61Pe+mTj9OnTb9261b17d+BM0E1AjTSHDRtmXaHDz8+vZs2aCmqMv8f/dytdphxu+zjWO/LDtuH/7fG6oNatGx4QzkCtUMECBUrXTZ4qnSf1mvfNsE0bvnsdUMuXL1/n3LmTxY3roesGPXrUYdEiL4La119P/l/gowSJk7ud+3vvv79y/uSxIwa8JqhlDQpKan9L3W2RVMzo0T9bs+bAiRM2r4HaoG17jlau2dTtyPTns2dHD+1s36Ju1SpVXhPUohw/nh/n9MR0mCtSpAErV67Yvds6vKtUnuudBrV9+/ZVqVIlYcKEZuP777+/dOnSPHnyEJ8cXiagw9eqVQuSc7mSrREnZsyYUUCNLG7fvp03b94oUaKYu6iPHj26cOFCzJgxX5YI/86ePRsCk5uqyZMnBxCtxZArZ5988snEiRMFxZxv0ZYoUWLjxo0Kalt3H0uWMq3bTo71/uf/4zcThmfOnPlfQa1a8eKLW7R48uyZJxb/6/nz27/+ui1aND+fAbX8+fKmyVLYE+BAm1fP37l982uCWqVkyRLEiuWh4z588uSr7du9CGoTJ07affhsnLgJbG6D2nvv7dy8avqUr0qVKvU6oBbp7NkE0aJ5OKDHjBLlm0OHjv38s817oPbduv8rVKKi2xX5668/z/187D+9OnxUteprgtqm2bOTWMZk9/T+e+/tu3TpwMmTcePGDWW7qcK33l1Qo+J00V9++cUs/S9KmjQpXMWPe/fu/frrr9bj4Z748eO/uucz0EyaNKlt27YxYsSQ9W8DAgKsa9vyO1WqVK+4G8IxDx8+5IATJ05kyZKFTB0OliZbuXJltWrVKKpDeWTv9OnTITnnve+OZPz9LWKyfEXKPXf3JkrECBE3rJzdvlnV17miVjhPnkLJkv29mp0nNn/+/NHTp9mrV//888+9bcK/Jc+oNe00PGPWvBEiul+vzzvVW7bo29e99dm4cU6Pb31ee/AgW//+Xr31OfW9BDk+SJ0+gru3PiNFijz6vx3/06PN6976TJIknYe3PgkJMWOWHTp0u1dvff58OahNl4Fud9u/b32uXVilZPbXv/WZ/caNsjlyeH7r8+Ovv561eXMUvfWpClG9u6D2liQLf0SKFMnzMU5eDrA5DZfmcTdBTJd7pQw2bwy1PqLQf5mgTunSG7t3j/D0qSfF/vuKWnDw/MePe/v5edF6RvoygdvSlwnckL5MoFI5S0FNFT7llbc+v+/aNcKzZ54UG1DztWfUFNTck4KaG1JQU6mcpaCmCp/S5TlCRApqbktBzQ0pqKlUzlJQU4VPKaiFiBTU3JaCmhtSUFOpnKWgpgqfUlALESmouS0FNTekoKZSOUtBTRU+paAWIlJQc1sKam5IQU2lcpaCmip8SkEtRKSg5rYU1NyQgppK5SwFNVX4lIJaiEhBzW0pqLkhBTWVylkKaqrwKQW1EJGCmttSUHNDCmoqlbMU1FThUwpqISIFNbeloOaGFNRUKmcpqKnCpxTUQkQKam5LQc0NKaipVM5SUFOFTymohYgU1NyWgpobUlBTqZyloKYKn1JQCxEpqLktBTU3pKCmUjlLQU0VPqWgFiJSUHNbCmpuSEFNpXKWgpoqfEpBLUSkoOa2FNTckIKaSuUsBTVV+JSCWohIQc1tKai5IQU1lcpZCmqq8CkFtRCRgprbUlBzQwpqKpWzFNRU4VMKaiEiBTW3paDmhhTUVCpnKaipwqcU1EJECmpuS0HNDSmoqVTOUlBThU8pqIWIFNTcloKaG1JQU6mcFZZALQwV1e0KeiWivLpIHsZLb8kCamX+ctdx3osYceOquR3fcVArXLBRB0Atty2Cm54QwQaoNXojUMsBqHlW8mu//prd26Bm+xvUqLKbVYkcKdLYgZ379vr0NUGtDaCWMKHNg3GSMyPGilV2xIjtXge1Tl/85XYigNr6JW8Gar/8Uil7dk9Np6CmejsKe6B29uzZKFGieJ7a3bt348WL5zmFMLIwFnieDolcu3YtWbJknlctODg4Tpw4IdKy0aNHT5IkiefphL5k/N35w6nkqTPYR1F3RKP8/NOhyeOGvCaofQ+oPX3qSbH/ev4cUFv89KnvgFqe3Lky5y2bKEmKCBHdDdvPbeuWf7tpw+qsWbP+K6jlzZu3UurUSWPFsnlGCb8+fjx2yxYvgtrESZMOHL8cJ35Ct3NnnvB/G5ZNmTj6dUCtR48eca5ejRcjhkeFfv48UtSoM/ftO+rvb/MSqA0ePGj1xu3Fy1Rze/z6688/T5887NetbdWqVV8T1B7/8EPuVKk8NN37kSKN2rRp7Q8/KKipQlZhCdTQ7du3c+XKlTp1akKjJ+lQ6xMnTmTMmDFatGgeFunBgwePHj0CsP4fe+cBFkXOxvFBmqgUFcSKiA0rCgp2T9E7K1hQsZy9gaJ4KvbeUOy994YN9FQOK2JDEQtYUFSsoHSUJizw/dkc8+3BgrgDrCvvXx+e2ZnMm0wmefNLZpIRmJNwKAEBAfXq1RPuHIOCgpCeUqVKCcwiOE1ra+u5c+cKTI9cxPyvq9s/ZcqWlxnUcFc+vA3auWWtmZlZLiyO0piYlNStZcvVf/7JiURCkg1Qi4+L8ylVyumnATWThg3KVKihpV1W5oKZzin53rzgce4MsjH34o0i17BhwzqammU0NARWhISUlDP+/p8+fUKrKRdQW7dunds5rxIltWSOHP2/R7439uzabGnZ4bugZm9vH+vvrymsEwtDyqqq3sHBj58/5+QHavsOnajb0FxJ1mqL+vjh7cuFc5169OiRR1A7sXUripzAtlClWLGHISG+AQG6urqFnG+kX1sKBmqoVAMGDHB1dUVVFOJERCJRnTp1zpw5Y2xsLNAZXbhw4enTpxMnThRiJ10sCwuLGzduCBwvRM7Y2NhMmzbN3Nxc0DO41FRg8dGjR6dOnSokPfJS5qNPffE7ajJivZKS8nm3vXaDuxl/b0QtISGhXq1adXV10wRWqPT05NRUywEDZs+R/R2dfFTmo88ltes2knlEDaA2Z0LfE0f2GBkZff/RZ5MmO/v2bViunMCKGfoTvaMmY+wqquqr5o2bMTmv76iN0tOrLvgdtYxHn8uWyf/R5/i5MlfblBTRxb8P/+ijz9/RSRb+6HPbtt2ensUF9/9JJEkpJKidOHGCE+ZE0PzUrFnz3Llz330W8139888/T548+euvv4TYQUvPmqjbgofNYQr9yBkzZjRr1kwgqH369Onw4cMKDmqFN5nApl27s5MnC3/0GRkbuz8+fqqTkxxzjxdNJpBZNJlABtFkAhIpuwjUCNSki0CNo1mfBGoCRKAmgwjUSKTsIlAjUJMuAjWOQI1ATYAI1GQQgRqJlF0EagRq0kWgxhGoEagJEIGaDCJQI5Gyi0CNQE26CNQ4AjUCNQEiUJNBBGokUnYRqBGoSReBGkegRqAmQARqMohAjUTKLgI1AjXpIlDjCNQI1ASIQE0GEaiRSNlFoEagJl0EahyBGoGaABGoySACNRIpuwjUCNSki0CNI1AjUBMgAjUZRKBGImUXgRqBmnQRqHEEagRqAkSgJoMI1Eik7CJQI1CTLgI1jkCNQE2ACNRkEIEaiZRdBGoEatJFoMYRqBGoCRCBmgwiUCORsotAjUBNugjUOAI1AjUBIlCTQQRqJFJ2EagRqEkXgRpHoEagJkAEajKIQI1Eyi4CNQI16SJQ4wjUCNQEiEBNBhGokUjZRaBGoCZdBGocgRqBmgARqMkgAjUSKbsI1AjUpItAjSNQI1ATIAI1GUSgRiJlF4EagZp0EahxBGoEagJEoCaDCNRIpOwiUCNQky4CNY5AjUBNgAjUZBCBGomUXQRqBGrSRaDGEagRqAkQgZoMIlAjkbJLUUENTaMQOyKRCE3v2bNnjY2NBTojT0/Pp0+fAtSE5CTORTLMzMwAamhXhKQHpnr27AlQMzc3F8iOALWjR48qOKjpmzZrJ/OdQRNLoNa8mfkAuyU16zYCtspq5gdBrV8/Ez09gRUz5MsXgFpYWJiqqqq8QI0rXa+yQQ2Z801VTXXlvPEzJ+cJ1JycnEaXK5cBakIcEZqEnwbUZL6OVFHyhR8EtZrv3/9Rr56QrIOU1dUHbNu25+JFAjVS/krxQM3W1nbfvn2MbGS2g+bH1NT01KlTNWrUEOiMrly58vz587Fjxwqxky5WmzZtLl26JHxEbeDAgVOmTMEFChxRi4mJARMrNKi9+JBQq56pzIUcoHbL69zcqWMA9HkBNQ8GagKSnZae/rOBWovmFq06Da5SrZbMxQmnbVk186z7se9WNzauPKtFi0o6OrmHVBJTRS6KTEjov3OnHEfUNm3a/CFWpZx+ZU7W2FVU1A7uWO68cEYeQa1lcjLyTaBL1ylZctiRIzcePODkBmoLrt99at1vpMwXkpYq8rl+Yaht5y6dO+cV1D58aFG3bu5BldPSUnMeHM1Iq5qa3Y4de//5p7iGRiHnG+nXloKBWkJCgpmZWYsWLUQikRA7uGo3N7cOHTpoaWkJTNLHjx9jY2Pr168vcJAPTHD69Olu3boJd45gx4YNG+rq6gq0A/iAnVmzZgm0Ixcx/3vlVkDFKtVlNoJ7ERjgu37lgrp1634X1Dq1aLHOxiZVWMkEqEXHxz/U1Z02fbocc48XQK1x40a1Tdrqla8kpiMZde7kbs/zZ+rUqfNdUNu9e3fc16/KubSIxYrpXb0a26RJSokSuTAQ/FpCYuLkyZNx4+QCauvXb7j18LW2jq7MsSPlVzyOb1q3AqCWy/NT1s27evXq0ydPcokJGaJ/8aJyUlKIlZVSzm4fqUUneNy4cZycQG3hggXuHl7N23SS2QiAKvCx39SJI7t17frdS0BTcvfu3Yuenrk3hOnKyi02b74zalRarg+yYWTSpEk6OjqFnG+kX1sKBmpofQcOHHj8+HGBI2qonDVr1vTw8Khdu7ZAZ3ThwoUnT544OjoKH1Fj76ipq6sLSQ/s9OjRA3TVtGlTgY8+w8PDDxw4oNAjanFK5U2btU/nZB9RO39y79jBXY2/9+gT0fXp0yc+MVF4hcJdG2BrO2rUKDnmHi82otbfbkmtuo2VislenGY79D1+eFdeHn1yeeCDtLVrlXr04CpXVlJRyd0Uk7wefRYr06CSQXUlWd9RU1VVWznPfkbe3lH77pWmp6amz5/PxcUprVyplHNhlq8yH31Gj5gwV+aqlCpKuXDmcJe2DfLy6JP7bwbmqLS0dDMzJR8fLm/+WS5FjvSrSvFAjZ9MIEQM1M6dO/fdLv535enpCVBDL0o4qJmZmfn4+AgHNWtr65kzZ1pYWAh/R40mE+TlHTVWicA0At9/l5RKzghSmCrkyQR51dq1nBjUuJ8jl6Sq0CYT5FWpqZwY1LiVK7mfHdQKbzIBl2dQ48zMOAI1kjykwKBGsz5zMkWzPrnCBbVfWARqMotATaY0ygHUvi+0kjyo0UQBUqGLQI1ATboI1DgCNQI1ASJQkymNBGokUlYRqBGoSReBGkegRqAmQARqMqWRQI1EyioCNQI16SJQ4wjUCNQEiEBNpjQSqJFIWUWgRqAmXQRqXB5ADXcNGSUOqcQCsHkhuAu5rArBKh1OzBKGncja9by/BM3Whcl+VppYklHkFG8uIlCTWQRqMqWRQI1EyioCNQI16SJQ43IANVZlvn79Gh0dbWBgcO3atVKlSpUsWbJOnTqMtEJDQ9+/f29ubp4Fnr58+RIcHIyfmpqaVatW9fLyatWqlaqqKl8HcW5AQECjRo0kI8pMiZKkKRyKiYlREwunICKkkJWciIgItoReVFTUw4cP27Vrh9L+6tUr/MVOIyMjPz+/Fi1a5PEDGARqMotATaY0EqiRSFlFoEagJl0EalzOoAbk6t+/PwoP/np6eurp6ZUrV87a2trX13f27Nk4GhkZCRQDD82bN09JLJwYEhLi7e0NvFuzZs39+/dXr149efLkuLg4KysrHfGC8mPGjImPj//zzz+xHRYWNnr0aFwFuxd//PHHlClTmB02aLdixYp69ep16NDhyJEjSFv37t11xKv5jx07dvPmzSKRCHB27NixOXPmgOTWr1/fqVMn2Gnfvv2OHTsmTZoEssxLDhCoySwCNZnSSKBGImUVgRqBmnQRqHE5gBpy5tKlSxoaGq1atbKxsUlOTkaGlylTpmfPnoj0zJkzHz9+1NfXB4H17t0b+7PYBCfh1gDm3NzcFi5cWKJECZRG3Km3b996eXmpqKgMGTKE++/gGQhv2rRpBw4cyFg1PvPxpZ2dnYWFxaBBg0aMGIGfW7du1dLSwlEQGw4lJCS8e/cOaZs+fbq/v/+DBw+GDRvGDCJSMB+BWkGLQE2mNBKokUhZRaBGoCZdBGpcDqCGwnPs2DETE5N69eoNHDiwTp06bEStV69e2F+lShXwE3IPuHb06NEJEybghrIbAXS7cuXK69evx4wZ4+Tk9ObNG4QH8IlEosePH4OcvL29gValS5dGwwzSwrlGRkZs/Ax7AIU8qF2+fBnN/6tXr9q1a3f16lXgnbW1dalSpfz8/ICAN27cQDVBALDdggULPn/+vHr1akTdpk0bMBxSRaBWCCJQkymNBGokUlYRqBGoSReBGpfziBqgB2zUtm1bU1PTyMhIwJCOjk79+vUnT57Mn4sbijD29vYdO3Zke3bv3m1gYBAdHQ1TuE3gqt9//x2teFJS0t69e3G/QFTAODYOB4xbu3btH3/8oa6u/vXrV+xhH3xkFRaRamtrIyXx8fEBAQFAQEBYWFjYo0ePrKysEAb7cRYK56hRo+7duxcaGorYHR0dS5Qo4enpieJKoFbQIlCTKY0EaiRSVhGoEahJF4Eal+s7ai4uLqVLlwZpeXh4aGlplStXrmfPnhEREWfOnGF1KjExEbfAzMxM8iHm06dPUVoYw7m7u2/bti1CLDc3N9y1hIQEkNbQoUPBcCKRKCgoKDg4eOPGjUuXLgVX1ahRgzeFu+Pt7Q1TwDiwF0BtxIgRsIn9e/bswQZOB/+hgQc+wsiaNWsAcDhaq1ats2fPjhw5EmflJQcI1GQWgZpMaSRQI5GyikCNQE26CNS4nJfnYI8jkb3IbWdnZ11dXYAasl0ywMOHD319fUeNGsW308jS4cOHg5wMDAzwE2ehAUaYt2/fgrfAVXFiIQwwy8bGRlVVFVcBzDI2NmafcLW3t2f3FAV4yJAh69atY++lAc769eunra0NIwcPHsQh9tLb6tWrN2/ejESCzNauXcvDGSxzeatBBGoyi0BNpjQSqJFIWUWgRqAmXQRqXK6gxm9fu3atZMmSpUqVAk5JBnj37h0ykF+kgxPfmvPnz2Mnu8WgJbCXmpoaHwB8dv/+/YYNG4LbsJ0tMUr8+mewDzt37tz58uULYjc0NGzcuDF7gw0WXr9+DWIrXbp027ZtNTU1ES/oDYdYRIgRJQRREKgVqAjUZEojgRqJlFUEagRq0kWgxuVtwVs2tMZlFsjsi5/lVMWyH8W9Y7CVvWlnC+FmWbo2pyiy7BRYUwjUZBOBmkxpJFAjkbKKQI1ATboI1Lic31GLj4+/cuUKSlHVqlX//vtv3Dg1NbU//viDEwBq2Ni0aRMievToEZuU8Pr16/fv36ORxva6detGjx6trq5+69at8PBw7GnYsOGHDx/KlCmDjYLLRgI1mUWgJlMaCdRIpKwiUCNQky4CNS4HUEMO+/j47Nu3z87OTkdHB3Rlbm6uoqLSs2dP9mUCX19fBHBwcGBjYNizYsUKDQ0NNtESf21tbbnMAhwVFYUTBw0aZGhoiBNRIO/fvz9//nz8vXv3bq1atU6dOoUoFi9ezMpYly5d1qxZA8vly5f39/cvW7asqalpwWUjgZrMIlCTKY0EaiRSVhGoEahJF4EalzOo4TZduHBhypQp6urqyGoLCwse1EQikbOz8zmxypQpwx5lTps27datW6qqqjACrgK3cZkFODw83Nra+sqVK9hetWoVCqSfnx+wbPfu3biP2trao0aNWrJkybZt23AjcArK/969e9XU1GAKZ5UrV84M7UeBiUBNZhGoyZRGAjUSKasI1AjUpItAjct1RO3QoUNDhgxBLi1atGj48OFojAFq58+ff/PmDZpVAwODs2fPRkZGjhgxAjA3ffr0CRMmVKpUScLyv7cGoIb7df36dXd39z179gDL7t69C1DbuXNnr169AGoTJ07E6fjJQA2x4Cf2h4WFXbt2zdbW1sTEpOCykUBNZhGoyZRGAjUSKasI1AjUpItAjcsV1C5cuIBMRhs8c+bMpk2b8iNqEucqsRkA2ImS5unpyfaXLFnS2dmZDwNQs7Kyunr1qqqqqouLCyLy8/MD/IH59PX1DQ0N+/fvD+bDKexbn3379p0/f34xscBqZcuWpRG1n1MEajKlkUCNRMoqRQU1fqqdbELzU6tWLTSfderUEViT0QAzUBNihE0eZKCmrq4u0BQDNQsLC4HsGBoaeuTIEYUGtdg03cYW7WQu5Ghi/3HfP26oVRZQe/HixejRo/X09ID7ycnJYGIGarmYyj5hk+2MjY3t1auXjlhVqlRp2LDh/fv3Fy5cCLPr169/+fLl0qVLQWPsA50aGhofP35UEdMJ7AQEBOjq6hY0qDVvZt5vzIKadRoBW2W2M29S/xNH9hQ1UEvXqlPRwEjmfFNVVVu90GHWlLFFDdQCXkUMs58tc7UViVIunT3avb1J586dCdRIv4AUDNQSEhLQqq1bty77KlM/JLiDLl26bN26tVq1agKTdPPmzVevXg0ZMkRgTsKh9O7dG2DEFiOVWUiGg4MDMKJBgwYCQS06OtrHx8fJyUlgFslFDNS87jyrVLUmJ+utQQY+feSzxnlu/fr1JGd98n+RS8uXLzc2NkbIVq1anT59OsvwSevWrT9//hwUFJRlsQxbW1tQF3uDjTeIAmloaHjr1q1Fixbxn/VkpyxYsADEXKJECRRdtpN9yQqg1rRp04LLRoBao0Ymdc066FWoklNhKqasWqpMxS/hb3Oxc8Z1h+d5d+H9on+lCKC2bt36OwHvdcro5XLJysqqItG3nEgORe7CmcNbNrgUKVBDn+S0h1fL9t24nGutlm7VuOiPaanSW4G01NRnAb6Txw/t1q0bgRrpF5CCgVpoaGjt2rVlfpQgqS9fvpQqVUq4KSAjWms1NTXhSYqLi0OShNuJj48vXry4smBfDB/n6Og4b9484UkqfIEwLly44OV1FVkhoJArxcfFTZk6tUKFClKLCrMcExOD6MBM+JslgIqKCsLwdMWLFRjJVoT/8BQKuZGRUZYRuODg4KpVq2ZZdDcqKgpYr6WlVXDZiJRv2LAhJCRETS2n/oPSN66Uf2q3pspHOS7HhUhAq8uXr9DR0Sk6oIbid/XqlVyqYXp6schknYoan5LT1KVmHfLqy5evY8aMyR/AVQRQgy89ceLEpUuX9MuVS8+R1JTupdo0UPZQ5+KkHkaNiYyMHDVqlKmpaT6D2u3bBQhq+ZJU0q8oBQM1/tGn8BE1Y2Pjc+fO1axZU2BNvnjx4tOnTwE0QnKSrXHapEkTNjdQSHpgqnfv3jNmzBA40AKPGR4erriPPtMzJdwUQzSp5SRfFpXNd1P5qLxkY0hk0pCl9z1XtiiWa8JzycYfliKAGnvxNJcAorT020+i25roImQuwfIt3xQB1PJS3lLTuK7Tb++dblq+TG5viSDH8qVLz5L1f1DLjz55loT+i2g/U8Un/VRSVFDjaDJBzqZoMgGp0IRy+yE8EaB2YVULFeV8ahe/K0UAte8qRZR283EkQI0rHDpXBFDLi0SpaZ2dbu2dYVZJV6OQokQrif8WFpxIJPN7FNKF+16nDnfo0L/bJJI0EagRqEkXgVpBCTUuOVneici/q+G4D5FJI5zvn3dpUUjQBMgAqNnYcOXKKTRwpKSm334W3dq0PMpDYTTRKHiLF2eAmrOzPJlAVZUTNtAlH1CDUG3zvbkEPS9Y8O8dIVAj5SACNQI16SJQKyjFxGRwxq8iuI8vianHb4QN71C+WKG1ND4+nLExp6UlsMmXr1LT0t+Gf6umn1HfCwnUvLwyaOP33+XJBOPGcXp6QgzIAdQKTgC1WbO4pUsJ1Ei5iECNQE26CNQKSklJGW+6CHsT8ecR/Ed47LfFB16scWhQSKNbgDNXV65jR05TU6FH1ERp6QHBXxo11OXikgvpxcR9+7iEBM7ePv9Hhr4rxIgbt2VLxgBS9epCLBGokYqaCNQI1KSLQI2UF4nfUUsavMzv4kp6R+3HJH5HLaqtSVmuKLyjxhoaOBNgopGREEsEaqSiJgI1AjXp+klALUv5lFxdjMu1DGSfRCnbtMqcovvu/p9q8mbBiSYTyKyiNZmA1YspUzIefRKo8SJQI+VBBGoEatIlR1Bj8/NFIpGKikqWS8gJ1NhO3Fa2oaqqyh+SDdT4BEjN4SzT/tlaeswyv7oKgVoBikBNBhGo/YQiUCPlQQRqBGrSJV9QCw4OvnLlirm5efny5Tdu3Kirq+vg4IBDz58/T0xM3LZtm729PW5ivXr1WHaxYoyC8eXLl8jIyOHDh4eHhwcFBXXp0uXjx48xMTE4ipAGBgaXL1/u2rUrfuLqwsLCWIw4VL16dUksi4+PP3DgwJgxYy5evIhCcvXqVVtbWwSIiop69+6diYkJ8mf16tXsQ+lnzpxBFMC1cuXKGRkZvXz5ElGoKDJD/NDNIlCTTQRqsolAjVTURKBGoCZd8gI1Npzm6Oi4bt26sWPHIva1a9cCgObMyfhIM24ZUGzhwoUTJ04sUaIErlRLS0tymA0bEyZMAHUBsyZPntyvXz9fX983b94gDGALaPX3339jJ0I+evTo2bNnLLrZs2dfv369Mhr+TOYD7dnY2OCU06dP169f/8KFC6NGjVJWVn716hV2AgQTEhIWL17s7OwMy/PF4sRl8uHDh0+fPu3bty+BWgGKQE0GEaj9hCJQI+VBBGoEatIlR1DDXV66dClozMXFBZfz/v17BmqAp927d1etWrV169b+/v6BgYEmJiZt2rThH0Sy788ApxDS29u7W7duffr0YR9xwtFNmzYNGzYMoAaKQs5cvHjRy8uL5fzx48cBapUqVWIJwM7Lly/fvHkThQ3g9eHDBxixt7fH32PHjh08eHDevHlfv349evToli1bYMrBwaFMmTIikQio17x5c/AfgVrBikBNBhGo/YQiUCPlQQRqBGrSJV9QW7JkyaJFi1asWKGqqvrq1SsGagEBAbhxku+cqamp1a9fn/2Mi4sDRb1+/RoUBUgCLQUFBYHVsH3y5Enw3Pbt2x0dHW1sbCwtLbEBxho/fnyW2NngHBAQoDZ69GiwXY0aNRo0aODh4TFixIhbt27du3dv0qRJy5cvnz59+qxZs5BOllfx8fEgPxh/9OgRjagVuAjUZBCB2k8oAjVSHkSgRqAmXXIENVwC8nPdunVjxowBLe3Zs4eB2ufPn3FIEtSUlZVxiP1MTk4ODg5GeB0dHRyKjo4GjfXs2RPb7u7ubdu2xZ3CT+AaSAvhd+zYAbR68eIFSgIwC1BYr169YsWKITyKBzaQA8A1HGrevLmmpqaWlhZsamtrAxwfP36MWIyNjStUqPD+/Xs7OzvEDlIsU6YMcv7du3f9+vVTVuQlvn7ofskN1OjLBD8kuX+ZADcLzmTsWK5aNSELuYnSue4zfHY5Na6Y5VufxYplgLti4Q6BGikPIlAjUJOun2EygYWFha6u7uLFi/X19dk7amfPng0NDWXJ8/DwOHXqlCQPAaQ2btyIwJx4rkCjRo1+//13XAJorEqVKioqKrjdfn5+ADXA1tevXxHRrFmzli1bhkxTVVUFqHGZg2pBQUE7d+7s3bs39j98+BB8Zm1tjUOenp5JSUnVqlVDETp06NCaNWsQ+MGDBxERER06dMA2aBLbDRo0IFArQO3ezQUEZCx4S18myLt+hi8TXLrENWnC6egIsZGanr7vymeb5rpaJf47nlqlCjdsmIIVCQI1Uh5EoEagJl1yX54D9wiQFBYWtmjRIh7U+IUwsGFlZXXp0iXJawR+LVy4cP369eytNZyurq4uaTYhIQH45ejo6OXlxYAPBBYbG4sNhOzZsyeXCWofPnwYPHjw/v37S5Ys6ezs3KJFi+7du8MsYgSKde3aNSoqavny5du2bUN6bt269f79ewRgEbF4aXmOgosyY1jI318Oy+vnq4rclwnQddmwgUMtq1hRiCVRevqUzY9nDaqtp632f+OBgdyePZy3t4I9DSdQI+VBBGoEatIl9wVvWclMTk7++PGjiopKFXSXJW46LvPp06f16tWTvEYUDzATozT8LV++fPXq1SUfleIsYFZFcTuR+yq12BMTExMYGIh8MDQ0xCnsECwEBwcD8nCb6tSpA4zjxGt5+Pr6siE0BGPxFlOsnr2sks+IGrtfCt6w0ZcJZJMoNa2T0+19M0z//44aLs3Hh3Nw4O7eJVAj/XoiUCNQky65g9rXr1/V1dWBaOxVfW1tbcm0gYqQY0pi8fsZirFzkY1xcXFly5ZleQKxt/sBauzZqEgkYoUfphASG2ylD94UO5ETMx8nsdYuG/BTypRkSCb+kFzyrZAlH1D7JUSTCWSTlMkEuLTbt7kJEwjUSL+kCNQI1KRLjpMJgFDnz59HVhgZGenq6lpaWl66dKlXr15cJg+NGjVqx44dbDIBu0ZWjL29vSMjI42NjV+9esWmao4cORKYNXHixI8fP86bN69+/frOzs4zZ87EWb1798ZfGOzZsyd4Dhtdu3YtIsNg+SgCNZlFoCabCNRIRU0EagRq0iXfWZ/I1Vu3boHY2rRp07Jly507d+K+A9pu3Ljx+PFjNTW1mJiYRo0amZiYlC9fnh/WAsA5ODiUK1fOx8encePGuL/Ys3jxYisrKzMzswULFsyePXvJkiVz5szBKStWrJgyZQqb5nn27Fn8ZW+hFebF/gIiUJNZBGqyiUCNVNREoEagJl1yfPSJqNmXCZB+JyenWbNmzZ8/f+jQoVWrVg0KCgKfsUKLbWVl5dq1a/OXicDAr4SEBICXhYUFA7WFYiHMxo0b7ezseFBr27athoZGu3btENeZM2fU1dUJ1GQQgZrMIlCTTQRqpKImAjUCNemSI6jhEg4ePPj06VNs169fv1u3bhcvXuzduzfuu0gkYmveIrtUVFSQV+yRKBOS6uzsfP/+fW9vbxsbGwZq2Ll69Wqc4uLiMnnyZB7UQG9z587lxMB3/PhxExOTLl26EKj9qAjUZBaBmmwiUCMVNRGoEahJl3yX54iOjn79+jUDMrb8rLm5OQ75+/s3bNiQXaabmxt7z4zLfEdt/Pjxw4YNK1GixIsXLxo1aoT7O3LkSE9Pz2fPnnXo0MHLy2vixIk8qOG6mKmSJUuyeQY0opZHsdxOTRO7jnQuJDJpqPP9CyuFgppi+SLhEqWmywHUvn7lli+XDxOgcjk55ceCt+ldZvrumWpSiV/wFtZ8fTNA7datglpHDWhbEHRLoEbKgxQJ1Nhr5v369QM9JCQkCDGFZt7MzOzYsWM1atQQ4iJx7uXLl58/fw5EANkISRJYoWXLlrAm8NNDyKU///wT4Ghqaiowi8LDw8+ePSsXUEtKSgKrsWTgXj9+/JgtcrZw4UJs4yjChISE+Pn5SYIa9oC0kIHgXUAYQG306NH4iQtBySlbtqyysjJAjQ2kwQi7ZbBw5coVRESglkcB0ZKSU4c7309MTlPi0gFs8YmpwkfUFMgX5YsAajcCIn9rVIigtnBhxkcdSpeW2zWjUmtqChz0Qin5FJOsp6WqUkwi075946KiuAoVCiTZuDsrVnB9+uS/ZQI1Uh6kYKAWFxc3dOhQgWNOTGjU9fX1hS8fn5KSgvZeeJLgqd+/f1+pUiXhLjsyMrJ06dL5whwdO3ZEhgu380Ni61+wCZ7I2+Tk5OvXr3fu3Bk/t27dqqamhqPY/88//5w6dUoS1Bh44cIDAwPLlClz6dIlYD37KDus4V7j78aNGyeg5/3fphGghnMtLS0J1PIigFp8kmj3+bc2bSry7qOynobAovv83Vfnwy/KaKkVkZVNviWnWresYGmmxxUOqKGO+PhkoFLdunK4WsSOyrVkCTdoEGdgIMSSKC19iPODVXb1ypfOHFGDr3j4kEMH7MyZAhlRO3+eK1WKGzw4/y0TqJHyIAUDNZbaIuLHfxLJN7e/Wz6lJg/UxSOX1IVtue8teEvKRRmglig6fvXj8K5VJfcLzL2nb79cvR8xuruhinJRuQvpmR+PKiRQY6v9oWoUfjlX3HfUkPJjx7ikJG7IkPzPFgI1Uh6kYKAm7yQURSkiqHE5sBeBWr7oX1Dz+jiiq2E+mmWgNqpbVVWVojWuWSRKHYGaVBGokfIgRQI1Eon0M6hAQW10d8P8AjVybj+dGKhVqybEhig1vcs0AjVSERKBGqnoKmN6Smo6e9BWJEY18kkEaiQZNd2JG2MnHNQ6TL55aHaTynoEaqQiIQI1UtFVWlr6Se8Qm7ZZv9FOyl0KBGpwb4OW3KtYtji1gnJWxvdxi1mddLnZ1jZSt7KQm4FzWzcsY2lWrmTxTCYjUCP90iJQIxVdpaamj1p5f6eTqRKB2o9IsUCt7/y7h+c0VVWh+/sTaLoTN9aOMxQ0osbr/3WWQI30S4tAjVR0BVAbttxv7wwzArUfEoEaSUZNmcLZ2wucTMCLQI1URFS0QE3qxfK1PcuUwJxmCJJ+GRGoySZFBDU11aI1k/SnU/7N+pQiAjXSL60iB2rQ69evo6KiGjRooK6ujp9v3rwxyuY4cgI1tjMlJYVtKCsrJyYmfv78GaZKlSpVOp+W/GYLtIpEIha1qqqqv79/rVq1njx5YmpqWqxYMXYhCICj7EsGSUlJL1++rF+/PidezZ+dy4QASCSuGpdMOCIpAjXZRKBG+mERqOWUcgI10vdUtEAN+DJt2jRQWqVKla5evers7Ny4cePZs2evWbOGBejevfvu3bt1dXXZz8GDB8+dO7dGjRr86qnIroSEhM2bN+Mvtjt27AiK2rlzp6GhoYWFhaWlJR8Mfz9+/IiIuP9CAJgpJCRE8osIJUqU0NP7z+rkOP3Ro0fu7u7Yhn0HB4eePXtu3brVysrq/v377CsIwcHBhw8frlChwp9//gkUA4fZ29v/888/MMKfy2wOHDgwLi7ur7/+unTpEq28LykCNdlEoEb6YRGo5ZRyAjXS91S0QA00Y2pqGhYWhu2IiAgXF5dFixbNmTNn9erVLEDDhg21tLTU1NQ48UCUn5/fjRs3jI2NJUENJ3bu3Hn9+vVpaWnVqlUDje3bt8/AwMDMzKxDhw58MBwFxoGcYEdJLHbI29u7U6dOLApOPCYHawcOHOAkWAHnHjlyBOeOHTsWUcNyly5deFDDuUlJSUjqqlWrTp48+e3bN5z+4cMHOzs7Dw8PnM6fy25uvXr13r59S6CWXQRqsolAjfTDIlDLKeUEaqTvqWiBWkxMTN26dc+ePYu/ixcv1tbWBtxIglrjxo0XLlyI/azZBtzs378/O6gBmG7dusV+3rt3TxLUWH6yJ6q9evWytLQEDnJiDmA2r127dvfuXUdHR1VVVS7zaSw7JAlqhw4dAiYCxRB1amoq2E4S1JDIMmXKjB8/PiUlpXXr1nv27NHQ0OBBTfJcTvw9pcePH0+aNOny5csEapLiQY1LLxJOMr9glECN9MMiUMsp5QRqpO+pqIAa/9HuV69ejRw5MjExsV69eps2bcJOSVCzsbF5/fo1jkZHR1euXBlYc/jw4erVq2cBNbCRvb09UMnCwsLX1/fmzZsM1IBlCIDTgXFTp04FMIGWAH8gNvYBeLSU3t7e/fv319XVZa2miorKCLHAbdlBDQlbvnz5yZMnX7x4AURjoKaurj548GCApoH428bTpk3D/ooVK/KghjTv3r3b2toaiRk4cGBYWNiTJ0+2bNlCoJZFALXhy/12OpmmgZXlnZiClopKsWIEaiR5iUAtp5QTqJG+p6IFar/99tvbt29TxVJTUwMYubq6Hj16FDiVlJT06NEj9g4+qOjSpUuOjo7JyckgGzCWkZERoygGat26dcNZYKy1a9deu3atSZMm1apVA6i1b9/+5cuXXbt27dmz54wZM7S1tWHw9u3b48ePBzA5OTnBmpeXl4+Pz7hx41QyHYqKWFwOI2rYTklJQYzbt2/nQQ1gBxA0NjZGYAcHB1tbW0lQw7lXr16dNWsWotPT0xs1ahSuGlEgagI1SYlS00YsfxCbkJKeJu+kFKiUuG/JqftnmpUrXTxf7BGokX5YBGo5pZxAjfQ9FS1QCw0N/fbtW2xsLEDn5MmTq1ev1tTUjIqK2rx58+fPn7du3Sr13EaNGllbW0uCWo8ePcBn+AnuAU7t27evSpUq/IhaTEyMjo4OlwlebIxNWVkZgIU9vr6+I0eOLFOmDI9l5cuXB1px/wW1w4cPI4qZM2fiZ+nSpW1sbCQffR48ePDGjRubNm1Cslu3bo1tXJckqCEWFxcXJI/NWvD396dHn9mVcbPiUn7xCpDOpaWnD17itxegpqOeLyYJ1Eg/LAK1nFJOoEb6nooKqDHhYi9dupSamrpixYrz588DekQi0YkTJ9atW4dD2A+AA9/w76gxAW7YhAAuE9QaN25cu3ZtbDdo0GDgwIGS76jBSE5ZCmZKEyv7IRhnRMViQRhXV1d7e3t2dNGiRWfOnAFN8qCGYD179gwJCQkPD1+8eLGtre3bt28lH33OmDGjZs2a7PTffvsNJxKoFU2J57Wkd5/hQ6CWj0kl/bAI1HJKOYEa6XsqcqB26NChChUqtG/fHjDEFksD4lTL/EiwqanpuXPn9PX1+VMY2UgunAG28/PzYw9JtbS0kpKS9u/fz0bUAGrOzs6wkCVX2WpnO3bsOH78OAAxe56rqqriqJGREYuOzTAA87Ft7OzUqdO2bdu6d+/OHn1y4oXT/P39y5QpU716dfx88+YNAzXEBZR8/vw5b7xUqVL4S6BWNPXzg9q/0284LvDt16sPIkZ2M1RTUcqXeQ8Eaj+ReFCT/DKB8LvMzMJV+vj8C2pwcfkLPYji+HEuMZFAjSQvFTlQc3d3X7hwIX/VaA80NTW9vLxYw9C7d+/Xr1/z4ZWVlTdv3mxubp5lwVt+VAz7nzx54urqqq2tzd5RkzpgxgfOJbezTPyUFIhtzJgxs2bNsrKy8vX1ZeuosRVA2GRSNsl0/PjxZ8+eZT8lI8I2EjllyhRPT08CtSIl3PqXH+O/Johm7ng6c1BNrZKqxgaa6qrFhGAQEM3T9zNYzTcwpnm9MjUqlaxfTUuIQSQyLjH1c3RScGiCb2B07zYV9csU1ymlKvDaU0Rpj4O/qKoozd75bO6Q2polVJFUjtZhKXwxX/ThA/fpE7d2Lde3L1ehAle/PqehkT+gFh/PoV/65EkG7hw4wJUty6HjnS93GcaDgrhz57hHj7jkZM7CguvRgzMwyDe+fPkyI1t27+ZGjcqwb2bG6egQrpGyq8iBGqAnJSUli7NmY1TQt2/fspyiqqparFiODRv/hYCEhAQY0dDQEJifUiOCzeTkZBUVlU+fPlWoUCE7bLE0REZG6uvrZ7eAo7jkqKgoqUdJv7DS0tIPXHx/8MI7lErlYkq62mp7Z5iqKMsOaqwLMGH9o+fv4lDQ1VSKbZ/auGLZ4qgiQhKZlJzac/adjO2MdHLLx9RvWF0Q/HHiKb3Ttz9++DIWCVZRVupvWXnQ7wbFlAjUCl3MJV6/znXunPEAUVmZq1EjA31UVPKHeCIiuMaNM/6CddTUuDVruDFjuHzpkcI4WoR69Tj03pHUKlW4Bw8yWEq4cVhGl/7CBc7aOmNQDQZ1dbnAQE5Li0CNlF1FC9QKSPxaaAXXBvDLi7A1PqQeTUtLk8qUuR8l/cLCrf+WkjbM+X54zDfg2YaJDWtWzngOLgTU0tLTvR9FLtgbCPoxq6WzZGRdcZEUNKKGv65XPu489wYbBvolNjuaqKsJLavgv+ivyUOW+SUlp6moKO2dbqZfWp3KvxyE+4v/cXFcs2bcs2cZULJvHzdwYMahfAE1EM+KFZx43lXGoNSdO/8+/cyvlG/axE2cmLExZQrn7Jw/xlmzm5iYkWDwGeD10CGuTx96AEqSKgI1EkmBlXv9Tc9YmoO74Bu2yjXItJbOstH1+NWVpSr3p/O8kkWAP7/QyG/rJjSsb6iZO/1keW0gp6v4FPVtlMsDWN400aRmlVLfTUNekpqWzs3Y/uTBixhby8rDulTlcr12Thi/ynZivqdELsrr5V+4wHXtypUqxb16xZUpk8dM+L7xdPFy1TVqcMHB3NGjGbiTB+XVOBQWxlWqxJUowUVGZhDV925NXgr8vwJivnnD1a3LGRpyvr4ZOZNn46QiJQI1EkmBleV9RCkBMt4qS7VddH/pSOP61TRzeUTJv+/IfZf/0rmgj3H/3A2f2Nso95CSw8y5JzUtPX2vZ8irj3FLR9bO3Sfxb3N+N6kZ725+Tpq85em+aSalSqgo5cFmAd2FvEtgSuSivJQZFk7Jyip94EDO1jYv+SDJUt8xDuLZulVp4cL0Fy84TU0uDzjOG8/TjduzJ+NNOAcH7nuB817g/1VqqlKbNuk2NhmDdrk+UVXEgkHKLxGokUgKLLbWzK7deypXrpJjVVbiUjSMVJPecmmpUo+nc+kf37/bsmVzx44d2Z7evXt/+RqfkiLKySD+pRXTUEpNyClhxYopfYmNuXz5kpbWv2+bTZs27ebtOyoZy9AoSbXJFdNIVyurlPQxp+awWLFiL4MCz54926BBA/ZptfDwcMsOHfX0yuV07cC5FI0aKomv2HVKjTc5Kal7965Tpkzhv8D7Q0pLS0tOTm7fvn2pUqXY/B4ZjHDiqUsQro5TtPaYEUmF8uUbGBvnRsNpaYZfv74sXVo55xlXuEVf4+NNzc03bdrEv4zr6ek5f86cUsVzW665dHJy/fBw70qVlHK2jFwNj4o66+FRoUIFthySSCTq0LGjKCGhuLp6jilH2SpWTE0kShafkpNS09JCIiLu3bvHZtlDQUFB3bp0qVK+fO53s1FY2GM9PVGuYT5HRk6YNGno0KEq+b74CEkRRKBGIimwACsLFsx/9OLTn6On5eEpaA5GRClnju8a1Kt9586d2R7rHr362y9VUcl96mVuNlVUVZY4Df7n7Cl+bedx48Y36TC0pKa2zFOP0bhOHd39hOsBExMTBmqhoZ9mLd5g1W90LrOtcxfS9vjBbe7ryxkzZvCTin5IiDopKcna2vrw4cOcAMYCNIwcOfLvv/8WYkQuYjPQG1at6jl9urqyspCk4y7+4+9/JjLy2NGjfDk5ffp08PHjg9q04VJTBdjOKECzjx2buWdPxQoVGPGkpKQ0bdFiYevWzWrWFDJBADUhOimpo4tLQGAgeiZs5+uXL6cPGLB5+PDvjsN9N0+WnDplZGU1zs6OQK1oikCNRFJgMVB7/Cpq+PjZMrcHKaIU9yNb+3Vv07lzJ7anR8/eQ/9araoiywgTJ263AHlzJ/bx+PvE/0FtvEPLrmM1tXRkBrViysoThnQ8cWRfw0xQ+/Tp01znbb0G2qfLCmpgIv9715MjnwoEtZ49e7LlpmXWt2/f+vTpo7ig1sjQ8M7cuerSZjvlXWnp6acfPjzy6dNxV1fezpkzZ0JOnRrdrh0n810WpxKgNuHwYaedO7OA2qr27dvWri3kS7jIgajExKZLlwY8e6bJg9qrV3MGDTo4enQ6e4tOQJ7MOHascrdu48aOJVArmiJQI5EUWAzUnrwGqM2R2UhKSrLbYYBaa0lQGzZ5raqqrKCWng5QmzPRxuPMf0CtVXc7Magpy2YWJzoMtswCavMAaoPGpwv4XCtA7VvEE+Gg9s8//3ACGAug1rt3b8UGtXnzNASDmvuDB4ezgVqoGNSUBLRW6QzUDh2amg3UVlta/iYY1CISE82XLPH/L6jNHTTowJgx353FkrtS09Onu7oSqBVlEaiRSAosAjUCNbmLQI1AjVSgIlAjkRRYBGoEanIXgRqBGqlARaBGIimwCNQI1OQuAjUCNVKBikCNRFJgEagRqMldBGoEaqQCFYEaiaTAIlAjUJO7CNQI1EgFKgI1EkmBRaBGoCZ3EagRqJEKVARqJJICi0CNQE3uIlAjUCMVqAjUSCQFFoEagZrcRaBGoEYqUBGokUgKLAI1AjW5i0CNQI1UoCJQI5EUWARqBGpyF4EagRqpQEWgRiIpsAjUCNTkLgI1AjVSgYpAjURSYBGoEajJXQRqBGqkAhWBGomkwCJQI1CTuwjUCNRIBSoCNRJJgUWgRqAmdxGoEaiRClQEaiSSAotAjUBN7iJQI1AjFagI1EgkBRaBGoGa3EWgRqBGKlARqJFICiwCNQI1uYtA7acCtext+ndjz3KKzKnNyQ6/X6rlnI5KWstuKsshqSSjWPUoFxGokUgKLAI1AjW5i0Ct8EGNNdxIv7iuqYSEhFSsWDE2NhbVTbJNx/bjx48bNGggSTPsLBZAWSzJ8DExMTCI0qinp/fDOSyx/eLFC01NTR0dnZIlS2bBjOfPn9euXTs7e6FGf/36NSoqysjICEf5/dgIDw/HpamqquZkKst+FMjo6Oj4+PjKlSvjAtlR2GcXq1j1iyNQI5EUWgRqBGpyF4GaXEANiT9y5AiKTaNGjby8vOzs7PC3e/fuly9fBo60bt3axcWlU6dO48ePv379uiSo7dq1i/3MuGuNGjVp0kQkEk2fPr1u3bogIV1dXdTZ4ODg/v3786fgb0JCQokSJVDvpGQsx3348KFSpUpv3rw5fPgwzA4ePHjSpEmtWrX6/fffgYnYs2XLlo4dO9asWZMdPXjwIJ8kxG5tbX3y5Mnk5GQfHx83N7dNmzYhIuzfvn27vb09rhRmO3furK+v7+7ujliAgDi9b9++Y8aMYaZYMpYsWVK6dGktLa1evXqdP38+MDDwr7/+4knx6tWrzZs3L168uGLVL45AjURSaP0H1GStyymilCygZt2z9/DJa1RVZAU1jlNRVZ0zobfHmZNZQU1TJ7uvz6OKKatkgNrRfQ0b/h/U5jpv6w1QS0uVMQeVlPIL1M6ePcsJYCy0Uv369QOUCDEiF/GgdmvevOIANQGmAGp/P3x49NOnY0ePKmWWkzOnT4e4uY1o314pVda7LC6TALW/soNay5ar2rdvXauWIFDjuMjExGZLlgT8F9TmDBq0b+xY5I6QPME1z85hRA1/wSKApIcPHwJovL29u3TpcuXKFWxXrlz58+fPs2fPXrt27a1btyRBDQA3efJk7Hn79u3t27cBZMiHZcuWTZgwYcCAARERETt37nz+/DkwiJ0CXbx4EQE8PT2z1BFm8ObNmzAIDDpx4sSff/757t27pUuXxsTEtGzZsn379vXq1UOwefPmoXjXrl0b1XbEiBE8XUFgTRMTExhRU1MDawI016xZg6OoEUOGDFm1atXYsWORKtQvQOTRo0ebNWsGYkMAYCXPfCwls2bNcnR0BMahQCK1T58+BS9qaGhw4voF1Nu3bx+AUilTAm5LoYpAjURSYMHrLVy4cNOWHfoVq3CyVmU4gciIT5s3rEE3lO0xN7eI/yYIF3BueOjbhw/vlytXjpGZjU2fJ8+DxY8eZDWLpuXV00sXLzRt2pQ9znj27FmHP7qWLqsvM6QiLd8SEwb17y0zqOEWJCQk1K1bt1q1amgeZM40nBsfH//gwQNOMUFNu2TJRgYGAtONuxgVF1e5QYPz587xULJnz56l06dX0NYW0lali3P1TWTk9Xv3ADHMOBrvuvXqlUpOLqWuLjDlorS0B+/fvw4OrlixItvj5+fXuV272uXLC8/ht5GRwxwcZs2cCZTh85z9dXV1tbS03LVrl4ODAwO1S5cuAc5q1qx5584dOzu7TZs2gcYkQW3RokUAOGy/efMGDDdo0CCRSATAQgGOjo5u1aoVzg0ODra1teXExRJHYRN34dChQ2Cj/+SqeGAPh65duwYG2rhxI8AIp7Ro0QJ4BH/CQA11xNzcfM6cOahikZGRwD4EZnSFwEihqakpQA1ABlMvXrzYsGEDjgLRAFWArWnTprm7u3fq1ElPT+/evXv+/v7379+HQdjPMqIGXjQ2NjYyMnJzcwPP4QL/+uuvEiVKvHz58sCBA926dUM6AYvdu3fnFKqWEaiRSAosNqL27G3MqInzZX76JxKlnDy4yaZri86dMh999rIZPW2jioARNTj0mfbW504f50fUxjtMaNvTQTyiJuOjT2UVZbv+bY8f2dewYUM2ovb58+f5K3b2GTwhTdYRNaTtoe+1hE+PBI6o9e7d+9y5c+kCHnKhwevTp8/p06c5hWpCuExQa2xo6LNokbrAETWO+/v+/cMhIRkjapmZ8PeZM5/c3Ud06MAJGFHLkLLypAMHJm/fXqliRfauEhCkaYsWazp2bCXw0Sf4MiHBfNGijEefmppsZ/CrV3MHD95nb48iIiTVOHn2kSMVu3Sx/++IGhQQELB79+7Vq1eDvSIiIkBsPXr04MQPIsPCwlgYDw8PEJIkqDk5OTVo0CAuLg6VqHTp0mzkDIK1b9++oU4hFi0tLcDWvwkQp79///5gHdTrGzduxMbGAoOuXLliY2ODnY0bN168eDHY68yZM82bN//48aOnp2dgYCAsANTQh/H19b1+/TqMA7mQEslhsE+fPj169KhDhw7AL/iKkJAQnIsEI9kI0Llz59evXyM96MC0bdsWAYBoSPbhw4f79etnaGjo6OiIBPCgBgCdMmUKEo+4YOfJkycAx/Dw8PPnz48YMYJhLlKCK2rTpo3MQ/uFLwI1EkmBxUDt8auMR58yv6eVKkpxO7K1X/c2/3/02aP3sMlrVFRUZTMIqbJ31P6WePQ5bnxL8aNPJVn9o7KyyoQhHbK8ozbXeVuvgeOEgJq/3/XkiKfCH32iaRECasnJyWj2FP0dteLCGj9kn/uDB0c+fTou8egT8Brq5ja6XTuBoKakrOxw+LBTtnfUVlla/larlpAczwC1xMSmS5dmf/R5cMyYdGGghjzJeEeta9dxdnaSoBYUFHT8+HFwCfhjxYoV48aN8/b2Btng6JcvX+Lj4zkxiY4cORLIwqNMsliJiYl79uzBKQBWsBfDVrBdqjiHQTkAI358nQEfAzVsLFiwAHi0Zs2aLl26gA5PnTqFXoqLiws2AKnz5s3T1taePHny8OHDAW0ANey0t7c/efIkkGvWrFnHjh0bOnSo5DAYCg/qjqurK1JVsWLF8ePH16xZk6Vk1apVDx8+RGVv1arV2LFj2VXfu3cPiIZtAOKoUaMOHTrEmwKWmZubI0MQr5eXF3v0iZ+wJjl3AdsM2hSlohGokUgKLJpMQJMJ5C6aTCCXyQTAGgAWA47ly5ezSQOdxIPimzZtwn42Eoa/dnZ2DGXi4uKAUyliAYDANKhH1apVa9u2LY6OGTPGzMyM2W/UqJGFhQUnLooM1MBtYCz26JPHhpiYmNDQUOAg0M3NzQ2Ixs+v7Nev32+//WZpaVmjRg0EKFGiBPZHRkYizIgRI9ijT2YqOjoae5AwbAMWURN37dqFQ+/fv7979y56L5yY2GxtbYFx4eHha9euXbJkCZc5G5S9r8bixenwCbhkIyMj4OnLly8nTpzo4+Pz9u3bLIuAwJqGhoaiVDQCNRJJgUWgRqAmdxGoyXEdNdaCv3nzRk9P78aNG3/88Qd+Ll682NvbG1fHiRfgOH78eJZlO6ReQvPmzdl790htx44dUSO4TFDDxpMnT+rWrZvTrM8sR1EeHj9+fPv27VatWtWrV08yMA6NHTt2+/btPKhBp0+fPnDgQEJCQpUqVaZOnVqzZk1O7NxwIX5+friEdu3aTZgwASGjoqI6dOgAYmNDbrVr1169enWWbGGxxMbGIhYHBwfGiFKlKBWNQI1EUmARqBGoyV0EanJf8JafW8Cvu5Em8bwVZ2VZlowPKflAUCQSsf1QMbH4wCwM25P7tfBPM/n0SJ4luZ6ZZNR87FnWdUsVi10CT4EIyRLD5u4oSytyfDL4q+AkBgJZerLkwM8sAjUSSYFFoEagJncRqMkF1BApqoAkkLHnkjyTsRE1bAcHB1euXPndu3d16tTBns9iGRsbw9q5c+c6deqEE58/f56QkIBzy5Ytq6+vHxoaWrVqVQQODAxEyWT2q1SpwldnHrn4BKBKMsaKiYlBjGwnAiNS1CzJHGAFRnKNjLi4OCQA2wYGBr6+vrVr12YzqUNCQpBUWNbV1S1fvvyTJ08aNWqE64qPj3dzcxswYADsYKN///68fexBqp49e4arKF26NCzAODMVFhbGYkQYXAi7QIWoawRqJJICi0CNQE3uIlCTF6gtXLjw3r17nLjAoEbs2bNHR0eHgRqbm4IiXaNGjSZNmrRq1eratWt9+/aNjo5etGiRvb39hQsX8PfPP//csmULgi1btmz06NEwhW3Ecvfu3fbt28MUSA61DAa/fv1asmRJhJEENfyMjY1FTRSJRA0aNIBl7D948KCmpqaFhQULqaenl2X8jBNPvYyKiurevTuSjUOXL18GqOEn3MWECRNQESIjI4FfwDVgFgIcOnRo3Lhx+/fvHzNmzLBhw9hIG6pM8+bN3d3dvb29efsfP36cOHHi+/fvQWlAsR49ekRERPCmEBFoD6ZKlSqFvOIUpK4RqJFICiwCNQI1uYtATV6gBiIBHnHi0SxEMWTIELaBQyiTLi4uc+bMwTWePXu2RYsWALV+/frNnTsXAFe3bt1JkyZt2LABoLZ582aUfJR/nK6qqlq9enWce+fOHUtLS5hCgN9//50Tl0mcZWpqKpm2tWvXOjo6su81rVu3DuCIqMGL4DY2FwGCQVARP86Hv/Hx8VOnTgUnAezAcEjzxYsXgYadO3cGVsIgKgIwDnSFlAO8QGmwaWBgsG/fPoDaly9fXF1dYRPsOGjQoK5du169epXFxWIB5I0fP97a2trW1haWP3/+DFOPHz/GRSEDAXAIgAzB5XAKUtcI1EgkBRaBGoGa3EWgJi9QGzdu3OrVq/kHiJKPPlEmFy9eDCwbMGBAaGiom5ubl5cXQA2EhLOqVq2Kv0A0HtTwE0BWsmTJkJCQEydOODk5tW3bNiEh4datWwAdFqOurm67du2KFy/Op2HlypWARcZGmzZtQozYRvjr16+zN8kgnFI+c9VfHP3w4QN4ji38huStX7++cuXKV65cOXnyZMuWLUGHI0eOfPPmzbx581CnkpOTt27dam5u3rx5c2yzETXUEaSzadOmiA6BO3bsCPQElbIoEAxhQI0HDx6Ei6hdu3ZYWBiIzdfXly3ki7hGjx795MkTWMjyTPanFYEaiaTAIlAjUJO7CNTkBWoeHh7h4eHsJ6KwtrbW0tLiQW3p0qVAIgATMrBVq1YM1LZv316lShXAzZQpU9auXcuDGkBn5syZnPhV/cTExDt37uAUPz8/sNHXr1+ZfZBNp06djI2N+TQcPXoU4QFzACnU9K5duz58+NDV1ZUTv/6flil7e3v2Qhj7WDvIDKTFiaEKTAaWunDhAnAKyVNWVgZ79ejRIzY2tn///thfrlw5JAPBWrRoAeBr0qQJDgFPcS5itLOz69Kly7Vr1/gcRuLj4+Nv375dp04dWEN0yKK+ffvevXs3JibG3d0dfgNIWlmsatWqKURdI1AjkRRYBGoEanIXgZpc1lFj0yEl50jicvhPPIFjnJyczM3NAVIaGhpt27YFqLGPEMybNw+MUrNmzTZt2gwdOhSgVqJECYDahw8fcFRTUxN1gT365MTrbqBkIrrQ0FBYWLVqlWR0qIb4u2TJkkWLFiE94oqvwmZxrlmzxtTUlH0AQPIFNYTPMrEAp7x9+3bFihXYaNasGagLoMYefeLccePGOTo6gqhQv5AStqwaqAvUiA1UvbFjx0quygZTONfb29vAwMDQ0BDJZq+7ffnyBVSHi0VuLFu2DBW2cePGivLFTwI1EkmBRaBGoCZ3EajJBdTmz58fEBAgaRlM5ubmxu9BsUQdwTV6eHi0a9fu5s2boBy2EAYwDryCuzZq1KgNGzaULFmSn7yJjcTERF9f3/bt2+PnzJkz7e3t2SIXqCBly5ZlI3Zfv34FQiEkwickJMACwpiYmMyaNYuB2rp160BCWb7UFBwcPHXq1P9cXWqqg4MDksdQhL1pN2DAAMBWv379cO7w4cM3btwIlHz//r2npycSjGAgLVRYtvwHrkVNTY0HtdjYWKQKZhkg+vv7R0REwNTnz58BfEeOHMF+5JKenl6rVq0U5StSBGokOSinUscve8OUi3fjO5ScuE+ZfVmgvCeDuRWpCzlmt8a7gyxJzekS+MA5JVVyvezs29+9LgI1AjW5i0BNLqAm1Ytmdxfs5X2gTGBgYMOGDf+T22lpJ0+etLKykiz52Ils+fDhg5GREX5u3ryZ/xpBhQoVunfvLumdckoABC6sWLGi5LPFnM7i08wOhYeHf/nyJS4uDqnFztDQ0OvXr+MSSpcu3bFjR/bMFOgJ8GJ+FWH69+/PluplRVHSkb558wZM2aBBA3gMcK2fnx92litX7vfff1cWVlYLUwRqpEKS5NI+qDPoJHXt2hUdLNQ9TtwXhA9CTyjjY94zZy5YsID/vge/FiKzw2YJYQPVj9VtGHn+/Dkq9rBhwyTpJyfKyXIU3UFsI7pdu3bp6uoiGd26dcMhyScL+/fvHzx4MCdBV3AcxYsXR9RI8J07d/gPGyMZpUqVgrO4ePGivr4+upi4ZLTB7ER4mQMHDjBTTDiEq37w4AG6d7jMQ4cODR06lHfHIADmQ3PCNQK1XxvUsizRmeUzODllvtT9BdcmEajJBdQkY+f9ktSlX/lVcCWfk3KZrjXLe2/8N6OYm01OTpY8RXLsKmv2SqwiyzrSbEwr79cu2XPmMtfXlVwLl3+Kij187xeHcpkTwNw4O5ExKJe5fK6iUBpHoEYqNDG4gc+NjY0NCwsLCQkZM2bM48ePBwwYAFTy9fVt06bNrFmzgF8XLlx49OgRmIavk+C22rVro8rBQkREBIJhu0OHDkuWLGEvRqCfFB0dvXjxYkkn4u/vz3qQUkHt+PHjffr0efjwobu7O3vt1MfHx8DAAJ4ICcMpOITomjVrhkNIwLx58ziJL9917tx5z549AAXg2rlz56ZMmcKS2qlTp0uXLiFVALKqVasCvxARHAS2Yadp06ZLly5lppjQo0UzD7xDfxFXtGLFioULFyINiCImJmb48OHt27cfN25cTmuCE6j98qDGryPPWprvrg7PrybK78lpBFfmHJMaI4Fa4YMa/zXPoKCgKlWqoDrUqFFDcrANnhbXiEPf/ZwArzdv3qDXCufDVq/gMp8S4O+RI0esrKy0xBfIh+fEZenq1atIW61atSpUqCDoHnGct7d3uXLl0AE2MjLiOyfYgHdFu9CkSRPJZxQQ/G3z5s21MrP9lxSBGqlQhfIWEBDg5eX19OlT8BC2AWrAlMGDB5cvX/7BgweLFi0CqXh6erKldzhxl27lypXsw3OfP38Gja1btw6NdMeOHdE0zp49+/Xr123btgXA4VxWsQFYOOXGjRsXL16Umgz4gvnz58O5TJ48edKkSZUqVZo6dWpkZGTjxo0BSWxRRwAc4AmuB87O1dUVgMWfDi82ZMiQ6dOnw6OxdXoQHZuX3r179w0bNhw8eDAwMHDu3LnwIAA1BGNOB74PcMmDGk4BHbKvEQMWbWxsRowYgfSA5zZu3IgrQhR37969d++eubk5W38yy4UQqP3CoMaGJdasWYO2Ez9R1IcOHXrixAn0Ye7cuYNOhZ6eHkLeunXLwsKCH1RAR+jly5foAPTt27dEiRLow6ALhMqFHEsXf5Yb6UQXhY9XOLERqBU+qKFgoH+L8gAfhdttb2/funVr+M8//vjj999/B5nBf5qamjZq1AjOEN1FSUw/dOgQez4ImZiYIAwYiH3yHPbbtWsH2IJTRfn58uULnG1oaCi8E5uMid4pvCUnLvabNm3y8PCoVq3ahAkT9u3bhy4rvB9cKDsKxwU7SAkreJy4U4pCzhiLPXzkswW+99ixYyiu6Kzu2rWrQYMGbBtle+/evUgVvCL6uohl7NixCIz2Aj9hFvu3bt36119/Va5cWeYc/vlFoEYqPDGHDgQBooGQUMPLli2LKgePA6eA+owGD35h/PjxcM2ampo8qG3ZsgW+gBO/vgBgWrVqFUzhFDaHCK0OXBXaJ5zLQA1+Bz9XrFixfPlyLnM8nx9mQOt++PDh6OhoMJOjoyMqObwJ4CkqKgpYxkANweDdAJEAMng6uCTgI38VTk5OgDCkBG5RW1v78uXLU6ZMgevEznHjxm3btm348OFs2hHaSDg7WIYFhIF7Ak1KjqixFSNhE5G6uLggSTDy/PlzOEr2CgWroXBVnTt35p878CJQ+4VBDReYmJh46dKlbt26AdZRyNFMov+ANgw1As2trq4u8iEkJAS9BS0tLTbYhsQgW65du4Zm0szMDIUTJVlfXx82UX1QI9BtQGCUOhQnIQnmRaAmF1BD2cBdRhfuzz//hPdo1qzZo0ePQD9WVlY7d+4EmuOm+Pv7wxO2bNlS8vkm/A/6pUjzu3fv7t+/j9ORDygYDg4OoDH0S9evX//ixQs4WLhQ8B/6jfv37zc0NEQYlEDwHCcu9uidNmnS5LfffoOpOXPmoFyhoAL7mFuGb+zXrx9Qkn95Az4fRZE9SwVE1qxZk8+WZ8+eoXMOZwu+hA8EPqI3AmScNWsWW5tt9erVKLEM1FCMUeDh9uEhEdHMmTPhwxk+/qoiUCMVktjwADwIauCgQYMANKjh8DXsha3bt2/Dp7APoQQGBqKu8iMEOAv1EzCHNgzNIf9CKw6dPXsWrRTqKuygorIvvvFFevr06c7OztjYvXs3vAP8Czpt6J+BFAFSwCwcRY8NLZmxsTHYDm0hnBEDNcQIL/D582f4QcCW5KNPpAfshaYODWdwcDDMxsTEIAxcHtJcvXp1pD8uLg7JwCEjI6OjR48CChELrrdTp06urq7wPny2wC3iKtgaRTVq1NixYwc8UahYSAlrehEdcAeJzP72K4HaLwxqrMtx4MABkBlKGmrNiBEjTp48iZ+7du36+PFj8eLFUQ6fPHmCwsxADYlBaZk0aRJaXHQPUGDQTqM9HjhwIKrJgwcP0LKiW4IiikYdDSF6DkLSzESgJi9QQ28QfgNw1rZt22nTpj18+BDbXbp0wV8dHR0LCwuUn1OnTrVv3x4BeIMoLfCN2Hj79i0cIMoGgmEPPAw6pXCw8KU4hG4qfPK5c+eAXEeOHJk4ceKoUaPgS3lQA8+9evXK0tIS3hWYBecJUANjoWjdvHkTCfvw4QNKI3wjm5cAr25tbY24kBuVK1dmE0hZkgBqXl5ew4YNO378+IULF3r16oVmAg6Tf5aCzjmaDH5EDVwIIgSAPn78GDtRHYQ8cv35RaBGKjyh2gcFBaESYtve3h7VHtUM/TlOvEohq8Co/+jJnThxgv/qCJwpdqJygp/gdDjxC/7srVi4FTaAD1QCAgKnJEf4eVB7/fp1tWrV4MXgLw4ePLhhwwbgVEBAwJYtW7p27Qpfgy4a+qMIDw8FPAI7wgfB8cHOsmXL4KFcXFzmz5/PZTZpSA+6cXCFVatWRdcTG+iMsu+o4KJwgaqqqvA4SBIOIf3wMk5OTuz1VSSJeUl2saA95ACaXrhggEKPHj3Yh1yAd/CzoByEhKsCXEp9LZdA7dcGNTRL79+/RyOkr6+PWFCSwW0oomgacXT58uUobDVr1kRg1Bf2jAldGiRmz549qFyc+DF9q1atNDQ0bG1tUcX4GXwolmjO+aIoc+5xBGryA7WrV6+amZmBb8DluMsM1ODTtm7dijKDmwIixyl169aVnIoO8GIdTgjOB6ez/XCnDPSZp2JjcuisAqHQw0QBs7KykgS11atX16pVq0OHDihdgDBkAkCtYcOG6LKyN8mY0JFg7wr36dMHhZO9VQzPuX379iyghv4zyvaaNWvgrtmIGoBs8eLFnBgup06dykAtIiICnVtYY7mBQ/C69OiTRMof8bOp8RfdoxEjRqAtYSNqAB34AvAKfAQgrEWLFsxZoPVi61wzlwGQwgaqMbwSdqIaw02wMlylShXglySoTZkyBR2y7GmAp0BzNXnyZPYIlX9NGyyF2g5PAV/AT3piL9JKjqhx4kkD6LaC85ASuEK0nXAWOOX58+dATFhGkw9raC9xIWhf+/fvj/3MIO8x+XkJjFA58YxRNL2IC6cjPP7COWI/urPwvARqRRDUcI3Xr1+/dOnS0KFDwf3oqDx48ACdluDgYIRBTWF1CsDRvHlzVB9W8tHWolOkpaVVv359NJOGhoZsoawbN2789ttvnLikXblyBS066/AQqCkcqLEJjAAXuDI4kNKlS7ds2RKgBi8KlkJ0CInCw95RwyF2luQjdRQndEElI/Lx8UFJZtmCvuuAAQPY6yLMU+Gs7t27S4Iaeo/e3t41atRA9/LcuXPwnOzRZ/ZLkHzQIbmT3waoOTo6mpiYoBijxIIs4fosLS1Bb+7u7qjsQDG4dwZqoL39+/ezZQHgsT08PHAuPfokkfJZzLNHR0e/efMGPULsQfsk2c6BwMqVK8czTZZFCvg9QCXUaraNHuTs2bOlTh2XOuszu0EkCa0gnJSFhUWWqC9evMiWEeEyR8LgHNetW/f27Vt0FtErZd+/Q2D0Jt3c3NBSDhkyhF0aQqK7CcfHIgJQguGkJgxN9eXLl9EnhpO9e/cuvBKLHVkhiYmSIlD7hUGNExeeZcuWNWvWDG0tyhi6Ny4uLmxpdWCW5LJY/HIDSA9KIEpsMbFQREH55cuXR3bZ2dmhGKOEx8bGouKgoc2yXoNsIlArfFCTFK4CWYQ+IUCtc+fO/z8xNRW8zkCNn2WFkGy1Cz8/P3Nzc2yA49HvxUbr1q35mZ6gtKZNm86fPx93tlatWmytDfQeQUgMibIsigYHxUAN3YObN2/+556mpaHUAekkV1lCeuAJ2QNZvsvKDqFsIxnodeAsScJDBWGg9p/MSU2dNm0aQI1G1EikfFb21aFQh9lAFycx5gQHxELyzzqz7GfjXvyogOQqPpLRSa6gw37yH1rhJEAty8oF7PFQ9tjZIwOWTqbsV8cuKssiC7zT4U/hTTFhP3PELMGSV0HLc3BFFdTQMqH9Y+UEcf3xxx8lS5ZcuXIlymS1atU48UQTwD0wTrIk8yUNLWv79u3RjWEPUrt06YJSjT7S7du39+zZQ6D2C4Aam8zLFnQF0/8/M8VvVqBwNmjQgIehhIQEdlRyohJKPrbRt4QddrRNmzagH8lnICiBqCOgIj09PS6bj42Kijp37hxiR5lESc6SQhRONlYnKRYvl228jfUi4KKbNGki6UJxs1DFrK2t/5M5qanoh/Tt25el6lcVgRqpkMS8eXBwMHyBhobG6dOn0fkLCgpCC4f9aJ9QP62srLS1tYcNG8aWw8ZfHR0dVEXUf9TS8uXL6+rqouqiuiYmJnLiCW7wC+hKStZnRMG+IsyJh9nYEgbY6e7uztbaQc+vT58+WdZIxIls6jgbUU8Xf9vOzc0NLgbt3LFjx/r37//u3TvE5ePjg34q3GKNGjVMTEzQ2k2ePPnFixfwgIsWLZo7dy7SPGjQoKtXr/LvA+ESnj59ihPr169ftmxZxAK/1rx5c19f30ePHqGxxLmIFxfYtWvXH/LpDNQCXkYMtZ+FqGS7NaKUFPej2wf0aNupUyao9eo9eIKLiuygxuHaF0zqd/7vkzyojXeY0KzTyFIZoCbjZ1sAao7D/zh5dH/Dhv+C2ufPn2ct2dxzgJ0AUFMKuH9DFBUoHNTOnz8vid0/quTkZJQxQAn333XUPnz4gNLCB6tduzbSiRKOIs1l9lWMjY2R4VJLDkKiaDEgk1o1ZE4wL1a1TapWvT1njrow8kMJ/vvhw2MREa5HjvBpg3N4f/w4QC1NQPZC6NJNPHJk2q5dkqBm3rLlit9+a1OrlpCMQLJjEhObLV+eAWqammxn8KtXswYO3DdqlMBGFifPPHbM0NrabsyYnEBN6uLe2R9E5BhFtm8G8OGzr70s9QFFXlb4+/6V/ncp8rzHLjDen18EaqRCEmpyeHh49+7dZ86ciZbjypUr6Aah5wSmAeWAY1q3bj169OiTJ08CF/AX1R49PBASwyYwTaVKlfT19Tnxy/VoutLFn3Vr27atg4MD3/ajtbOzs4MFkUjEhg327t2LVgq+HpFaWlpKXbmbbXh7e6PFZePt+Pnw4UPYR88SP9GPHDt2LJvixN6HBW4iSeC2devWLV682MPDA0kCCIIgq1atamNjg0aReVU2Xgjmg31TU9OKFStWrlz506dPHTp0YAnesWMHGgx7e3vW1v4oqIEOnZev1ClTVlZOy0hjQvzX3bt29O7dm/02Nzd/HxImwCCnVEwpOfEr7m+5cuXYFeF2e9/wUVIS8HE9JaWoiNDr4plubIZjYGBgi1ZtimuUlD2pSlx6WqrdmJFCQA1FAtTOvkgh+9WJv4eNUsf9d5SXHxtj38bm5wKjzKCAZfmERrrEIvWM4QqhAWOgVlJDo4KOjpBBL6b4b99MW7ZEheWhBFV4qoODloaGwNYKWRGdmHg/IAAVkBlH7atbr15SVJSa4G8+pqWnf4yNff/uXfnM6Yd+fn6/tWypl8ltQhQVHz9ZPJrFVlQhFTURqJEKSShpALXhw4efOXMGbn327Nl9+vRBQz548OC5c+eOGDECHDZx4kS0lwhz4sQJNDwtW7YE2CHw/Pnz79+/z0ANzdKwYcMMDQ1ZU1StWjXgnSSoubi4gAVxVlhYGBBq/fr1MHXx4sVNmzbVrl2bkdDUqVO1tbX5tg2Bnz17tnz58jJlykyYMIF9n+7BgwcrV640MDBwcnJaunTpuHHjXr582b59+7t374LJ1qxZA4hkb6oBlSIiIs6fP48T9+3bt2zZMoBOUFAQG1FjzzFx1v79+0uWLIlY0BjDQrt27TZs2FC8eHFgB7gNjAguBJv+0NMoNqJ27/Fb22GTZK7JqaIUD7cDQ207d8l8waW7VY9ew2cpq6jKaDGdU1FVXTV39AWPM/yImv248fVb2JTU1FKStVFULqY8Z2K/U8cPm0g8+pwyZ2WXXkPTZB1RU+KUnvnfVU8JETii1q1bNwB3uoCHXChLjo6OKEWcBKihAwC+R1mdNGnS9u3bIyMjUWuMjY1dXV0/f/787t27BQsWoEsQHx/fvHlzoNu5c+d69OjBxuFwrmTVKDixGlS/SpWTf/0F4hEChriLVx4/vhQXd+zoUb6cnHZ3f3r4cN8WLThhHAzaXeLuPn//frayKyeG3SbNm09v1qyJkZGQbELVi01K6rlhw+PAQC1tbbbzVVDQFFvblYMGccIaWVzzqjNnjHv1GmdnJ/nOBqnoiECNVEhioAbGOnXqFFoXNEh79uwJCAgAqAHa0KLAewKGsA1oY6A2cOBABEajBfpBq7NixQodHR00URrivjUbaUM7VLduXVNTUxYLQA3Y1KtXLxwFPJ0+fXrt2rUsdn4RMva6AxuN4MSsg+j+1959xzV1Nu4fjyXgBKEKAlqcWClqFQVUWnHVgYtWtFapW6nWUduqta4q1lX3aHHVheNxo4Dio6ilLWpRUawLcVCLoihQEHwC6PeS++f5pQEhJgSScL3/8BVDcnIIybk/OTkDwx4STYQXKtDHxwdpiJwS5wPo168fHhTz06ZNm1OnTmE4nDFjBq5PSUlBCOIR0XkYL/FTRCd+x06dOolzHoiHw0CO2+ADMYbP4ODgrl27ojCaNm165MgRsdXI9evXxYEi8a/KvvQFE6F2Ke7xkNFTNR4PsrKz9m8P+Lh7639to/blYrlc84/vuduo9T508F/bqHl0+8zcXIuvPk1Mxg78YNf2TcqhNn3e6o/6f/78maZfipUpc/Hsr4qi2EYNL1GNny5Z7ksXrzqVvT7Fj6ZNm4aXE0IfL0iEmp2dHd4p27ZtS0hIwDvI1tYWodaqVSvx5Sk+zOCOuCU+AHz99dfFFmpiG7VyeDjtvvwKio7Ou41awp49I9q10zLUUH5jtm2bmGcbtUXt27epX1/L7+weZ2a6zpkT8+9t1Kb5+gb6+eHZ0eY5we88ucBt1MjoMdSomLzY3jYpadiwYfv27cPlb7/9VvrqMzY29urVqx4eHn5+fjt37uzSpYsINeTOlClT0DHlypWrWrVq9erVra2t09LSMEqlpqbKco++1qhRI7EfnPQoGLwxSk2YMGHt2rUYeqtUqXLixAlxHLIHDx6Ym5tjapgmss/Z2VksnTEdsS22WEuHAQ//jYqKQpA1bNiwTp06mB/MufjqE9O/ffv2zz//jF8HUxg5ciQSE/fCOHr48GHUXrNmzXA90k36+CtOIYxE8/T0xKzil01OThbH+8WVSE+Mpm5ubvj1K1as+KqNjfLFnQmMeGcCscHlpUuXtmzZgs8zZ86cwfV41+AlFBERgWvwuIiYt99+W+zZhycESSe2QsOPBg0aJHb30/iZURN3JijZnQnI6DHUqJiIVUerV6/GyI0RRZyiBKH26aefiohJSUnx9vauVKkSQm3Pnj1Ilps3b6anp4udNDH8iK8+MZ1169aJ7wcRZGgvsQecLLeHxNE6kHEYsX788UdxhCEHBwfxOkdvIapatGghbbuDf//55x+xXbYE81OrVi20GsoMU0Dq/fTTT1Ko4S4TJ05E5+FHd+7c2b59+9SpU3EvpOH8+fOf5Vq1atW4cePEo+ChT548eePGDXHiZEwW5YfbiOYLCAhAjOKWYWFhTZo0wS/4WstihpoRhxqm/NVXX3l5eeFlg//u3bsXD4R3jaWlJT4nYIbxXzxovXr1EGrvvvvuxo0b8TaRdmjAZ5vmzZu7urpq/MyoiaHGUCOdYqhRMRGvNHGiN1yeN29e9+7dL1++7OvrK8ttLFyJIMO/Xbt23blzp3RSdnF7sTOBtbU1poC48cPiLxcSTeynKcsd6sTqOoziFhYWycnJuIBKa9mypbjx1q1bUWD4r/J2YAkJCREREdJm4GLrbA8PD9xROp3wt99+O3z4cISj+Cb0m2++6d+/f82aNVFpTk5OrVu3luUeeUj5sLQITelYkSpPxfnz5zFvmBQu4xfx9/fHBZQfJous0WAbNYaasYYa5mro0KG2trZ4OaH+xTZqb7/9Nt41X3zxBV5vYhWa+OoTUwgNDcXHIbFeGZ9AZs6cWSQH4CgYQ42hRjrFUKMSII5YgaUkxhiVYwTgR6i3Bg0aKO+wJg4UZGZmJkouKipKOioPgqxJkybqLAfFd68YjKXTvas5q7LcIVOc5Kpy7pbCiMUrV66kpqai1dBzYmqxsbH37t2TVtS5ubmJc6jnfYthWJUmhWcgJiYGF+rVq6fBiRcZakYcanga79y5Ex8fj8vNmjVbv3692EYNnw3w3rlw4YKdnZ29vb04qClCDVcuXrwYLyQxS+g5d3d3fvUpzSRDjQwUQ41KgFiyi8sqRxAQB7OQjvsqUzoUrXQUWeWDIChvdq1ydibZv4/uI00HA7y0mC50gzCVIwyJhzYxMZGOXZT3eLnS7yXNwKsObqTy39c9NoeMoWbsoaZ8eI4NGzYkJyd369bN0dFR+QPA9evX8THGxcUFr+d58+bhQ444WjKe+Y4dOxbzzgQMNYYaFTmGGhUTcUTZEydOZGZmWllZJSQkmJubY4Tr3bt3XFxcTEwMxl0LC4u6devu2bPnq6++yvf8UcpT+/333x8+fIgLNjY2uHtKSoo4w3RSUtJvv/0mnSq4T58+9evXl77ExIgyYsSItWvXIgc9PT1/+eUXsZZO7JuJBbc4KG7eAy2Kr5NWrVoVGxsrTj+K0fHkyZPt27fHAH/p0iXcvXnz5rdu3bpw4QJ+WqVKFWdnZzwQ5kp3azUYakYcasrPpyz3by3tvKxy0ovnL09NizeX8kcgaasAnWKoMdRIpxhqVEywKL958+aOHTu8cs2aNQspg3FFbG3Tpk2bmjVrYlzB6BIYGPjdd98pn0gKrSNOQpeWlvbo0SP8FIMWMisgIODGjRu4Mjk5+fHjxzNnzkSu4e6tWrUKDQ0Ve48OGDDAyclJhNq+fftw+ytXrri7u7u6un700UfS0c4wb0uXLrW0tBw6dKj4NlM6/zqucXFxQVbiERctWoS7Hzt2TKFQ4Ffo2bPnunXrcOHevXtPnjxp0aLF119/3alTJ3t7+4oVK1auXHnFihX4KUNNxlArTAGhpucYagw10imGGhUTcf6o33//vU+fPnXr1p00aZKdnR1C7dNPP504caLYRNrMzCw+Pn7z5s3Tp0+XjhaLJJo3b96UKVOwVE1KSpozZw7qB4N0586dQ0JCjhw5Eh0dbWFhgYDz9/c/d+4cuu29996LiYm5evVqVFTUkCFDRKhhBnCbGTNmNG/efHuud999t2/fvnPnzsUsoe3Gjx+P2EKuIdo2bdokHh2h1q1bt9WrV9va2iILcOPLly+Hh4dnZGScOXOmffv2kZGRcXFxDRo0wGiNUPv222/xiDVq1ChXrtyDBw9+/PHH2bNnM9RkDLXCMNRkDLX8MNSIoUbFRITab7/9hiqqV69e//793dzckDsItQkTJjRu3NjBwcHe3h5LtNGjR0+dOtXDw0P2MtR++OEHjKN4rSJ9Zs2atXLlSvxo+fLliCfcACmALEOEIYnQVYsXL378+DGWaOPGjVu0aNHAgQOlUEOBoaswA76+vog/ZNa1a9du3769bt06TEfaqgyPOGjQIMwSrhGhtn79+nv37kVERMTGxl66dEmE2unTpzt06HD27FmkGx5ChBqC0tXVtVq1alWrVj1x4gQmPn/+fIaajKFWGIaajKGWH4YaMdSomIhQCwoKat26NVJJHIpCrFGbNGmSu7t7zZo1cRsTExPcZsaMGSKbxP6hCxcujIuLO3r0aNeuXdu2bYtBUSz4UEJIN7Htjp2dHX6k/Ii4EqOv8lefsGXLFgTWyJEjEYs9e/YMDQ0V50RHnFlaWspyd8nEgC1tCYRQw4OuXbsWESkyEVl2/PhxjM0///yzn5/fnDlzcANMHxNBqCExPT09UZB4LLTamjVruEaNoaYOhpqMoZYfhhox1KiYiN050Tri9NLh4eHiFOa+vr6PHz/GNWJ3zuTk5B07dqCHpFATd8f1Q4cO3bNnj/Ii78yZM7dv38ZtUFdnz55dvnx5WFgYRk1x7naMu7t27ZLWqIkzR40ZM+bhw4ey3LHwzz//jImJwbLv0qVLmzdvdnNzQ59du3Zt0KBB1tbWotUwzxMnTrx58yb+i7zDBK9cuXLy5ElMDb8CWm3UqFGtWrWKjo4Wh0hISUnBDEhdyK8+GWpqYqjJGGr5YagRQ42KibTnmix3bAsKCipXrlxSUhKqSBxNQNxMbB/m7+8vQg1D4LZt28RI8OjRIxsbG1yuW7eup6cnfopI6tixo4g8BwcHd3d3VJS05ybSasmSJcg7Z2dnaa9P6YFQYAi4q1evmpqaXrx4ce3ateJAuJjCiBEj8EBimah8r8TExFWrVv3yyy8INelKsQhGJiI6EWrKd0GALly4cMGCBQw1GUOtMAw1GUMtPww1YqhRCRCvOgxvKSkpYjsz6UcZGRn37t2rU6eOdCgpcTIDZRikxQLrzJkzCDtxZeXKlbt06aJyxLK4uDhxVPe8C0oMLZGRkYgz8a3lkSNHMD+4S4UKFTp16mRmZqZyACopv6Kjo5s2baryQOnp6egGzIPycRMwDNy9e7d27doMNRlDrTAMNRlDLT8MNWKoUQlQOcprSc+OAc8zQ42hVuIYagw10imGGpEBY6gx1EocQ42hRjrFUCMyYAw1hlqJY6gx1EinGGpEBoyhxlArcQw1hhrpFEONyIAx1BhqJY6hxlAjnWKoERkwhhpDrcQx1BhqpFMMNSIDJkLtUtzjoWOmafxezs7O2rftp4+7t/5XqH25RK5pqAFGlGljfQ4d3POvUOs2stKLUHtDs2mamCDUOqiE2vR5q3v5fo5Q0HhWL56NUCRd1j7UDh06pM14jFDz8fEx9FArh1DTYlL4KwblF2oJe/f6tW0r0+Kv/AJeP1u3Tswv1Dzr19cy1B5lZrrOmRPz71Cb5usbmBtq2sw1fmeGWinHUCMyYCLUrv+V6vflHI0nguFq16alH3ZqIYXahx/1HjVtrampqYZTfC6Tm5p+PbxLyP6dyqHW8eOvzSu/qXGovWEiH+7Tcue2DeI0rPjd79279/3STR8P/vL5sxwNZ7XMG+dPH//nrz+0DDU0VnBwsFYrTnJyevXqtX//fplhhlqz2rUj585FqGkzKURJ8NmzgXfu7Px3qCUdPDi4Y0dZjqZ/ZcHE5OuNG8cFBFS3tzfJnc/s7GxXD4/lnTu3atBAm1CDRxkZbjNmXPzzz0ovQ+1WXNx3AwduHDtWy77EnacHBlbr3HkUQ620YqgRGTCM7rNmzQpYs6Fm3bc1ngiG2fsJ8SuW/tCzZ09xTatWHjlvVJBpPHQ9R/+8ER/3Z/T5s9bW1mLEHThw4KXr8SYmphpPFdO5dP7U8fCjzZs3R6iJs8e279jVxs7hxUNqKiP9Hx/vLtqEWkZGRqNcuKxxY+G+9+/fj4qKkhlmqDlUr960Vi0t5xx/xZQnTxwaNdqyebPJy+bbvXv3D999Z2NuruWUMWfxyckhR4/a2tpKa9TatmsnT0+vVK6cNvP9PPedGPP339EXLlStWlVcefny5Q+9vOrb2Wn/DN9JShoyevTno0Zp/tmJDBlDjciAiTVql2+nDB8745mm7+Wc7Kw9gT/26fZe586dxDUf9eo9dMJyE7nmowJGlCmffxh6YLeVlZUYvMeO/eK9HqPMLSzLaLpGTW4iH9W/za7tm6Q1ag8ePJg+f03vT8fkaLpGrYyszIWoiMzEC1quUevVq1dISIg2mYJo6N27t4GuURPzX1QZoVAozMzMpHOTiPwtkuckOztbJJo0cVzzRi7tJ/6///0PLyFpysoPp/1si5k0rBcGFRWGGpEB+387E8Q9HqLtNmr57Ewg1yLUcncm6HXogL5vo4ZZuxD1q6IodiYozduo6WKyymdj09HEdTdlXU+cShWGGpEB416f3OuTiIwbQ43IgDHUGGpEZNwYakQGjKHGUCMi48ZQIzJgDDWGGqmQBjU+jWQcGGpEBoyhxlAjZSojGp9JMgIMNSIDxlBjqJEycTiPkydPOjg41K1bV8YnkwwfQ43IgDHUGGqkTBx0rV27dg8fPjx//rxcLueTSYaOoUZkwBhqDDWSPM+F5xDPJF4hv/zyi7u7u4zPJxk4hhqRAWOoMdRIghce/hb169dPSEjA5ZEjR65cuVLG55MMHEONyIAx1BhqJMELLzQ01NvbOyf39O0mJiZhYWFt2rQpkjNEEZUUhhqRAWOoMdRIGV57eCYDAgJcXFzee+898Uzy+SSDxlAjMmAMNYYaKcNrT6FQ/PTTT82aNUOoiSv5fJJBY6gRGTCGGkONVOCZRKg1b95cCjUig8ZQIzJgDDWGGqlgqJGRYagRGTCGGkONVDDUyMgw1IgMGEONoUYqGGpkZBhqRAaMocZQIxUMNTIyDDUiA8ZQY6iRCoYaGRmGGpEBY6gx1EgFQ42MDEONyIAph5rG7+XsrKx92/OE2pdL5JqGGuQfat1GVnoRahoeJt7EBKHWIb9Q+xy1pNk0MW8XoiIURRFqhw4dkmkXaj4+Pgw17THUyMgw1IgMmAi1mNikgSMnP5dpGmrZWQd2rPnEu60Uaj29ew0Yt8BEbqrxjCHUZn3V99DBvVKojfp8dIsuwyqZaxVq44d02fOfzY0b//9QmzrnR+9PPtM81GRlYs79lpNyTctQ8/b2Dg4OxmWNG0uhUHzyyScMNe0x1MjIMNSIDBhixX/WrAULF1esZKHxRF6cyjrzyZbNG1Eb4hoXF5e/EhIRMRpP8sWy5ZniUkyMtbW1KDNfX9+w/4bnJojmFZL2T/Lx8GNubm6INlTRrVu3XJq5mpUtr81z+Pz5s9Gj/DQONfwJMjMz69evL5fLtVycVq5cOSYmRsZQ0w5DjYwMQ43IgOH9m5KSkpaW9mJ7Mi2ySqFQ2NhYlytXTlxx//59mTat8KLTXnyjam9vL60/w3wiaMqUeUPj+cT9nj79n52drZmZGVIGvztaLSEhQW6q+Zo/We4qsfLlyllZWWmWR89zvZgNuVyb2RBzYmdnJ2OoaYehRkaGoUZERMaDoUZGhqFGRETGg6FGRoahRkRExoOhRkaGoUZEuvLs2bPbt29XrlxZ2veTSNcYamRkGGpEpCsYMufOnevu7t65c2eGGhUPhhoZGYYaEemKCDU3N7cuXbow1Kh4MNTIyDDUiEhXGGpU/BhqZGQYakSkKwqFYs6cOU2aNOnZsydDjYoHQ42MDEONiHRFhJqTk1OfPn0YalQ8XivUxGGTc3JyiurRTXMPv8xXOxUhhhoR6QpDjYrfa4VadnZ2VFTU8ePHNT5drLIXp6MdP16zc5ERvQpDjYh0haFGxe+1Qk3cOD4+vkGDBlqOhmZmZuvXrw8ODra0tCzp54CMCkONiHQFobZgwQJbW9shQ4ZIJ/0k0ikNQg2V1rFjRy0fFx9F+vfv//PPP0vnzCUqEgw1ItIVhhoVPw1C7e2339byUH9iJGWokS4w1IhIVxBq8+fPt7e3Hzx4MEONigdDjYwMQ42IdCUrK2vJkiVmZmZjx45lqFHxYKiRkWGoEZGuINSWLl1qYmLyxRdfMNSoeDDUyMgw1IhIVxhqVPwYamRkGGpEpCsItWXLlmH8Gz9+PEPNEBniAKFQKBhqZEwYakT0Slg+5OTkoLHEGJadnS2Xy8VlsehQviYvhBpGweTk5GnTpjHUDBH++nFxcVeuXCmS48EWD7wmjx496uvr+/777xd6Y4Ya6T+GGhHlQywZ8O/Zs2dtbGxq1KiBYWzr1q0Y/3BB/FShUGzZsmXo0KHiLnnHOSnUpk6damJiUtK/E7020TF//vln9erVS3peXs+gQYNq1aql5i/IUCN9xlAjonxgybB69eo9e/bcv3+/Uq7Fixd/8803Bw4cEOvGEGEYv3v06BEYGNiqVSu5XC7uqDzaiVBLSUmZMmUKQ80QiY5p0qSJh4eHAQ0WmFVTU1N1VuIy1Ej/MdSIKB9iyYAxDKNXRkaGpaXl4MGDvby8goODkVw7duyIj49v2LChp6fn0aNHr1+/3rhx406dOsnyhNr69etv3rw5d+5chpoheq0N8w0RQ430H0ONiPKBJcOzZ8/69esXGBiYmZnZvn37iIgIjGe4ZsKECTdu3JBWoYkbA1rN1NRUJdQwbsXGxs6fP5+hZogYampiqJHuMNSIKB9iyRAZGblo0aKqVasizmrVqoXB7PDhwzk5OUlJScrfK4kbV6tWTdrtQGCoGTqGmpoYaqQ7DDUiyodYMly/fj0iIkL28gvN9PT0MWPG4EdPnz7dunXr0KFDnz17hh8NGDAAPYdQK5NLmkh2dvamTZuio6PF0dRK+nei18ZQUxNDjXSHoUZEr6S8fECTeXt7BwUF4bL4MtTCwgI3kMvlUVFRFy5csLOzUxnqEGqBgYGRkZE//vgjQ80QMdTUxFAj3WGoEdErScsHsRVa165dQ0NDZbmh1rdvXwxvuBIFtnv37oiICISayn52DDVDx1BTE0ONdIehRkSFkw6rJg1mKosOcX2+a9R+//13jIUMNUPEUFMTQ410h6FGRIVTc0GRN9R27twZHBy8ZcsWhpohYqipiaFGusNQIyJdQajt2rXr4MGDDDUDxVBTE0ONdIehRkS6wlDTE89fEhsRin11Zf9eA4orlTcxFD9iqKmJoUa6w1AjIl0RoXbgwIHAwECGWgnCcj41NXXZsmUoibp16y5dutTFxaVChQooMFluouXk5CxatGjixIn4r8g1htprYaiR7jDUiEhXMPwHBQVt2LBh//79DLWSgoV8Zmaml5cX/hYzZ878+OOPt23b1rFjx7Jly7Zv3z4uLm7OnDlolCNHjnTo0AF/Jj8/P2Sc+HuVklBr0KABnhAtJ4XnkKFGusBQIyJdYajpg2fPnp09e/bgwYOotKNHj9rY2OAvgiZDT7Rr1+7UqVO4EpExbNiwAwcOpKeno8nc3NxkueVRSkItISHB2dlZy9HQ1NQ0ICAgLCysQoUKJf1rkVFhqBGRrjDU9AFCLSoqKjQ0dMaMGcgIFMmKFStat26NUGvVqlVERETZsmUtLS3FjdPS0tAunp6ecrm89ITa5cuXa9asqf3U8DoPDw83Nzcv6V+LjApDjYh0BaGGPli6dCn6QPkk7lScsJB/+PBh//79Dx48uGTJkhMnTqDAPv/88/Lly6PA8KeRDo8nhgMkdffu3cX3d6Uk1BwdHTt27Kj9GrV+/frhYwm/+qSixVAjoqInFiwINXTAggULjh07Js7Xrs322qQZ8bc4d+5cTEyMnZ1dhw4dpkyZgvBCT7Rv316hUOzfvz8rK0vccvfu3WvXrrWxsRH3LSWhVgw7E0iHjJbl7q4hdrxV/xHFTruyVxxZmowbQ42Iih4WLNnZ2Y8ePQoPD1+5cuXOnTsrVqxoaWnJAaZEKJ8KDH+CyZMnS6Gm/BfBn6x79+7r1q2rXr26uIahpqaCQ038FI919epVc3Pz2rVrP3z40MLCArcUBSat0Szzkuzlm0jcF2GXkpKC60VD831UqjDUiKjoYVy5detWhw4dkpOT09PTkWjjxo2bMmWKyslAqZiJBf7q1asbN25sZmbWrFkzlVD75ptvJk2aZG1tLa5hqKlJnVCbPXv2p59+evDgwcqVKyckJOAR8Vf4448/YmNj+/Xrh0c/dOhQ1apV8WyLt0lOTs6AAQMUCgUuo61xR7lc/u2330qTvXbtGuZclttteAjcEp+LMjIyxDVubm41atQo6SeYigBDjYiKHhYsaLXhw4dv2rQJFxwcHKKjo7lGrcTlXeAr/0Wkn0pXMtTUpE6oTZ06ddasWffu3ZsxY0bt2rW7du3apEmTU6dOoZs9PDzw6BcvXvz4449btGgh9rxBqI0aNQqzh8vXr1/funUr2hoTERPMyspq06bN/v370XYi7P7++28/Pz+0nbhB69at7ezs+I4zAgw1ItIJLFuSk5Pr1KmTmpq6aNGi8ePHy/iVjaFhqKmp0FBDV50+fXrOnDkVKlRYv379qlWrvLy83n33XVzp6+tbvXp1PPrDhw9xd1dXV7FBJ0KtZ8+e+Bf3wkT27dtnamqKUMPUMNvTp09v27bt5s2bMf/m5ua4CxJw2LBhCDUxMx988AEaju84I8BQIyKdwLIFY8yECRNWr1595cqVt956izsTGByGmpoKDrVnz56dO3cO74KYmJimTZuit65evYpQq1at2vLly7Ozs+/cufPPP/80bNjQxMSkT58+zZo1Q3jh7YPwWrduXUZGRlBQ0M2bNzGHCLW0tLSIiIh33nmnZs2auNeFCxeqVKni5OR0//797t27S0fu7dGjR6tWrUr6CaYiwFAjIl3B4uXatWvLli1buXKlWElQ0nNEr4ehpqZC9/pEdd24cQOhZmtre+vWrV27ds2ePbtRo0ZPnjzJzMxEaUm3lPbrxF2GDh06duxYlJxcLt+3b5/01afs5Z4HBc8V33HGgaFGZCTEGiwo6RlRnSvpXOB6C7MnDvPGgU0FQ01NhYYaHmj79u0+Pj7iwBzbtm3z9PSsX79+ZGTkhQsXhgwZIh7dJJfs5f4BiYmJYnPPlJSUnTt34lWKUAsJCcnKysKV0sTLly/foUOH4OBglQEd02/YsCFf1YaOoUZkJPBeDg0N/eOPP0p6RgzPW2+9hZFSxlDLg6GmpkJDTaFQ7Nq1C/+KwMrOzm7fvn3t2rWjo6PXrVsn7X7btm3bOnXqSNPEjcWUU1NTz58/f/ny5TFjxvz5558qn8cQcPgVcL3KLNnY2HB/AiPAUCMyElim41P1oEGDsPTnollNWABaWFh8/vnnERERMoZaHgw1Nal5wFttpo83uHQeNr5QSxWGGpGREKE2a9asli1b8sSaahILwPbt2x87dkzG8S8PhpqaXivUzp8/X758+fT0dBcXF3GWAlnuay87O/vixYvNmjWTFXYqAr5QSxWGGpGRYKhpgKFWMIaamgoNtcTExJCQEIVC0b17d3Fg24SEhBEjRkRGRm7cuFEul48ePbpevXqbNm3y8/PD7efNm4dZwpsad5k7d+7+/fv1fENP0h2GGpGReN1Qk07HqbuzcGKWMP2Ct9MXh5jCbXQ0D2IfC0w5391OGWoFY6ipqdBQy87OzszM/M9//iM2JrO1tRWHPZsyZcrs2bNx9++//37y5MlSqK1YsaJ37954B+GOX3311c6dOxlqpRZDjchIFBpqeLOnp6enpKTUqFFD7FOGK0NDQ52dnWvWrClu8+jRI9xG9nKbGNE34kdvvvmmhYVF3mnKcmtPugZ3waM/fvwYAwwuHzx4cPDgwdIcqixwcEtcuXHjRsy5g4PDq0JK9opNfJTbDrV38+bNsmXLiv/iAsbC+Ph4a2vrkydPWlpaurm55X1aGGoFY6ipqdBQu3Xr1v79+//66686depcunQJD4dQGzp06MKFC9FnuMH8+fPHjRuHUBsxYsTly5fxxnnw4AHeWZiymZkZrqxfv76ML9FSiaFGZCQKCDVp9zEMAxiWfvvtN2kNFsYGfHCXhuGxY8cGBgaKxcKTJ09wgwoVKogf+fv7jxkzRuVBxfoq0XYCwq5ixYozZ868c+fO1KlTMcCEh4eLH2GCqDflu1eqVAlTaNu27YIFCzDbrwq1RYsWhYSESD+VjiC1YcMGKTHj4uLq1atXuXJlWe5g1rRp07CwsDZt2uAJQYzWqlXrs88+MzU1zXf6DLVXYaipqdBQQ3iVL18erzQ8yvr166tUqSLWqE2bNm327Nm4AS5Mnz4d71BceeDAgbS0NHz2EPfFu9XOzk4cyZYv0VKIoUZkJAoItdu3b2M0QqZcuXLl1KlTAwcORE45ODgMHz4cZYZQe//998UtxZHYMDBcu3btww8/xM1+//13kVPSEZ5UHvT06dMorUmTJmH6mZmZQUFBly5dwpDz119/TZ48GQ9x4sQJMeVOnTpVr17d0dFRDDa476BBgzACIacQaq1atXpVqI0ePdrFxaV+/frSDXABV27bts3JyUlcc/PmzUaNGt24cQNDIOZTHC8UU543b96ePXtq1649atQohtrrYqipqdBQ++9//7tq1aoGDRrgxXb37l0rKyuEGt4dJ0+eFNuf4b2An0pffV6/fv3Bgwd4jyDXli1bhrcVv/ostRhqREaigFCLi4tbvHixCLULFy706dMHC/1atWqNGzdOOdSwNHj69CkCKyQkZE2uxMTEOXPm+Pv7u7q6YmgRoaM8nuFBz5w5g8/69+/fL1++fEpKiqen58WLF/MNNfTcl19+2b17d+XZy87OLjTUMJM+Pj6YSWl5hfnHA2EOMbaJaxBqjRs3jo2NtbGxQZklJCTgyuXLl2/cuHHv3r0MNc0w1NSkzl6f0l6cuI1Yo4Z3B94L0qsaMyOF2vjx45FoCoUCl52dnfFW5Yuz1GKoERkJdb76xEASFhaGXHvzzTdRLVj0K4dafHw8LmAImTRpUpcuXf7++++yZctWrlwZ48qWLVsw/Jw6dUp5qzWZUqhh1KlQoUJycjL6KSYmJt9QQ5BNnDjRy8srb6jNnTvX3d1dLperbPIvhZqYSfEjcSXutXr1auVQa9SoEUINv9qjR48wwuER+/btu2TJEq5R0xhDTU2vdXgOfBDC2yopKalHjx7K7ya8aA8fPowrcfmHH344ffq0OHKHpaUlZjLfyVJpwFAjMhKvCjXxHs/IyFi6dCkW/b6+vrjNd9991717dzMzM5WvPh8+fIjQweCBe+GW9vb2SCj0DT7cP3nyBAOG7BVr1KRQw5jn4uJy7do11A+CT+WrzwcPHlStWlXsyoAH2rp1K2YVyeXs7IzH8vHxeeedd5SHLinU+vXrh5KTrscU2rZtGxAQoBxquDxu3LiKFSviv5gZXG7Xrt38+fP37t1bq1atkSNHMtReF0NNTYWGWt4bC8pbXhZ8M744Sy2GGpGRKCDUrl+/jupKT0+PiIhArKSmpqLS0tLSIiMj/f39+/Tpg1BDig0cODAxMVH2coS4evVq+fLlxdb6YpBACS1btkw5d153jRrSzcvLSznFxBq1AQMGODk5IddQb3nXqI0ePfrUqVMWFhbSzqpyufzs2bO//vorwk7cMjMz8+TJk6g0cQM8BPKiZ8+eU6ZMCQ4Oxm+BOUGYqjxp4sboubCwMHXOcl3aKBSK1atXt2jRwsPDo6TnRSdKJNSIXgtDjchIFBBqaBpkE4aiffv2obSQa8iy27dvo43EXp9i869z5849ffpUlrt7JhouNjYWudOwYUOM02KC5ubmjRo1yverTzW3URs/fny3bt2Uz4QjAq7gbdTi4uIwfdwSszdz5kzcWPZy105pp1QxM3isY8eOSXOIChTbAPXo0QPd9qrDc7i5uaHn0K8MNRVis0VUPp5no3xyRKjhE0inTp0YaqSfGGpERiLfUBNvcOnfHTt2INR+/fVXuVyO/yJoVHYmQAzt2rVr7ty5zs7O1tbWstwN15KSklatWoVEK/OS8oOKvT79/f3FXp9bt2591V6f7dq169WrFx5LCikzMzNHR8dXhZryQdTEvGVkZGBuw8LCxDHelGcGF3DlkSNHDh06pPLlKcJ04MCB/OqT8hKh9ujRo3fffVfL0RB9tnjx4pCQEOUPD0TaY6gRGYkCQk26ASIMYwlCTUoW5e30cQNkWbNmzc6ePevg4CDlXXh4OELn5s2bGIrythSGuvv370vXiGM+zZw5M2+oTZw4EVNW3l3AysoK7VhoqAnigG39+/cPDg7O++uLb0Xv5FIOMlyJkbhFixZ+fn4MNVIhQg0vYHwO0XJSZcuWXbFiBT4nMNSoaDHUiIxEvqGGK+/evYtaysrKwpv9yZMnqamp1apVE2vUBgwYEB0dLdZyiVBDjbVu3ToqKsrW1lbscYauOnXqVJcuXRITEzEU5dtSKmcmwL95Q0359soK+OoTNw4ICNi5c6fyzp4PHjzA/Evbk2VnZ+/du7dKlSriW1R/f//t27f37dtXZVKdO3d2dXXNexYphlopJ0LNycnpgw8+0P6vz68+SRcYakRGotA1avlSXqMmjuLh4+MTHx+/atUqR0dHpA8yC72FyX7yySdq7nqGe+H2CLVvvvlGCrVX3REFqeYatYJJoXb69OnAwECVzdHw30qVKuWdDYZaKcedCUj/MdSIjMTrhppYKTVmzBiEWuvWraW1VsgdtM7FixcfP36Ma6pVq+bm5tawYUNxA3UGM7FRf2pqqpOTE0Ltl19+kRUWavPmzfPw8FA59vrrhhoe92QucRp45R/Z29sPGjRIxlCjf2Ookf5jqBEZiUJPyq5C2gRNpcDElvti5ZnK8uF1RzJpUgXcV53b6A5DrZRjqJH+Y6gRGQnNQk2ii0bJ98CeGtxGdxhqpZBYbSxOCMtQI/3HUCMyEq8baiRjqJVKaWlpoaGh3t7e4pQbDDXScww1IiMhhZq7u7vKxl70KlgAImrbtWsXHh6ek5PDUCsN7t+/X6NGjRYtWqxdu7ZOnTpr1qxhqJE+Y6gRGQkRarVq1bK3t2dwqAkLQLlcvnHjxsGDB2dlZfF5Kw3S09OXLl0qyz1Eraura5UqVYYNG+bl5cVQI/3EUCMyEuLItPkeDJYKIFaqcXVa6fHkyZO1a9fKcg9R26BBgxo1aowcOZKhRnqLoUZkJMR7WRylloheRXz16ebmtmDBgqZNmyKt+NUn6TOGGhERlSLp6ekHDx709vYuW7YsdyYg/cdQIyKiUkQ6PAcuKxQKhhrpOYYaERGVUjyOGuk/hhoRUekiTuoqjuGiXCfKR4It6XksJgw10n+lK9SkX1aDM+GoXKP+FLQ88Lp0dh0iIs0gR4KDg8XCJCsry93dfcOGDf369XN0dIyMjExMTMRtKlas2LFjR1y5dOlSW1vbkp7l4ntmGGqk50pLqEk7xGEhZWpqmvejZMH3xR2fPn2Kf/EOFOd7Vv++gAc1yaX+HZXvXlKnQSQi44BF0OnTp+/evWtlZXXjxg0sxIKCghYuXIhAuX37dnp6OhZuU6dODQkJ8fLyWrdunb29fUnPcjFhqJH+Ky2hJhTJGrXivK+Ma9SISDviC80nT54cOXLE0dExJibmww8/nD17tq+v7zvvvCMWL/gg+v333/v7+yPUAgIC3nrrrVJycguGGuk/htrr3bGY7ytjqBGRdsR3Agi1vXv3Ojs7p6enoyRQYxMnTnRycsLiBT9dsGCBh4dHy5Ytu3XrhmTp27evnZ1dSc94cWCokf4rXaFmBKQvQ1lvRKQOdNjdu3dnzpxZqVIlcZosd3f3v/76y8fHx9HRET8NCgo6fPgw0g3LFoQaUoNffb4uhhrpDkPNkIg/VmxsbN26dd944w22GhEVStpC9/jx47t373748KGZmdl7773n5+eHHw0ZMqRly5bDhw+Xy+U5OTkMNc0w1Eh3GGoGRvlQjQw1IlIHlhsKheKzzz4LCAhApYk+GzduXOPGjVNSUqysrMRK+uzs7B49enBnAg0w1Eh3GGpEREZOLOfDw8M3b96cmJhYtmzZtm3bjhkzRmXFPELN29t7zZo1pTDUOnXqpM1oiPvi83O/fv02bNjAUKOixVAjIjJyYjkv1seLa8RRbVXWIZXaA95GR0e/9dZbWk4K1RsUFHTs2LEqVaqU9K9FRoWhRkREpVR2dvavv/4aEhKCC9pPzdTUdPLkyVZWViX9a5FRYagREVEp9fylopogd/OiIsdQIyIiItJTDDUiIiIiPcVQIyIiItJTxRdq0m5HPMU4ERERkTqKO9Tu3r1ra2srl8tlbDUiIiKiApXAGjXpv+Lw+kRERESUr+LeRk354bhGjYiIiKgAJbMzgXhQhhoRERFRAbjXJxEREZGeYqgRERER6SmGGhEREZGeYqgRERER6SmGGhEREZGeYqgRERER6SmGGhEREZGeYqgRERER6SmGGhEREZGeYqgRERER6SmGGhEREZGeYqgRERER6SmGGhEREZGeYqgRERER6SmGGhEREZGeYqgRERER6SmGGhEREZGeYqgRERER6SmGGhEREZGeYqgRERER6SmGGhEREZGeYqgRERER6SmGGhEREZGeYqgRERER6SmGGhEREZGeYqgRERER6SmGGhEREZGeYqgRERER6SmGGhEREZGeYqgRERER6SmGGhEREZGeYqgRERER6SmGGhEREZGeYqgRERER6SmGGhEREZGeYqgRERER6SmGGhEREZGeYqgRERER6SmGGhEREZGeYqgRERER6SmGGhEREZGeYqgRERER6SmGGhEREZGeYqgRERER6an/A83n6lEuVdFFAAAAAElFTkSuQmCC)"
      ],
      "metadata": {
        "id": "E67EIXjUI6Dl"
      }
    },
    {
      "cell_type": "code",
      "source": [
        "from sklearn.model_selection import KFold\n",
        "from sklearn.metrics import mean_absolute_error\n",
        "\n",
        "# 개별 모델에서 최종 메타모델이 사용할 학습/테스트 데이터 생성을 위한 함수\n",
        "\n",
        "def get_stacking_base_datasets(model, X_train, y_train, X_test, n_folds ):\n",
        "    # 지정된 n_folds값으로 KFold 생성.\n",
        "    kf = KFold(n_splits=n_folds, shuffle=False)\n",
        "    \n",
        "    # 추후에 메타 모델이 사용할 학습 데이터 반환을 위한 넘파이 배열 초기화 \n",
        "    train_fold_pred = np.zeros((X_train.shape[0] ,1 ))\n",
        "    test_pred = np.zeros((X_test.shape[0], n_folds))\n",
        "    print(model.__class__.__name__ , ' model 시작 ')\n",
        "    \n",
        "    for folder_counter , (train_index, valid_index) in enumerate(kf.split(X_train)):\n",
        "        # 입력된 학습 데이터에서 개별 모델이 학습/예측할 폴드 데이터 셋으로 분리\n",
        "        # 즉, X_train으로 개별 모델은 학습과 예측하고, 그 결과로 최종 메타모델이 학습/예측할 데이터 셋 생성\n",
        "        print('\\t 폴드 세트: ',folder_counter,' 시작 ')\n",
        "        X_tr = X_train[train_index] \n",
        "        y_tr = y_train[train_index] \n",
        "        X_te = X_train[valid_index]  \n",
        "        \n",
        "        # 폴드 세트 내부에서 다시 만들어진 학습 데이터로 기반 모델의 학습 수행.\n",
        "        model.fit(X_tr , y_tr)\n",
        "        \n",
        "        # 폴드 세트 내부에서 다시 만들어진 검증 데이터로 기반 모델 예측 후 데이터 저장.\n",
        "        train_fold_pred[valid_index, :] = model.predict(X_te).reshape(-1,1)\n",
        "        \n",
        "        # X_train의 교차검증으로 학습한 개별 모델이 X_test로 테스트한 결과를 test_pred에 저장하여 이후에 최종 메타 모델이 사용\n",
        "        test_pred[:, folder_counter] = model.predict(X_test)\n",
        "            \n",
        "    # 폴드 세트 내에서 원본 테스트 데이터를 예측한 데이터를 평균하여 테스트 데이터로 생성 \n",
        "    test_pred_mean = np.mean(test_pred, axis=1).reshape(-1,1)    \n",
        "    \n",
        "    # train_fold_pred는 최종 메타 모델이 사용하는 학습 데이터, test_pred_mean은 테스트 데이터\n",
        "    return train_fold_pred , test_pred_mean"
      ],
      "metadata": {
        "id": "NJWRuI-aLYeW"
      },
      "execution_count": null,
      "outputs": []
    },
    {
      "cell_type": "code",
      "source": [
        "# 내부 구동 이해\n",
        "\n",
        "from sklearn.model_selection import KFold\n",
        "from sklearn.metrics import mean_absolute_error\n",
        "\n",
        "kf = KFold(n_splits=7, shuffle=False)\n",
        "for folder_counter , (train_index, valid_index) in enumerate(kf.split(X_train)):\n",
        "        #입력된 학습 데이터에서 기반 모델이 학습/예측할 폴드 데이터 셋 추출 \n",
        "        print('\\t 폴드 세트: ',folder_counter,' 시작 ')\n",
        "        print(train_index)\n",
        "        print(valid_index)"
      ],
      "metadata": {
        "colab": {
          "base_uri": "https://localhost:8080/"
        },
        "id": "KKp8SVMNI5qd",
        "outputId": "10434fb7-41b3-4549-d75a-4b75eea56f97"
      },
      "execution_count": null,
      "outputs": [
        {
          "output_type": "stream",
          "name": "stdout",
          "text": [
            "\t 폴드 세트:  0  시작 \n",
            "[ 65  66  67  68  69  70  71  72  73  74  75  76  77  78  79  80  81  82\n",
            "  83  84  85  86  87  88  89  90  91  92  93  94  95  96  97  98  99 100\n",
            " 101 102 103 104 105 106 107 108 109 110 111 112 113 114 115 116 117 118\n",
            " 119 120 121 122 123 124 125 126 127 128 129 130 131 132 133 134 135 136\n",
            " 137 138 139 140 141 142 143 144 145 146 147 148 149 150 151 152 153 154\n",
            " 155 156 157 158 159 160 161 162 163 164 165 166 167 168 169 170 171 172\n",
            " 173 174 175 176 177 178 179 180 181 182 183 184 185 186 187 188 189 190\n",
            " 191 192 193 194 195 196 197 198 199 200 201 202 203 204 205 206 207 208\n",
            " 209 210 211 212 213 214 215 216 217 218 219 220 221 222 223 224 225 226\n",
            " 227 228 229 230 231 232 233 234 235 236 237 238 239 240 241 242 243 244\n",
            " 245 246 247 248 249 250 251 252 253 254 255 256 257 258 259 260 261 262\n",
            " 263 264 265 266 267 268 269 270 271 272 273 274 275 276 277 278 279 280\n",
            " 281 282 283 284 285 286 287 288 289 290 291 292 293 294 295 296 297 298\n",
            " 299 300 301 302 303 304 305 306 307 308 309 310 311 312 313 314 315 316\n",
            " 317 318 319 320 321 322 323 324 325 326 327 328 329 330 331 332 333 334\n",
            " 335 336 337 338 339 340 341 342 343 344 345 346 347 348 349 350 351 352\n",
            " 353 354 355 356 357 358 359 360 361 362 363 364 365 366 367 368 369 370\n",
            " 371 372 373 374 375 376 377 378 379 380 381 382 383 384 385 386 387 388\n",
            " 389 390 391 392 393 394 395 396 397 398 399 400 401 402 403 404 405 406\n",
            " 407 408 409 410 411 412 413 414 415 416 417 418 419 420 421 422 423 424\n",
            " 425 426 427 428 429 430 431 432 433 434 435 436 437 438 439 440 441 442\n",
            " 443 444 445 446 447 448 449 450 451 452 453 454]\n",
            "[ 0  1  2  3  4  5  6  7  8  9 10 11 12 13 14 15 16 17 18 19 20 21 22 23\n",
            " 24 25 26 27 28 29 30 31 32 33 34 35 36 37 38 39 40 41 42 43 44 45 46 47\n",
            " 48 49 50 51 52 53 54 55 56 57 58 59 60 61 62 63 64]\n",
            "\t 폴드 세트:  1  시작 \n",
            "[  0   1   2   3   4   5   6   7   8   9  10  11  12  13  14  15  16  17\n",
            "  18  19  20  21  22  23  24  25  26  27  28  29  30  31  32  33  34  35\n",
            "  36  37  38  39  40  41  42  43  44  45  46  47  48  49  50  51  52  53\n",
            "  54  55  56  57  58  59  60  61  62  63  64 130 131 132 133 134 135 136\n",
            " 137 138 139 140 141 142 143 144 145 146 147 148 149 150 151 152 153 154\n",
            " 155 156 157 158 159 160 161 162 163 164 165 166 167 168 169 170 171 172\n",
            " 173 174 175 176 177 178 179 180 181 182 183 184 185 186 187 188 189 190\n",
            " 191 192 193 194 195 196 197 198 199 200 201 202 203 204 205 206 207 208\n",
            " 209 210 211 212 213 214 215 216 217 218 219 220 221 222 223 224 225 226\n",
            " 227 228 229 230 231 232 233 234 235 236 237 238 239 240 241 242 243 244\n",
            " 245 246 247 248 249 250 251 252 253 254 255 256 257 258 259 260 261 262\n",
            " 263 264 265 266 267 268 269 270 271 272 273 274 275 276 277 278 279 280\n",
            " 281 282 283 284 285 286 287 288 289 290 291 292 293 294 295 296 297 298\n",
            " 299 300 301 302 303 304 305 306 307 308 309 310 311 312 313 314 315 316\n",
            " 317 318 319 320 321 322 323 324 325 326 327 328 329 330 331 332 333 334\n",
            " 335 336 337 338 339 340 341 342 343 344 345 346 347 348 349 350 351 352\n",
            " 353 354 355 356 357 358 359 360 361 362 363 364 365 366 367 368 369 370\n",
            " 371 372 373 374 375 376 377 378 379 380 381 382 383 384 385 386 387 388\n",
            " 389 390 391 392 393 394 395 396 397 398 399 400 401 402 403 404 405 406\n",
            " 407 408 409 410 411 412 413 414 415 416 417 418 419 420 421 422 423 424\n",
            " 425 426 427 428 429 430 431 432 433 434 435 436 437 438 439 440 441 442\n",
            " 443 444 445 446 447 448 449 450 451 452 453 454]\n",
            "[ 65  66  67  68  69  70  71  72  73  74  75  76  77  78  79  80  81  82\n",
            "  83  84  85  86  87  88  89  90  91  92  93  94  95  96  97  98  99 100\n",
            " 101 102 103 104 105 106 107 108 109 110 111 112 113 114 115 116 117 118\n",
            " 119 120 121 122 123 124 125 126 127 128 129]\n",
            "\t 폴드 세트:  2  시작 \n",
            "[  0   1   2   3   4   5   6   7   8   9  10  11  12  13  14  15  16  17\n",
            "  18  19  20  21  22  23  24  25  26  27  28  29  30  31  32  33  34  35\n",
            "  36  37  38  39  40  41  42  43  44  45  46  47  48  49  50  51  52  53\n",
            "  54  55  56  57  58  59  60  61  62  63  64  65  66  67  68  69  70  71\n",
            "  72  73  74  75  76  77  78  79  80  81  82  83  84  85  86  87  88  89\n",
            "  90  91  92  93  94  95  96  97  98  99 100 101 102 103 104 105 106 107\n",
            " 108 109 110 111 112 113 114 115 116 117 118 119 120 121 122 123 124 125\n",
            " 126 127 128 129 195 196 197 198 199 200 201 202 203 204 205 206 207 208\n",
            " 209 210 211 212 213 214 215 216 217 218 219 220 221 222 223 224 225 226\n",
            " 227 228 229 230 231 232 233 234 235 236 237 238 239 240 241 242 243 244\n",
            " 245 246 247 248 249 250 251 252 253 254 255 256 257 258 259 260 261 262\n",
            " 263 264 265 266 267 268 269 270 271 272 273 274 275 276 277 278 279 280\n",
            " 281 282 283 284 285 286 287 288 289 290 291 292 293 294 295 296 297 298\n",
            " 299 300 301 302 303 304 305 306 307 308 309 310 311 312 313 314 315 316\n",
            " 317 318 319 320 321 322 323 324 325 326 327 328 329 330 331 332 333 334\n",
            " 335 336 337 338 339 340 341 342 343 344 345 346 347 348 349 350 351 352\n",
            " 353 354 355 356 357 358 359 360 361 362 363 364 365 366 367 368 369 370\n",
            " 371 372 373 374 375 376 377 378 379 380 381 382 383 384 385 386 387 388\n",
            " 389 390 391 392 393 394 395 396 397 398 399 400 401 402 403 404 405 406\n",
            " 407 408 409 410 411 412 413 414 415 416 417 418 419 420 421 422 423 424\n",
            " 425 426 427 428 429 430 431 432 433 434 435 436 437 438 439 440 441 442\n",
            " 443 444 445 446 447 448 449 450 451 452 453 454]\n",
            "[130 131 132 133 134 135 136 137 138 139 140 141 142 143 144 145 146 147\n",
            " 148 149 150 151 152 153 154 155 156 157 158 159 160 161 162 163 164 165\n",
            " 166 167 168 169 170 171 172 173 174 175 176 177 178 179 180 181 182 183\n",
            " 184 185 186 187 188 189 190 191 192 193 194]\n",
            "\t 폴드 세트:  3  시작 \n",
            "[  0   1   2   3   4   5   6   7   8   9  10  11  12  13  14  15  16  17\n",
            "  18  19  20  21  22  23  24  25  26  27  28  29  30  31  32  33  34  35\n",
            "  36  37  38  39  40  41  42  43  44  45  46  47  48  49  50  51  52  53\n",
            "  54  55  56  57  58  59  60  61  62  63  64  65  66  67  68  69  70  71\n",
            "  72  73  74  75  76  77  78  79  80  81  82  83  84  85  86  87  88  89\n",
            "  90  91  92  93  94  95  96  97  98  99 100 101 102 103 104 105 106 107\n",
            " 108 109 110 111 112 113 114 115 116 117 118 119 120 121 122 123 124 125\n",
            " 126 127 128 129 130 131 132 133 134 135 136 137 138 139 140 141 142 143\n",
            " 144 145 146 147 148 149 150 151 152 153 154 155 156 157 158 159 160 161\n",
            " 162 163 164 165 166 167 168 169 170 171 172 173 174 175 176 177 178 179\n",
            " 180 181 182 183 184 185 186 187 188 189 190 191 192 193 194 260 261 262\n",
            " 263 264 265 266 267 268 269 270 271 272 273 274 275 276 277 278 279 280\n",
            " 281 282 283 284 285 286 287 288 289 290 291 292 293 294 295 296 297 298\n",
            " 299 300 301 302 303 304 305 306 307 308 309 310 311 312 313 314 315 316\n",
            " 317 318 319 320 321 322 323 324 325 326 327 328 329 330 331 332 333 334\n",
            " 335 336 337 338 339 340 341 342 343 344 345 346 347 348 349 350 351 352\n",
            " 353 354 355 356 357 358 359 360 361 362 363 364 365 366 367 368 369 370\n",
            " 371 372 373 374 375 376 377 378 379 380 381 382 383 384 385 386 387 388\n",
            " 389 390 391 392 393 394 395 396 397 398 399 400 401 402 403 404 405 406\n",
            " 407 408 409 410 411 412 413 414 415 416 417 418 419 420 421 422 423 424\n",
            " 425 426 427 428 429 430 431 432 433 434 435 436 437 438 439 440 441 442\n",
            " 443 444 445 446 447 448 449 450 451 452 453 454]\n",
            "[195 196 197 198 199 200 201 202 203 204 205 206 207 208 209 210 211 212\n",
            " 213 214 215 216 217 218 219 220 221 222 223 224 225 226 227 228 229 230\n",
            " 231 232 233 234 235 236 237 238 239 240 241 242 243 244 245 246 247 248\n",
            " 249 250 251 252 253 254 255 256 257 258 259]\n",
            "\t 폴드 세트:  4  시작 \n",
            "[  0   1   2   3   4   5   6   7   8   9  10  11  12  13  14  15  16  17\n",
            "  18  19  20  21  22  23  24  25  26  27  28  29  30  31  32  33  34  35\n",
            "  36  37  38  39  40  41  42  43  44  45  46  47  48  49  50  51  52  53\n",
            "  54  55  56  57  58  59  60  61  62  63  64  65  66  67  68  69  70  71\n",
            "  72  73  74  75  76  77  78  79  80  81  82  83  84  85  86  87  88  89\n",
            "  90  91  92  93  94  95  96  97  98  99 100 101 102 103 104 105 106 107\n",
            " 108 109 110 111 112 113 114 115 116 117 118 119 120 121 122 123 124 125\n",
            " 126 127 128 129 130 131 132 133 134 135 136 137 138 139 140 141 142 143\n",
            " 144 145 146 147 148 149 150 151 152 153 154 155 156 157 158 159 160 161\n",
            " 162 163 164 165 166 167 168 169 170 171 172 173 174 175 176 177 178 179\n",
            " 180 181 182 183 184 185 186 187 188 189 190 191 192 193 194 195 196 197\n",
            " 198 199 200 201 202 203 204 205 206 207 208 209 210 211 212 213 214 215\n",
            " 216 217 218 219 220 221 222 223 224 225 226 227 228 229 230 231 232 233\n",
            " 234 235 236 237 238 239 240 241 242 243 244 245 246 247 248 249 250 251\n",
            " 252 253 254 255 256 257 258 259 325 326 327 328 329 330 331 332 333 334\n",
            " 335 336 337 338 339 340 341 342 343 344 345 346 347 348 349 350 351 352\n",
            " 353 354 355 356 357 358 359 360 361 362 363 364 365 366 367 368 369 370\n",
            " 371 372 373 374 375 376 377 378 379 380 381 382 383 384 385 386 387 388\n",
            " 389 390 391 392 393 394 395 396 397 398 399 400 401 402 403 404 405 406\n",
            " 407 408 409 410 411 412 413 414 415 416 417 418 419 420 421 422 423 424\n",
            " 425 426 427 428 429 430 431 432 433 434 435 436 437 438 439 440 441 442\n",
            " 443 444 445 446 447 448 449 450 451 452 453 454]\n",
            "[260 261 262 263 264 265 266 267 268 269 270 271 272 273 274 275 276 277\n",
            " 278 279 280 281 282 283 284 285 286 287 288 289 290 291 292 293 294 295\n",
            " 296 297 298 299 300 301 302 303 304 305 306 307 308 309 310 311 312 313\n",
            " 314 315 316 317 318 319 320 321 322 323 324]\n",
            "\t 폴드 세트:  5  시작 \n",
            "[  0   1   2   3   4   5   6   7   8   9  10  11  12  13  14  15  16  17\n",
            "  18  19  20  21  22  23  24  25  26  27  28  29  30  31  32  33  34  35\n",
            "  36  37  38  39  40  41  42  43  44  45  46  47  48  49  50  51  52  53\n",
            "  54  55  56  57  58  59  60  61  62  63  64  65  66  67  68  69  70  71\n",
            "  72  73  74  75  76  77  78  79  80  81  82  83  84  85  86  87  88  89\n",
            "  90  91  92  93  94  95  96  97  98  99 100 101 102 103 104 105 106 107\n",
            " 108 109 110 111 112 113 114 115 116 117 118 119 120 121 122 123 124 125\n",
            " 126 127 128 129 130 131 132 133 134 135 136 137 138 139 140 141 142 143\n",
            " 144 145 146 147 148 149 150 151 152 153 154 155 156 157 158 159 160 161\n",
            " 162 163 164 165 166 167 168 169 170 171 172 173 174 175 176 177 178 179\n",
            " 180 181 182 183 184 185 186 187 188 189 190 191 192 193 194 195 196 197\n",
            " 198 199 200 201 202 203 204 205 206 207 208 209 210 211 212 213 214 215\n",
            " 216 217 218 219 220 221 222 223 224 225 226 227 228 229 230 231 232 233\n",
            " 234 235 236 237 238 239 240 241 242 243 244 245 246 247 248 249 250 251\n",
            " 252 253 254 255 256 257 258 259 260 261 262 263 264 265 266 267 268 269\n",
            " 270 271 272 273 274 275 276 277 278 279 280 281 282 283 284 285 286 287\n",
            " 288 289 290 291 292 293 294 295 296 297 298 299 300 301 302 303 304 305\n",
            " 306 307 308 309 310 311 312 313 314 315 316 317 318 319 320 321 322 323\n",
            " 324 390 391 392 393 394 395 396 397 398 399 400 401 402 403 404 405 406\n",
            " 407 408 409 410 411 412 413 414 415 416 417 418 419 420 421 422 423 424\n",
            " 425 426 427 428 429 430 431 432 433 434 435 436 437 438 439 440 441 442\n",
            " 443 444 445 446 447 448 449 450 451 452 453 454]\n",
            "[325 326 327 328 329 330 331 332 333 334 335 336 337 338 339 340 341 342\n",
            " 343 344 345 346 347 348 349 350 351 352 353 354 355 356 357 358 359 360\n",
            " 361 362 363 364 365 366 367 368 369 370 371 372 373 374 375 376 377 378\n",
            " 379 380 381 382 383 384 385 386 387 388 389]\n",
            "\t 폴드 세트:  6  시작 \n",
            "[  0   1   2   3   4   5   6   7   8   9  10  11  12  13  14  15  16  17\n",
            "  18  19  20  21  22  23  24  25  26  27  28  29  30  31  32  33  34  35\n",
            "  36  37  38  39  40  41  42  43  44  45  46  47  48  49  50  51  52  53\n",
            "  54  55  56  57  58  59  60  61  62  63  64  65  66  67  68  69  70  71\n",
            "  72  73  74  75  76  77  78  79  80  81  82  83  84  85  86  87  88  89\n",
            "  90  91  92  93  94  95  96  97  98  99 100 101 102 103 104 105 106 107\n",
            " 108 109 110 111 112 113 114 115 116 117 118 119 120 121 122 123 124 125\n",
            " 126 127 128 129 130 131 132 133 134 135 136 137 138 139 140 141 142 143\n",
            " 144 145 146 147 148 149 150 151 152 153 154 155 156 157 158 159 160 161\n",
            " 162 163 164 165 166 167 168 169 170 171 172 173 174 175 176 177 178 179\n",
            " 180 181 182 183 184 185 186 187 188 189 190 191 192 193 194 195 196 197\n",
            " 198 199 200 201 202 203 204 205 206 207 208 209 210 211 212 213 214 215\n",
            " 216 217 218 219 220 221 222 223 224 225 226 227 228 229 230 231 232 233\n",
            " 234 235 236 237 238 239 240 241 242 243 244 245 246 247 248 249 250 251\n",
            " 252 253 254 255 256 257 258 259 260 261 262 263 264 265 266 267 268 269\n",
            " 270 271 272 273 274 275 276 277 278 279 280 281 282 283 284 285 286 287\n",
            " 288 289 290 291 292 293 294 295 296 297 298 299 300 301 302 303 304 305\n",
            " 306 307 308 309 310 311 312 313 314 315 316 317 318 319 320 321 322 323\n",
            " 324 325 326 327 328 329 330 331 332 333 334 335 336 337 338 339 340 341\n",
            " 342 343 344 345 346 347 348 349 350 351 352 353 354 355 356 357 358 359\n",
            " 360 361 362 363 364 365 366 367 368 369 370 371 372 373 374 375 376 377\n",
            " 378 379 380 381 382 383 384 385 386 387 388 389]\n",
            "[390 391 392 393 394 395 396 397 398 399 400 401 402 403 404 405 406 407\n",
            " 408 409 410 411 412 413 414 415 416 417 418 419 420 421 422 423 424 425\n",
            " 426 427 428 429 430 431 432 433 434 435 436 437 438 439 440 441 442 443\n",
            " 444 445 446 447 448 449 450 451 452 453 454]\n"
          ]
        }
      ]
    },
    {
      "cell_type": "code",
      "source": [
        "knn_train, knn_test = get_stacking_base_datasets(knn, X_train, y_train, X_test, 7)\n",
        "rf_train, rf_test = get_stacking_base_datasets(rf, X_train, y_train, X_test, 7)\n",
        "dt_train, dt_test = get_stacking_base_datasets(dt, X_train, y_train, X_test, 7)\n",
        "ada_train, ada_test = get_stacking_base_datasets(ada, X_train, y_train, X_test, 7)"
      ],
      "metadata": {
        "colab": {
          "base_uri": "https://localhost:8080/"
        },
        "id": "YPrucnkhL03V",
        "outputId": "dad10dad-af18-4639-fdca-80062dd690ce"
      },
      "execution_count": null,
      "outputs": [
        {
          "output_type": "stream",
          "name": "stdout",
          "text": [
            "KNeighborsClassifier  model 시작 \n",
            "\t 폴드 세트:  0  시작 \n",
            "\t 폴드 세트:  1  시작 \n",
            "\t 폴드 세트:  2  시작 \n",
            "\t 폴드 세트:  3  시작 \n",
            "\t 폴드 세트:  4  시작 \n",
            "\t 폴드 세트:  5  시작 \n",
            "\t 폴드 세트:  6  시작 \n",
            "RandomForestClassifier  model 시작 \n",
            "\t 폴드 세트:  0  시작 \n",
            "\t 폴드 세트:  1  시작 \n",
            "\t 폴드 세트:  2  시작 \n",
            "\t 폴드 세트:  3  시작 \n",
            "\t 폴드 세트:  4  시작 \n",
            "\t 폴드 세트:  5  시작 \n",
            "\t 폴드 세트:  6  시작 \n",
            "DecisionTreeClassifier  model 시작 \n",
            "\t 폴드 세트:  0  시작 \n",
            "\t 폴드 세트:  1  시작 \n",
            "\t 폴드 세트:  2  시작 \n",
            "\t 폴드 세트:  3  시작 \n",
            "\t 폴드 세트:  4  시작 \n",
            "\t 폴드 세트:  5  시작 \n",
            "\t 폴드 세트:  6  시작 \n",
            "AdaBoostClassifier  model 시작 \n",
            "\t 폴드 세트:  0  시작 \n",
            "\t 폴드 세트:  1  시작 \n",
            "\t 폴드 세트:  2  시작 \n",
            "\t 폴드 세트:  3  시작 \n",
            "\t 폴드 세트:  4  시작 \n",
            "\t 폴드 세트:  5  시작 \n",
            "\t 폴드 세트:  6  시작 \n"
          ]
        }
      ]
    },
    {
      "cell_type": "code",
      "source": [
        "Stack_final_X_train = np.concatenate((knn_train, rf_train, dt_train, ada_train), axis=1)\n",
        "Stack_final_X_test = np.concatenate((knn_test, rf_test, dt_test, ada_test), axis=1)\n",
        "print('원본 학습 피처 데이터 Shape:',X_train.shape, '원본 테스트 피처 Shape:',X_test.shape)\n",
        "print('스태킹 학습 피처 데이터 Shape:', Stack_final_X_train.shape,\n",
        "      '스태킹 테스트 피처 데이터 Shape:',Stack_final_X_test.shape)"
      ],
      "metadata": {
        "colab": {
          "base_uri": "https://localhost:8080/"
        },
        "id": "rSUfUU6HOdX1",
        "outputId": "e3984a33-896b-4a73-c343-bcae7b32e0b1"
      },
      "execution_count": null,
      "outputs": [
        {
          "output_type": "stream",
          "name": "stdout",
          "text": [
            "원본 학습 피처 데이터 Shape: (455, 30) 원본 테스트 피처 Shape: (114, 30)\n",
            "스태킹 학습 피처 데이터 Shape: (455, 4) 스태킹 테스트 피처 데이터 Shape: (114, 4)\n"
          ]
        }
      ]
    },
    {
      "cell_type": "code",
      "source": [
        "lr.fit(Stack_final_X_train, y_train)\n",
        "stack_final = lr.predict(Stack_final_X_test)\n",
        "\n",
        "print(accuracy_score(y_test, stack_final))"
      ],
      "metadata": {
        "colab": {
          "base_uri": "https://localhost:8080/"
        },
        "id": "8pTXTMqIPI28",
        "outputId": "6c282b9e-51e1-4f04-bb8d-1efaee8b18c4"
      },
      "execution_count": null,
      "outputs": [
        {
          "output_type": "stream",
          "name": "stdout",
          "text": [
            "0.9736842105263158\n"
          ]
        }
      ]
    }
  ]
}