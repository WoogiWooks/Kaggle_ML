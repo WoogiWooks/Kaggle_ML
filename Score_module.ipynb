{
  "nbformat": 4,
  "nbformat_minor": 0,
  "metadata": {
    "colab": {
      "name": "Score module.ipynb",
      "provenance": [],
      "collapsed_sections": [],
      "authorship_tag": "ABX9TyOhsy388Fm41MOT1NtAMuCK",
      "include_colab_link": true
    },
    "kernelspec": {
      "name": "python3",
      "display_name": "Python 3"
    },
    "language_info": {
      "name": "python"
    }
  },
  "cells": [
    {
      "cell_type": "markdown",
      "metadata": {
        "id": "view-in-github",
        "colab_type": "text"
      },
      "source": [
        "<a href=\"https://colab.research.google.com/github/WoogiWooks/Kaggle_ML/blob/main/Score_module.ipynb\" target=\"_parent\"><img src=\"https://colab.research.google.com/assets/colab-badge.svg\" alt=\"Open In Colab\"/></a>"
      ]
    },
    {
      "cell_type": "code",
      "source": [
        "from sklearn.metrics import accuracy_score, precision_score, recall_score, confusion_matrix, f1_score, roc_auc_score, roc_curve, precision_recall_curve\n",
        "from sklearn.preprocessing import Binarizer\n",
        "import matplotlib.pyplot as plt\n",
        "import numpy as np"
      ],
      "metadata": {
        "id": "ia25SbelWUpk"
      },
      "execution_count": null,
      "outputs": []
    },
    {
      "cell_type": "code",
      "execution_count": null,
      "metadata": {
        "id": "6WWtXxrJ1l1T"
      },
      "outputs": [],
      "source": [
        "def classify_score(y_test, pred, pred_proba=None):\n",
        "  confusion = confusion_matrix(y_test, pred)\n",
        "  accuracy = accuracy_score(y_test, pred)\n",
        "  precision = precision_score(y_test, pred)\n",
        "  recall = recall_score(y_test, pred)\n",
        "  f1 = f1_score(y_test, pred)\n",
        "  roc_auc = roc_auc_score(y_test, pred_proba)\n",
        "  print('정확도:', format(accuracy, \".4f\"))\n",
        "  print('정밀도:', format(precision, \".4f\"))\n",
        "  print('재현율:', format(recall, \".4f\"))\n",
        "  print('F1:', format(f1, \".4f\"))\n",
        "  print('ROC:', format(roc_auc, \".4f\"))"
      ]
    },
    {
      "cell_type": "code",
      "source": [
        "# 임계값에 따른 성능 표시\n",
        "# 테스트할 임계값을 리스트로 설정해야함\n",
        "# pred_proba = estimator.predict_proba(X_test)[:, 1]\n",
        "\n",
        "def classify_score_by_threshold(y_test, pred_proba, thresholds):\n",
        "  pred_proba_reshape = pred_proba.reshape(-1, 1)\n",
        "  for i in thresholds:\n",
        "    binarizer = Binarizer(threshold=i).fit(pred_proba_reshape)\n",
        "    predict = binarizer.transform(pred_proba_reshape)\n",
        "    print(\"임계값:\", i)\n",
        "    classify_score(y_test, predict, pred_proba)\n",
        "    print(\"\\n\")"
      ],
      "metadata": {
        "id": "6efB9k5PWRQ8"
      },
      "execution_count": null,
      "outputs": []
    },
    {
      "cell_type": "code",
      "source": [
        "# 정밀-재현 트레이드오프\n",
        "# pred_proba = estimator.predict_proba(X_test)[:, 1]\n",
        "\n",
        "def pr_curve_plot(y_test, pred_proba):\n",
        "  precision, recall, threshold = precision_recall_curve(y_test, pred_proba)\n",
        "  plt.figure(figsize=(8, 6))\n",
        "  plt.plot(threshold, precision[0: threshold.shape[0]], linestyle=\"--\", label = \"precision\")\n",
        "  plt.plot(threshold, recall[0: threshold.shape[0]], label = \"recall\")\n",
        "  start, end = plt.xlim()\n",
        "  plt.xticks(np.round(np.arange(start, end, 0.1), 2))\n",
        "  plt.xlabel(\"Threshold Value\")\n",
        "  plt.ylabel(\"Precision and Recall Value\")\n",
        "  plt.legend()\n",
        "  plt.grid()\n",
        "  plt.show()"
      ],
      "metadata": {
        "id": "SyI1LoRoOZom"
      },
      "execution_count": null,
      "outputs": []
    },
    {
      "cell_type": "code",
      "source": [
        ""
      ],
      "metadata": {
        "id": "k09HAqoVwVE2"
      },
      "execution_count": null,
      "outputs": []
    }
  ]
}